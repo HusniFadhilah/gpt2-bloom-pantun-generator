{
 "cells": [
  {
   "cell_type": "code",
   "execution_count": 1,
   "id": "e3791bf2",
   "metadata": {
    "execution": {
     "iopub.execute_input": "2024-06-08T04:47:49.524064Z",
     "iopub.status.busy": "2024-06-08T04:47:49.523692Z",
     "iopub.status.idle": "2024-06-08T04:47:58.098305Z",
     "shell.execute_reply": "2024-06-08T04:47:58.097286Z"
    },
    "papermill": {
     "duration": 8.587603,
     "end_time": "2024-06-08T04:47:58.100425",
     "exception": false,
     "start_time": "2024-06-08T04:47:49.512822",
     "status": "completed"
    },
    "tags": []
   },
   "outputs": [
    {
     "name": "stdout",
     "output_type": "stream",
     "text": [
      "[nltk_data] Downloading package punkt to /usr/share/nltk_data...\n",
      "[nltk_data]   Package punkt is already up-to-date!\n"
     ]
    }
   ],
   "source": [
    "import pandas as pd\n",
    "import numpy as np\n",
    "import seaborn as sns\n",
    "import matplotlib.pyplot as plt\n",
    "import random, json, time, datetime, os, torch, nltk\n",
    "from transformers import GPT2Tokenizer, GPT2LMHeadModel, GPT2Config\n",
    "from transformers import AutoTokenizer, BloomForCausalLM\n",
    "from transformers import AdamW, get_linear_schedule_with_warmup\n",
    "from torch.utils.data import Dataset, random_split, DataLoader, RandomSampler, SequentialSampler\n",
    "\n",
    "nltk.download('punkt')\n",
    "pd.set_option('display.max_colwidth', None)"
   ]
  },
  {
   "cell_type": "code",
   "execution_count": 2,
   "id": "e0a7186e",
   "metadata": {
    "execution": {
     "iopub.execute_input": "2024-06-08T04:47:58.119931Z",
     "iopub.status.busy": "2024-06-08T04:47:58.119443Z",
     "iopub.status.idle": "2024-06-08T04:47:58.176813Z",
     "shell.execute_reply": "2024-06-08T04:47:58.175869Z"
    },
    "papermill": {
     "duration": 0.069364,
     "end_time": "2024-06-08T04:47:58.178964",
     "exception": false,
     "start_time": "2024-06-08T04:47:58.109600",
     "status": "completed"
    },
    "tags": []
   },
   "outputs": [
    {
     "data": {
      "text/plain": [
       "device(type='cuda', index=0)"
      ]
     },
     "execution_count": 2,
     "metadata": {},
     "output_type": "execute_result"
    }
   ],
   "source": [
    "model_name = 'gpt2'\n",
    "# model_name = 'flax-community/gpt2-small-indonesian'\n",
    "# model_name = 'akahana/gpt2-indonesia'\n",
    "# model_name = 'cahya/gpt2-small-indonesian-522M' \n",
    "epochs = 100\n",
    "batch_size = 8\n",
    "max_length = 100\n",
    "warmup_steps = 1e2\n",
    "sample_every = 100\n",
    "seed_val = 42\n",
    "random.seed(seed_val)\n",
    "np.random.seed(seed_val)\n",
    "torch.manual_seed(seed_val)\n",
    "torch.cuda.manual_seed_all(seed_val)\n",
    "output_dir = \"/kaggle/working/\"\n",
    "device = torch.device(\"cuda:0\" if torch.cuda.is_available() else \"cpu\")\n",
    "device"
   ]
  },
  {
   "cell_type": "code",
   "execution_count": 3,
   "id": "6295b2bd",
   "metadata": {
    "execution": {
     "iopub.execute_input": "2024-06-08T04:47:58.199756Z",
     "iopub.status.busy": "2024-06-08T04:47:58.198989Z",
     "iopub.status.idle": "2024-06-08T04:47:58.206116Z",
     "shell.execute_reply": "2024-06-08T04:47:58.205171Z"
    },
    "papermill": {
     "duration": 0.01961,
     "end_time": "2024-06-08T04:47:58.208252",
     "exception": false,
     "start_time": "2024-06-08T04:47:58.188642",
     "status": "completed"
    },
    "tags": []
   },
   "outputs": [],
   "source": [
    "def load_model_tokenizer(model_name_or_dir, ablated_component=None):\n",
    "    bos_token,eos_token,pad_token='<|startoftext|>','<|endoftext|>','<|pad|>'\n",
    "    # Load from Hugging Face's model hub if it's a name\n",
    "    tokenizer = GPT2Tokenizer.from_pretrained(model_name_or_dir,\n",
    "                                              bos_token=bos_token,\n",
    "                                              eos_token=eos_token,\n",
    "                                              pad_token=pad_token)\n",
    "    config = GPT2Config.from_pretrained(model_name_or_dir)\n",
    "    if ablated_component == 'attention_heads':\n",
    "        # Ablate attention heads\n",
    "        config.num_attention_heads = 2\n",
    "#         config.hidden_size = 1280\n",
    "#         config.embed_dim = 1280\n",
    "    elif ablated_component == 'layers':\n",
    "        # Ablate layers\n",
    "        config.num_hidden_layers = 4\n",
    "    model = GPT2LMHeadModel.from_pretrained(model_name_or_dir, config=config)\n",
    "    model.resize_token_embeddings(len(tokenizer))\n",
    "\n",
    "    # Move model to GPU if available\n",
    "    model = model.to(device)\n",
    "\n",
    "    return model, tokenizer"
   ]
  },
  {
   "cell_type": "code",
   "execution_count": 4,
   "id": "46867c12",
   "metadata": {
    "execution": {
     "iopub.execute_input": "2024-06-08T04:47:58.228148Z",
     "iopub.status.busy": "2024-06-08T04:47:58.227850Z",
     "iopub.status.idle": "2024-06-08T04:48:03.254306Z",
     "shell.execute_reply": "2024-06-08T04:48:03.253275Z"
    },
    "papermill": {
     "duration": 5.039158,
     "end_time": "2024-06-08T04:48:03.256838",
     "exception": false,
     "start_time": "2024-06-08T04:47:58.217680",
     "status": "completed"
    },
    "tags": []
   },
   "outputs": [
    {
     "data": {
      "application/vnd.jupyter.widget-view+json": {
       "model_id": "af9c4cd479d24088aa0e9bf99777303f",
       "version_major": 2,
       "version_minor": 0
      },
      "text/plain": [
       "tokenizer_config.json:   0%|          | 0.00/26.0 [00:00<?, ?B/s]"
      ]
     },
     "metadata": {},
     "output_type": "display_data"
    },
    {
     "data": {
      "application/vnd.jupyter.widget-view+json": {
       "model_id": "4e4bf34ad7a24fe89de26cc9179e85f9",
       "version_major": 2,
       "version_minor": 0
      },
      "text/plain": [
       "vocab.json:   0%|          | 0.00/1.04M [00:00<?, ?B/s]"
      ]
     },
     "metadata": {},
     "output_type": "display_data"
    },
    {
     "data": {
      "application/vnd.jupyter.widget-view+json": {
       "model_id": "a55c3377472c4297b459793ff8683494",
       "version_major": 2,
       "version_minor": 0
      },
      "text/plain": [
       "merges.txt:   0%|          | 0.00/456k [00:00<?, ?B/s]"
      ]
     },
     "metadata": {},
     "output_type": "display_data"
    },
    {
     "data": {
      "application/vnd.jupyter.widget-view+json": {
       "model_id": "4ea8a93c848c48fd8455a0604e14e6d3",
       "version_major": 2,
       "version_minor": 0
      },
      "text/plain": [
       "tokenizer.json:   0%|          | 0.00/1.36M [00:00<?, ?B/s]"
      ]
     },
     "metadata": {},
     "output_type": "display_data"
    },
    {
     "name": "stderr",
     "output_type": "stream",
     "text": [
      "/opt/conda/lib/python3.10/site-packages/huggingface_hub/file_download.py:1132: FutureWarning: `resume_download` is deprecated and will be removed in version 1.0.0. Downloads always resume when possible. If you want to force a new download, use `force_download=True`.\n",
      "  warnings.warn(\n"
     ]
    },
    {
     "data": {
      "application/vnd.jupyter.widget-view+json": {
       "model_id": "6cb191c6efe94b35aed9aaf0a74799d9",
       "version_major": 2,
       "version_minor": 0
      },
      "text/plain": [
       "config.json:   0%|          | 0.00/665 [00:00<?, ?B/s]"
      ]
     },
     "metadata": {},
     "output_type": "display_data"
    },
    {
     "data": {
      "application/vnd.jupyter.widget-view+json": {
       "model_id": "12b79fcb767a42e4b49849dda997a20c",
       "version_major": 2,
       "version_minor": 0
      },
      "text/plain": [
       "model.safetensors:   0%|          | 0.00/548M [00:00<?, ?B/s]"
      ]
     },
     "metadata": {},
     "output_type": "display_data"
    },
    {
     "name": "stderr",
     "output_type": "stream",
     "text": [
      "Some weights of the model checkpoint at gpt2 were not used when initializing GPT2LMHeadModel: ['h.10.attn.bias', 'h.10.attn.c_attn.bias', 'h.10.attn.c_attn.weight', 'h.10.attn.c_proj.bias', 'h.10.attn.c_proj.weight', 'h.10.ln_1.bias', 'h.10.ln_1.weight', 'h.10.ln_2.bias', 'h.10.ln_2.weight', 'h.10.mlp.c_fc.bias', 'h.10.mlp.c_fc.weight', 'h.10.mlp.c_proj.bias', 'h.10.mlp.c_proj.weight', 'h.11.attn.bias', 'h.11.attn.c_attn.bias', 'h.11.attn.c_attn.weight', 'h.11.attn.c_proj.bias', 'h.11.attn.c_proj.weight', 'h.11.ln_1.bias', 'h.11.ln_1.weight', 'h.11.ln_2.bias', 'h.11.ln_2.weight', 'h.11.mlp.c_fc.bias', 'h.11.mlp.c_fc.weight', 'h.11.mlp.c_proj.bias', 'h.11.mlp.c_proj.weight', 'h.4.attn.bias', 'h.4.attn.c_attn.bias', 'h.4.attn.c_attn.weight', 'h.4.attn.c_proj.bias', 'h.4.attn.c_proj.weight', 'h.4.ln_1.bias', 'h.4.ln_1.weight', 'h.4.ln_2.bias', 'h.4.ln_2.weight', 'h.4.mlp.c_fc.bias', 'h.4.mlp.c_fc.weight', 'h.4.mlp.c_proj.bias', 'h.4.mlp.c_proj.weight', 'h.5.attn.bias', 'h.5.attn.c_attn.bias', 'h.5.attn.c_attn.weight', 'h.5.attn.c_proj.bias', 'h.5.attn.c_proj.weight', 'h.5.ln_1.bias', 'h.5.ln_1.weight', 'h.5.ln_2.bias', 'h.5.ln_2.weight', 'h.5.mlp.c_fc.bias', 'h.5.mlp.c_fc.weight', 'h.5.mlp.c_proj.bias', 'h.5.mlp.c_proj.weight', 'h.6.attn.bias', 'h.6.attn.c_attn.bias', 'h.6.attn.c_attn.weight', 'h.6.attn.c_proj.bias', 'h.6.attn.c_proj.weight', 'h.6.ln_1.bias', 'h.6.ln_1.weight', 'h.6.ln_2.bias', 'h.6.ln_2.weight', 'h.6.mlp.c_fc.bias', 'h.6.mlp.c_fc.weight', 'h.6.mlp.c_proj.bias', 'h.6.mlp.c_proj.weight', 'h.7.attn.bias', 'h.7.attn.c_attn.bias', 'h.7.attn.c_attn.weight', 'h.7.attn.c_proj.bias', 'h.7.attn.c_proj.weight', 'h.7.ln_1.bias', 'h.7.ln_1.weight', 'h.7.ln_2.bias', 'h.7.ln_2.weight', 'h.7.mlp.c_fc.bias', 'h.7.mlp.c_fc.weight', 'h.7.mlp.c_proj.bias', 'h.7.mlp.c_proj.weight', 'h.8.attn.bias', 'h.8.attn.c_attn.bias', 'h.8.attn.c_attn.weight', 'h.8.attn.c_proj.bias', 'h.8.attn.c_proj.weight', 'h.8.ln_1.bias', 'h.8.ln_1.weight', 'h.8.ln_2.bias', 'h.8.ln_2.weight', 'h.8.mlp.c_fc.bias', 'h.8.mlp.c_fc.weight', 'h.8.mlp.c_proj.bias', 'h.8.mlp.c_proj.weight', 'h.9.attn.bias', 'h.9.attn.c_attn.bias', 'h.9.attn.c_attn.weight', 'h.9.attn.c_proj.bias', 'h.9.attn.c_proj.weight', 'h.9.ln_1.bias', 'h.9.ln_1.weight', 'h.9.ln_2.bias', 'h.9.ln_2.weight', 'h.9.mlp.c_fc.bias', 'h.9.mlp.c_fc.weight', 'h.9.mlp.c_proj.bias', 'h.9.mlp.c_proj.weight']\n",
      "- This IS expected if you are initializing GPT2LMHeadModel from the checkpoint of a model trained on another task or with another architecture (e.g. initializing a BertForSequenceClassification model from a BertForPreTraining model).\n",
      "- This IS NOT expected if you are initializing GPT2LMHeadModel from the checkpoint of a model that you expect to be exactly identical (initializing a BertForSequenceClassification model from a BertForSequenceClassification model).\n"
     ]
    },
    {
     "data": {
      "application/vnd.jupyter.widget-view+json": {
       "model_id": "b799cede33e145e79b49b80ac94f4dea",
       "version_major": 2,
       "version_minor": 0
      },
      "text/plain": [
       "generation_config.json:   0%|          | 0.00/124 [00:00<?, ?B/s]"
      ]
     },
     "metadata": {},
     "output_type": "display_data"
    },
    {
     "name": "stdout",
     "output_type": "stream",
     "text": [
      "67.738368 M parameters\n",
      "GPT2LMHeadModel(\n",
      "  (transformer): GPT2Model(\n",
      "    (wte): Embedding(50259, 768)\n",
      "    (wpe): Embedding(1024, 768)\n",
      "    (drop): Dropout(p=0.1, inplace=False)\n",
      "    (h): ModuleList(\n",
      "      (0-3): 4 x GPT2Block(\n",
      "        (ln_1): LayerNorm((768,), eps=1e-05, elementwise_affine=True)\n",
      "        (attn): GPT2Attention(\n",
      "          (c_attn): Conv1D()\n",
      "          (c_proj): Conv1D()\n",
      "          (attn_dropout): Dropout(p=0.1, inplace=False)\n",
      "          (resid_dropout): Dropout(p=0.1, inplace=False)\n",
      "        )\n",
      "        (ln_2): LayerNorm((768,), eps=1e-05, elementwise_affine=True)\n",
      "        (mlp): GPT2MLP(\n",
      "          (c_fc): Conv1D()\n",
      "          (c_proj): Conv1D()\n",
      "          (act): NewGELUActivation()\n",
      "          (dropout): Dropout(p=0.1, inplace=False)\n",
      "        )\n",
      "      )\n",
      "    )\n",
      "    (ln_f): LayerNorm((768,), eps=1e-05, elementwise_affine=True)\n",
      "  )\n",
      "  (lm_head): Linear(in_features=768, out_features=50259, bias=False)\n",
      ")\n"
     ]
    }
   ],
   "source": [
    "model, tokenizer = load_model_tokenizer(model_name,'layers')\n",
    "tokenizer.pad_token = tokenizer.eos_token\n",
    "print(sum(p.numel() for p in model.parameters()) / 1e6, 'M parameters')\n",
    "print(model)"
   ]
  },
  {
   "cell_type": "code",
   "execution_count": 5,
   "id": "ba34e27e",
   "metadata": {
    "execution": {
     "iopub.execute_input": "2024-06-08T04:48:03.280260Z",
     "iopub.status.busy": "2024-06-08T04:48:03.279499Z",
     "iopub.status.idle": "2024-06-08T04:48:03.283837Z",
     "shell.execute_reply": "2024-06-08T04:48:03.282973Z"
    },
    "papermill": {
     "duration": 0.018119,
     "end_time": "2024-06-08T04:48:03.285844",
     "exception": false,
     "start_time": "2024-06-08T04:48:03.267725",
     "status": "completed"
    },
    "tags": []
   },
   "outputs": [],
   "source": [
    "# # model = GemmaModel.from_pretrained(\"hf-internal-testing/dummy-gemma\")\n",
    "# # tokenizer = GemmaTokenizerFast.from_pretrained(\"hf-internal-testing/dummy-gemma\")\n",
    "# tokenizer = AutoTokenizer.from_pretrained(\"bigscience/bloom-560m\")\n",
    "# model = BloomForCausalLM.from_pretrained(\"bigscience/bloom-560m\")\n",
    "# # tokenizer.pad_token = tokenizer.eos_token\n",
    "# print(sum(p.numel() for p in model.parameters()) / 1e6, 'M parameters')"
   ]
  },
  {
   "cell_type": "code",
   "execution_count": 6,
   "id": "0bcc0fe2",
   "metadata": {
    "execution": {
     "iopub.execute_input": "2024-06-08T04:48:03.309886Z",
     "iopub.status.busy": "2024-06-08T04:48:03.309024Z",
     "iopub.status.idle": "2024-06-08T04:48:03.357391Z",
     "shell.execute_reply": "2024-06-08T04:48:03.356371Z"
    },
    "papermill": {
     "duration": 0.062117,
     "end_time": "2024-06-08T04:48:03.359529",
     "exception": false,
     "start_time": "2024-06-08T04:48:03.297412",
     "status": "completed"
    },
    "tags": []
   },
   "outputs": [
    {
     "data": {
      "text/html": [
       "<div>\n",
       "<style scoped>\n",
       "    .dataframe tbody tr th:only-of-type {\n",
       "        vertical-align: middle;\n",
       "    }\n",
       "\n",
       "    .dataframe tbody tr th {\n",
       "        vertical-align: top;\n",
       "    }\n",
       "\n",
       "    .dataframe thead th {\n",
       "        text-align: right;\n",
       "    }\n",
       "</style>\n",
       "<table border=\"1\" class=\"dataframe\">\n",
       "  <thead>\n",
       "    <tr style=\"text-align: right;\">\n",
       "      <th></th>\n",
       "      <th>teks</th>\n",
       "      <th>tipe</th>\n",
       "    </tr>\n",
       "  </thead>\n",
       "  <tbody>\n",
       "    <tr>\n",
       "      <th>0</th>\n",
       "      <td>Ada motor ada sepeda \\n Semuanya beroda dua \\n Indonesia kaya budaya \\n Sepatutnya kita menjaganya</td>\n",
       "      <td>Pantun Adat dan Alam</td>\n",
       "    </tr>\n",
       "    <tr>\n",
       "      <th>1</th>\n",
       "      <td>Ada pisang ada semangka \\n Jika dimakan manis rasanya \\n Indonesia ragam budaya \\n Tugas kita tuk menjaganya</td>\n",
       "      <td>Pantun Adat dan Alam</td>\n",
       "    </tr>\n",
       "    <tr>\n",
       "      <th>2</th>\n",
       "      <td>Ada rusa ada buaya \\n Sungguh hitam warna matanya \\n Ada adat seribu bahasa \\n Kita wajib menghormatinya</td>\n",
       "      <td>Pantun Adat dan Alam</td>\n",
       "    </tr>\n",
       "    <tr>\n",
       "      <th>3</th>\n",
       "      <td>Alat timbang pucuknya patah \\n Beli baru hendak dipesan \\n Alam terkembang amat indah \\n Dipandang-pandang tiada bosan</td>\n",
       "      <td>Pantun Adat dan Alam</td>\n",
       "    </tr>\n",
       "    <tr>\n",
       "      <th>4</th>\n",
       "      <td>Anak cina makan petai \\n Kakinya terikat rantai \\n Lihatlah indahnya pantai \\n Membuat jiwa terasa santai</td>\n",
       "      <td>Pantun Adat dan Alam</td>\n",
       "    </tr>\n",
       "    <tr>\n",
       "      <th>...</th>\n",
       "      <td>...</td>\n",
       "      <td>...</td>\n",
       "    </tr>\n",
       "    <tr>\n",
       "      <th>1445</th>\n",
       "      <td>Jalan-jalan ke surabaya \\n Pulangnya beli hadiah \\n Jika ingin cepat kaya \\n Tidak susah tinggal sedekah</td>\n",
       "      <td>NaN</td>\n",
       "    </tr>\n",
       "    <tr>\n",
       "      <th>1446</th>\n",
       "      <td>Hari malam gelap-gelita \\n Pasang lilin jalan ke taman \\n Sopan santun budaya kita \\n Jadi kebanggaan zaman berzaman</td>\n",
       "      <td>NaN</td>\n",
       "    </tr>\n",
       "    <tr>\n",
       "      <th>1447</th>\n",
       "      <td>Apa guna berkain batik \\n Kalau tidak dengan sucinya? \\n Apa guna beristeri cantik \\n Kalau tidak dengan budinya</td>\n",
       "      <td>NaN</td>\n",
       "    </tr>\n",
       "    <tr>\n",
       "      <th>1448</th>\n",
       "      <td>Buah cempedak di luar pagar \\n Ambil galah tolong jolokkan \\n Saya budak baru belajar \\n Kalau salah tolong tunjukkan</td>\n",
       "      <td>NaN</td>\n",
       "    </tr>\n",
       "    <tr>\n",
       "      <th>1449</th>\n",
       "      <td>Surat ditulis dalam gelap \\n Salah huruf banyak tak kena \\n Jagalah diri jangan silap \\n Jika silap dapat bencana</td>\n",
       "      <td>Pantun Agama</td>\n",
       "    </tr>\n",
       "  </tbody>\n",
       "</table>\n",
       "<p>1450 rows × 2 columns</p>\n",
       "</div>"
      ],
      "text/plain": [
       "                                                                                                                        teks  \\\n",
       "0                         Ada motor ada sepeda \\n Semuanya beroda dua \\n Indonesia kaya budaya \\n Sepatutnya kita menjaganya   \n",
       "1               Ada pisang ada semangka \\n Jika dimakan manis rasanya \\n Indonesia ragam budaya \\n Tugas kita tuk menjaganya   \n",
       "2                   Ada rusa ada buaya \\n Sungguh hitam warna matanya \\n Ada adat seribu bahasa \\n Kita wajib menghormatinya   \n",
       "3     Alat timbang pucuknya patah \\n Beli baru hendak dipesan \\n Alam terkembang amat indah \\n Dipandang-pandang tiada bosan   \n",
       "4                  Anak cina makan petai \\n Kakinya terikat rantai \\n Lihatlah indahnya pantai \\n Membuat jiwa terasa santai   \n",
       "...                                                                                                                      ...   \n",
       "1445                Jalan-jalan ke surabaya \\n Pulangnya beli hadiah \\n Jika ingin cepat kaya \\n Tidak susah tinggal sedekah   \n",
       "1446    Hari malam gelap-gelita \\n Pasang lilin jalan ke taman \\n Sopan santun budaya kita \\n Jadi kebanggaan zaman berzaman   \n",
       "1447        Apa guna berkain batik \\n Kalau tidak dengan sucinya? \\n Apa guna beristeri cantik \\n Kalau tidak dengan budinya   \n",
       "1448   Buah cempedak di luar pagar \\n Ambil galah tolong jolokkan \\n Saya budak baru belajar \\n Kalau salah tolong tunjukkan   \n",
       "1449       Surat ditulis dalam gelap \\n Salah huruf banyak tak kena \\n Jagalah diri jangan silap \\n Jika silap dapat bencana   \n",
       "\n",
       "                      tipe  \n",
       "0     Pantun Adat dan Alam  \n",
       "1     Pantun Adat dan Alam  \n",
       "2     Pantun Adat dan Alam  \n",
       "3     Pantun Adat dan Alam  \n",
       "4     Pantun Adat dan Alam  \n",
       "...                    ...  \n",
       "1445                   NaN  \n",
       "1446                   NaN  \n",
       "1447                   NaN  \n",
       "1448                   NaN  \n",
       "1449          Pantun Agama  \n",
       "\n",
       "[1450 rows x 2 columns]"
      ]
     },
     "execution_count": 6,
     "metadata": {},
     "output_type": "execute_result"
    }
   ],
   "source": [
    "df = pd.read_csv('/kaggle/input/dataset-pantun-indonesia/dataset-pantun.csv')\n",
    "df = df[['teks','tipe']]\n",
    "df"
   ]
  },
  {
   "cell_type": "code",
   "execution_count": 7,
   "id": "557b6bf7",
   "metadata": {
    "execution": {
     "iopub.execute_input": "2024-06-08T04:48:03.382655Z",
     "iopub.status.busy": "2024-06-08T04:48:03.382379Z",
     "iopub.status.idle": "2024-06-08T04:48:03.390056Z",
     "shell.execute_reply": "2024-06-08T04:48:03.389094Z"
    },
    "papermill": {
     "duration": 0.021381,
     "end_time": "2024-06-08T04:48:03.392125",
     "exception": false,
     "start_time": "2024-06-08T04:48:03.370744",
     "status": "completed"
    },
    "tags": []
   },
   "outputs": [
    {
     "name": "stdout",
     "output_type": "stream",
     "text": [
      "452    Di kamar tidur teronggok cermin \\n Cermin dipakai untuk berdandan \\n Di tanah lapang kami bermain \\n Bermain gundu juga layangan\n",
      "Name: teks, dtype: object\n"
     ]
    }
   ],
   "source": [
    "print(df[df['teks'].str.contains(\"Di kamar tidur teronggok cermin\")]['teks'])"
   ]
  },
  {
   "cell_type": "code",
   "execution_count": 8,
   "id": "3558ef7f",
   "metadata": {
    "execution": {
     "iopub.execute_input": "2024-06-08T04:48:03.415556Z",
     "iopub.status.busy": "2024-06-08T04:48:03.415177Z",
     "iopub.status.idle": "2024-06-08T04:48:03.500851Z",
     "shell.execute_reply": "2024-06-08T04:48:03.499987Z"
    },
    "papermill": {
     "duration": 0.099678,
     "end_time": "2024-06-08T04:48:03.502907",
     "exception": false,
     "start_time": "2024-06-08T04:48:03.403229",
     "status": "completed"
    },
    "tags": []
   },
   "outputs": [
    {
     "data": {
      "text/plain": [
       "[{'id': 0,\n",
       "  'poem': 'Ada motor ada sepeda \\\\n Semuanya beroda dua \\\\n Indonesia kaya budaya \\\\n Sepatutnya kita menjaganya'},\n",
       " {'id': 1,\n",
       "  'poem': 'Ada pisang ada semangka \\\\n Jika dimakan manis rasanya \\\\n Indonesia ragam budaya \\\\n Tugas kita tuk menjaganya'},\n",
       " {'id': 2,\n",
       "  'poem': 'Ada rusa ada buaya \\\\n Sungguh hitam warna matanya \\\\n Ada adat seribu bahasa \\\\n Kita wajib menghormatinya'},\n",
       " {'id': 3,\n",
       "  'poem': 'Alat timbang pucuknya patah \\\\n Beli baru hendak dipesan \\\\n Alam terkembang amat indah \\\\n Dipandang-pandang tiada bosan'},\n",
       " {'id': 4,\n",
       "  'poem': 'Anak cina makan petai \\\\n Kakinya terikat rantai \\\\n Lihatlah indahnya pantai \\\\n Membuat jiwa terasa santai'}]"
      ]
     },
     "execution_count": 8,
     "metadata": {},
     "output_type": "execute_result"
    }
   ],
   "source": [
    "# Convert data to list of dictionaries\n",
    "formatted_data = []\n",
    "for idx, row in df.iterrows():\n",
    "    formatted_data.append({'id': idx, 'poem': row['teks']})\n",
    "\n",
    "formatted_data[0:5]"
   ]
  },
  {
   "cell_type": "code",
   "execution_count": 9,
   "id": "0ca4e674",
   "metadata": {
    "execution": {
     "iopub.execute_input": "2024-06-08T04:48:03.527406Z",
     "iopub.status.busy": "2024-06-08T04:48:03.526644Z",
     "iopub.status.idle": "2024-06-08T04:48:03.530751Z",
     "shell.execute_reply": "2024-06-08T04:48:03.529905Z"
    },
    "papermill": {
     "duration": 0.018279,
     "end_time": "2024-06-08T04:48:03.532685",
     "exception": false,
     "start_time": "2024-06-08T04:48:03.514406",
     "status": "completed"
    },
    "tags": []
   },
   "outputs": [],
   "source": [
    "data = formatted_data"
   ]
  },
  {
   "cell_type": "code",
   "execution_count": 10,
   "id": "af508e52",
   "metadata": {
    "execution": {
     "iopub.execute_input": "2024-06-08T04:48:03.557785Z",
     "iopub.status.busy": "2024-06-08T04:48:03.557445Z",
     "iopub.status.idle": "2024-06-08T04:48:03.565552Z",
     "shell.execute_reply": "2024-06-08T04:48:03.564422Z"
    },
    "papermill": {
     "duration": 0.022442,
     "end_time": "2024-06-08T04:48:03.567432",
     "exception": false,
     "start_time": "2024-06-08T04:48:03.544990",
     "status": "completed"
    },
    "tags": []
   },
   "outputs": [],
   "source": [
    "class PoemDataset(Dataset):\n",
    "    def __init__(self, poems, tokenizer, max_length=768):\n",
    "        self.tokenizer = tokenizer\n",
    "        self.input_ids = []\n",
    "        self.attn_masks = []\n",
    "\n",
    "        for poem in poems:\n",
    "\n",
    "            encodings_dict = tokenizer(\"<|startoftext|>\"+poem[\"poem\"]+\"<|endoftext|>\",\n",
    "                                     truncation=True,\n",
    "                                     max_length=max_length,\n",
    "                                     padding=\"max_length\")\n",
    "#             encodings_dict = tokenizer(poem[\"poem\"],\n",
    "#                                      truncation=True,\n",
    "#                                      max_length=max_length,\n",
    "#                                      padding=\"max_length\")\n",
    "\n",
    "            self.input_ids.append(torch.tensor(encodings_dict[\"input_ids\"]))\n",
    "            self.attn_masks.append(torch.tensor(encodings_dict[\"attention_mask\"]))\n",
    "\n",
    "    def __len__(self):\n",
    "        return len(self.input_ids)\n",
    "\n",
    "    def __getitem__(self, idx):\n",
    "        return self.input_ids[idx], self.attn_masks[idx]"
   ]
  },
  {
   "cell_type": "code",
   "execution_count": 11,
   "id": "817eb81d",
   "metadata": {
    "execution": {
     "iopub.execute_input": "2024-06-08T04:48:03.591506Z",
     "iopub.status.busy": "2024-06-08T04:48:03.590892Z",
     "iopub.status.idle": "2024-06-08T04:48:03.602224Z",
     "shell.execute_reply": "2024-06-08T04:48:03.601314Z"
    },
    "papermill": {
     "duration": 0.025263,
     "end_time": "2024-06-08T04:48:03.604196",
     "exception": false,
     "start_time": "2024-06-08T04:48:03.578933",
     "status": "completed"
    },
    "tags": []
   },
   "outputs": [
    {
     "name": "stdout",
     "output_type": "stream",
     "text": [
      "[15496, 2159, 50256, 50256, 50256, 50256, 50256, 50256, 50256, 50256]\n",
      "50259\n"
     ]
    }
   ],
   "source": [
    "print(tokenizer.encode(\"Hello World\", padding=\"max_length\", max_length=10))\n",
    "print(len(tokenizer))"
   ]
  },
  {
   "cell_type": "code",
   "execution_count": 12,
   "id": "225f3579",
   "metadata": {
    "execution": {
     "iopub.execute_input": "2024-06-08T04:48:03.628404Z",
     "iopub.status.busy": "2024-06-08T04:48:03.627833Z",
     "iopub.status.idle": "2024-06-08T04:48:03.638308Z",
     "shell.execute_reply": "2024-06-08T04:48:03.637326Z"
    },
    "papermill": {
     "duration": 0.024873,
     "end_time": "2024-06-08T04:48:03.640327",
     "exception": false,
     "start_time": "2024-06-08T04:48:03.615454",
     "status": "completed"
    },
    "tags": []
   },
   "outputs": [
    {
     "name": "stdout",
     "output_type": "stream",
     "text": [
      "[50257, 18435, 2159, 220, 50256, 50256, 50256, 50256, 50256, 50256]\n",
      "50259\n"
     ]
    }
   ],
   "source": [
    "print(tokenizer.encode(\"<|startoftext|> Hello World <|endoftext|>\", padding=\"max_length\", max_length=10))\n",
    "print(len(tokenizer))"
   ]
  },
  {
   "cell_type": "code",
   "execution_count": 13,
   "id": "c4629e74",
   "metadata": {
    "execution": {
     "iopub.execute_input": "2024-06-08T04:48:03.664602Z",
     "iopub.status.busy": "2024-06-08T04:48:03.664195Z",
     "iopub.status.idle": "2024-06-08T04:48:04.420155Z",
     "shell.execute_reply": "2024-06-08T04:48:04.419287Z"
    },
    "papermill": {
     "duration": 0.770241,
     "end_time": "2024-06-08T04:48:04.422313",
     "exception": false,
     "start_time": "2024-06-08T04:48:03.652072",
     "status": "completed"
    },
    "tags": []
   },
   "outputs": [
    {
     "name": "stdout",
     "output_type": "stream",
     "text": [
      "82\n"
     ]
    }
   ],
   "source": [
    "# Finding length of maximum token in dataset\n",
    "max_length = max([len(tokenizer.encode(poem[\"poem\"])) for poem in data])\n",
    "print(max_length)\n",
    "max_length = 100"
   ]
  },
  {
   "cell_type": "code",
   "execution_count": 14,
   "id": "6a10a7a7",
   "metadata": {
    "execution": {
     "iopub.execute_input": "2024-06-08T04:48:04.446531Z",
     "iopub.status.busy": "2024-06-08T04:48:04.446176Z",
     "iopub.status.idle": "2024-06-08T04:48:05.340179Z",
     "shell.execute_reply": "2024-06-08T04:48:05.339152Z"
    },
    "papermill": {
     "duration": 0.90885,
     "end_time": "2024-06-08T04:48:05.342652",
     "exception": false,
     "start_time": "2024-06-08T04:48:04.433802",
     "status": "completed"
    },
    "tags": []
   },
   "outputs": [],
   "source": [
    "x = [len(tokenizer.encode(poem[\"poem\"])) for poem in data if len(tokenizer.encode(poem[\"poem\"])) < 100]"
   ]
  },
  {
   "cell_type": "code",
   "execution_count": 15,
   "id": "b4718dbf",
   "metadata": {
    "execution": {
     "iopub.execute_input": "2024-06-08T04:48:05.368380Z",
     "iopub.status.busy": "2024-06-08T04:48:05.367987Z",
     "iopub.status.idle": "2024-06-08T04:48:05.817766Z",
     "shell.execute_reply": "2024-06-08T04:48:05.816758Z"
    },
    "papermill": {
     "duration": 0.46551,
     "end_time": "2024-06-08T04:48:05.820206",
     "exception": false,
     "start_time": "2024-06-08T04:48:05.354696",
     "status": "completed"
    },
    "tags": []
   },
   "outputs": [],
   "source": [
    "y = [len(tokenizer.encode(poem[\"poem\"])) - len(poem[\"poem\"].split()) for poem in data]"
   ]
  },
  {
   "cell_type": "code",
   "execution_count": 16,
   "id": "93434ebe",
   "metadata": {
    "execution": {
     "iopub.execute_input": "2024-06-08T04:48:05.844977Z",
     "iopub.status.busy": "2024-06-08T04:48:05.844659Z",
     "iopub.status.idle": "2024-06-08T04:48:05.849310Z",
     "shell.execute_reply": "2024-06-08T04:48:05.848473Z"
    },
    "papermill": {
     "duration": 0.019,
     "end_time": "2024-06-08T04:48:05.851294",
     "exception": false,
     "start_time": "2024-06-08T04:48:05.832294",
     "status": "completed"
    },
    "tags": []
   },
   "outputs": [
    {
     "name": "stdout",
     "output_type": "stream",
     "text": [
      "27.904137931034484\n"
     ]
    }
   ],
   "source": [
    "print(sum(y)/len(y))"
   ]
  },
  {
   "cell_type": "code",
   "execution_count": 17,
   "id": "6e8a0815",
   "metadata": {
    "execution": {
     "iopub.execute_input": "2024-06-08T04:48:05.876691Z",
     "iopub.status.busy": "2024-06-08T04:48:05.876036Z",
     "iopub.status.idle": "2024-06-08T04:48:06.157261Z",
     "shell.execute_reply": "2024-06-08T04:48:06.156406Z"
    },
    "papermill": {
     "duration": 0.296626,
     "end_time": "2024-06-08T04:48:06.159660",
     "exception": false,
     "start_time": "2024-06-08T04:48:05.863034",
     "status": "completed"
    },
    "tags": []
   },
   "outputs": [
    {
     "name": "stdout",
     "output_type": "stream",
     "text": [
      "82 1450\n"
     ]
    },
    {
     "data": {
      "image/png": "[encoded data removed]",
      "text/plain": [
       "<Figure size 640x480 with 1 Axes>"
      ]
     },
     "metadata": {},
     "output_type": "display_data"
    }
   ],
   "source": [
    "print(max(x), len(x))\n",
    "# Plotting histogram\n",
    "plt.hist(x, bins=5, color='skyblue', edgecolor='black')\n",
    "plt.title('Distribusi Panjang Token Pantun')\n",
    "plt.xlabel('Panjang Token')\n",
    "plt.ylabel('Jumlah Pantun')\n",
    "plt.legend(['Jumlah Pantun'])\n",
    "plt.show()"
   ]
  },
  {
   "cell_type": "code",
   "execution_count": 18,
   "id": "9139ef98",
   "metadata": {
    "execution": {
     "iopub.execute_input": "2024-06-08T04:48:06.185792Z",
     "iopub.status.busy": "2024-06-08T04:48:06.185437Z",
     "iopub.status.idle": "2024-06-08T04:48:06.876852Z",
     "shell.execute_reply": "2024-06-08T04:48:06.875825Z"
    },
    "papermill": {
     "duration": 0.706463,
     "end_time": "2024-06-08T04:48:06.878827",
     "exception": false,
     "start_time": "2024-06-08T04:48:06.172364",
     "status": "completed"
    },
    "tags": []
   },
   "outputs": [
    {
     "name": "stdout",
     "output_type": "stream",
     "text": [
      "Number of samples for training = 1305\n",
      "Number of samples for validation = 145\n"
     ]
    }
   ],
   "source": [
    "dataset = PoemDataset(data, tokenizer, max_length=max_length)\n",
    "\n",
    "# Split data into train and validation sets\n",
    "train_size = int(0.9*len(dataset))\n",
    "val_size = len(dataset) - train_size\n",
    "\n",
    "train_dataset, val_dataset = random_split(dataset, [train_size, val_size])\n",
    "print(\"Number of samples for training =\", train_size)\n",
    "print(\"Number of samples for validation =\", val_size)"
   ]
  },
  {
   "cell_type": "code",
   "execution_count": 19,
   "id": "f25f4eeb",
   "metadata": {
    "execution": {
     "iopub.execute_input": "2024-06-08T04:48:06.904946Z",
     "iopub.status.busy": "2024-06-08T04:48:06.904600Z",
     "iopub.status.idle": "2024-06-08T04:48:06.912974Z",
     "shell.execute_reply": "2024-06-08T04:48:06.912093Z"
    },
    "papermill": {
     "duration": 0.023563,
     "end_time": "2024-06-08T04:48:06.914910",
     "exception": false,
     "start_time": "2024-06-08T04:48:06.891347",
     "status": "completed"
    },
    "tags": []
   },
   "outputs": [
    {
     "data": {
      "text/plain": [
       "(tensor([50257,    47,   271,   559,   256,  1228,   321,    11,   279,   271,\n",
       "           559,   894,  7246,  3467,    77,   449, 37089, 48358,   541,    84,\n",
       "           279,   271,   559, 39898,    84,  3467,    77,   327,   600,    64,\n",
       "           384,    73,  7246,  4628, 15065,   288,  2743,  6877,    72,  3467,\n",
       "            77, 36810,   272,  4628, 15065,   288,  2743,   299,  1878,  2385,\n",
       "         50256, 50256, 50256, 50256, 50256, 50256, 50256, 50256, 50256, 50256,\n",
       "         50256, 50256, 50256, 50256, 50256, 50256, 50256, 50256, 50256, 50256,\n",
       "         50256, 50256, 50256, 50256, 50256, 50256, 50256, 50256, 50256, 50256,\n",
       "         50256, 50256, 50256, 50256, 50256, 50256, 50256, 50256, 50256, 50256,\n",
       "         50256, 50256, 50256, 50256, 50256, 50256, 50256, 50256, 50256, 50256]),\n",
       " tensor([1, 1, 1, 1, 1, 1, 1, 1, 1, 1, 1, 1, 1, 1, 1, 1, 1, 1, 1, 1, 1, 1, 1, 1,\n",
       "         1, 1, 1, 1, 1, 1, 1, 1, 1, 1, 1, 1, 1, 1, 1, 1, 1, 1, 1, 1, 1, 1, 1, 1,\n",
       "         1, 1, 1, 0, 0, 0, 0, 0, 0, 0, 0, 0, 0, 0, 0, 0, 0, 0, 0, 0, 0, 0, 0, 0,\n",
       "         0, 0, 0, 0, 0, 0, 0, 0, 0, 0, 0, 0, 0, 0, 0, 0, 0, 0, 0, 0, 0, 0, 0, 0,\n",
       "         0, 0, 0, 0]))"
      ]
     },
     "execution_count": 19,
     "metadata": {},
     "output_type": "execute_result"
    }
   ],
   "source": [
    "train_dataset[0]"
   ]
  },
  {
   "cell_type": "code",
   "execution_count": 20,
   "id": "9348b73d",
   "metadata": {
    "execution": {
     "iopub.execute_input": "2024-06-08T04:48:06.940746Z",
     "iopub.status.busy": "2024-06-08T04:48:06.940383Z",
     "iopub.status.idle": "2024-06-08T04:48:06.946530Z",
     "shell.execute_reply": "2024-06-08T04:48:06.945608Z"
    },
    "papermill": {
     "duration": 0.021564,
     "end_time": "2024-06-08T04:48:06.948549",
     "exception": false,
     "start_time": "2024-06-08T04:48:06.926985",
     "status": "completed"
    },
    "tags": []
   },
   "outputs": [
    {
     "name": "stdout",
     "output_type": "stream",
     "text": [
      "164\n",
      "1305\n"
     ]
    }
   ],
   "source": [
    "train_dataloader = DataLoader(train_dataset,\n",
    "                              sampler=RandomSampler(train_dataset),\n",
    "                              batch_size=batch_size)\n",
    "\n",
    "val_dataloader = DataLoader(val_dataset,\n",
    "                            sampler=SequentialSampler(val_dataset),\n",
    "                            batch_size=batch_size)\n",
    "\n",
    "print(len(train_dataloader))\n",
    "print(len(train_dataset))"
   ]
  },
  {
   "cell_type": "code",
   "execution_count": 21,
   "id": "06666b6d",
   "metadata": {
    "execution": {
     "iopub.execute_input": "2024-06-08T04:48:06.975001Z",
     "iopub.status.busy": "2024-06-08T04:48:06.974636Z",
     "iopub.status.idle": "2024-06-08T04:48:06.980500Z",
     "shell.execute_reply": "2024-06-08T04:48:06.979662Z"
    },
    "papermill": {
     "duration": 0.021034,
     "end_time": "2024-06-08T04:48:06.982422",
     "exception": false,
     "start_time": "2024-06-08T04:48:06.961388",
     "status": "completed"
    },
    "tags": []
   },
   "outputs": [],
   "source": [
    "# Using AdamW optimizer with default parameters\n",
    "optimizer = torch.optim.AdamW(model.parameters(), lr=5e-4, eps=1e-8)\n",
    "\n",
    "# Toatl training steps is the number of data points times the number of epochs\n",
    "total_training_steps = len(train_dataloader)*epochs\n",
    "\n",
    "# Setting a variable learning rate using scheduler\n",
    "scheduler = get_linear_schedule_with_warmup(optimizer,\n",
    "                                            num_warmup_steps=warmup_steps,\n",
    "                                            num_training_steps=total_training_steps)"
   ]
  },
  {
   "cell_type": "code",
   "execution_count": 22,
   "id": "43137bcb",
   "metadata": {
    "execution": {
     "iopub.execute_input": "2024-06-08T04:48:07.008165Z",
     "iopub.status.busy": "2024-06-08T04:48:07.007845Z",
     "iopub.status.idle": "2024-06-08T04:48:07.012504Z",
     "shell.execute_reply": "2024-06-08T04:48:07.011587Z"
    },
    "papermill": {
     "duration": 0.019844,
     "end_time": "2024-06-08T04:48:07.014511",
     "exception": false,
     "start_time": "2024-06-08T04:48:06.994667",
     "status": "completed"
    },
    "tags": []
   },
   "outputs": [],
   "source": [
    "def format_time(elapsed):\n",
    "    return str(datetime.timedelta(seconds=int(round(elapsed))))"
   ]
  },
  {
   "cell_type": "code",
   "execution_count": 23,
   "id": "d81d50ac",
   "metadata": {
    "execution": {
     "iopub.execute_input": "2024-06-08T04:48:07.041164Z",
     "iopub.status.busy": "2024-06-08T04:48:07.040879Z",
     "iopub.status.idle": "2024-06-08T05:08:22.420261Z",
     "shell.execute_reply": "2024-06-08T05:08:22.419246Z"
    },
    "papermill": {
     "duration": 1215.395496,
     "end_time": "2024-06-08T05:08:22.422862",
     "exception": false,
     "start_time": "2024-06-08T04:48:07.027366",
     "status": "completed"
    },
    "tags": []
   },
   "outputs": [
    {
     "name": "stdout",
     "output_type": "stream",
     "text": [
      "Beginning epoch 1 of 100\n"
     ]
    },
    {
     "name": "stderr",
     "output_type": "stream",
     "text": [
      "The attention mask and the pad token id were not set. As a consequence, you may observe unexpected behavior. Please pass your input's `attention_mask` to obtain reliable results.\n",
      "Setting `pad_token_id` to `eos_token_id`:50256 for open-end generation.\n"
     ]
    },
    {
     "name": "stdout",
     "output_type": "stream",
     "text": [
      "Batch 100 of 164. Loss: 2.3457858562469482. Time: 0:00:08\n",
      "Example ouput:  bipartisan inuk terga \\n Yanga seu nasa kita juga \\n Taksolah teran sampasannya tinga \\n Beri memitu kis sisida\n",
      "\n",
      "Average Training Loss: 3.4747602765153096. Epoch time: 0:00:13\n",
      "\n",
      "Validation loss: 2.0370107826433683. Validation Time: 0:00:00\n",
      "\n",
      "------------------------------\n",
      "Beginning epoch 2 of 100\n"
     ]
    },
    {
     "name": "stderr",
     "output_type": "stream",
     "text": [
      "The attention mask and the pad token id were not set. As a consequence, you may observe unexpected behavior. Please pass your input's `attention_mask` to obtain reliable results.\n",
      "Setting `pad_token_id` to `eos_token_id`:50256 for open-end generation.\n"
     ]
    },
    {
     "name": "stdout",
     "output_type": "stream",
     "text": [
      "Batch 100 of 164. Loss: 1.9021978378295898. Time: 0:00:07\n",
      "Example ouput:  increasingBah terbang ada salam \\n Jika ingin jelih perang dua \\n Kalau sebaih karena rasan \\n Kalau tempat kaki ku rakin\n",
      "\n",
      "Average Training Loss: 1.888168553753597. Epoch time: 0:00:12\n",
      "\n",
      "Validation loss: 1.7597352768245496. Validation Time: 0:00:00\n",
      "\n",
      "------------------------------\n",
      "Beginning epoch 3 of 100\n"
     ]
    },
    {
     "name": "stderr",
     "output_type": "stream",
     "text": [
      "The attention mask and the pad token id were not set. As a consequence, you may observe unexpected behavior. Please pass your input's `attention_mask` to obtain reliable results.\n",
      "Setting `pad_token_id` to `eos_token_id`:50256 for open-end generation.\n"
     ]
    },
    {
     "name": "stdout",
     "output_type": "stream",
     "text": [
      "Batch 100 of 164. Loss: 1.522915005683899. Time: 0:00:07\n",
      "Example ouput: dayDari roti suka \\n Siapa yang lupa bolu \\n Burung kota senang pisuh \\n Beribu jauhir sukum dosa\n",
      "\n",
      "Average Training Loss: 1.6351161613696958. Epoch time: 0:00:12\n",
      "\n",
      "Validation loss: 1.677218838741905. Validation Time: 0:00:00\n",
      "\n",
      "------------------------------\n",
      "Beginning epoch 4 of 100\n"
     ]
    },
    {
     "name": "stderr",
     "output_type": "stream",
     "text": [
      "The attention mask and the pad token id were not set. As a consequence, you may observe unexpected behavior. Please pass your input's `attention_mask` to obtain reliable results.\n",
      "Setting `pad_token_id` to `eos_token_id`:50256 for open-end generation.\n"
     ]
    },
    {
     "name": "stdout",
     "output_type": "stream",
     "text": [
      "Batch 100 of 164. Loss: 1.4813448190689087. Time: 0:00:07\n",
      "Example ouput:  HangGung di pagi membeli \\n kata duku juga dengan untuk \\n Kaki muda tidak ditang selesa \\n bisa dengan tebu orangnya\n",
      "\n",
      "Average Training Loss: 1.4735624586663596. Epoch time: 0:00:12\n",
      "\n",
      "Validation loss: 1.6430464230085675. Validation Time: 0:00:00\n",
      "\n",
      "------------------------------\n",
      "Beginning epoch 5 of 100\n"
     ]
    },
    {
     "name": "stderr",
     "output_type": "stream",
     "text": [
      "The attention mask and the pad token id were not set. As a consequence, you may observe unexpected behavior. Please pass your input's `attention_mask` to obtain reliable results.\n",
      "Setting `pad_token_id` to `eos_token_id`:50256 for open-end generation.\n"
     ]
    },
    {
     "name": "stdout",
     "output_type": "stream",
     "text": [
      "Batch 100 of 164. Loss: 1.2710505723953247. Time: 0:00:07\n",
      "Example ouput:  foodsMencari sisai pecah rusa \\n Kekerja ingat mengail senja \\n Jangan pernah ragam setinggi \\n Agar jaga alamkan resiko\n",
      "\n",
      "Average Training Loss: 1.337240103541351. Epoch time: 0:00:12\n",
      "\n",
      "Validation loss: 1.6396494790127403. Validation Time: 0:00:00\n",
      "\n",
      "------------------------------\n",
      "Beginning epoch 6 of 100\n"
     ]
    },
    {
     "name": "stderr",
     "output_type": "stream",
     "text": [
      "The attention mask and the pad token id were not set. As a consequence, you may observe unexpected behavior. Please pass your input's `attention_mask` to obtain reliable results.\n",
      "Setting `pad_token_id` to `eos_token_id`:50256 for open-end generation.\n"
     ]
    },
    {
     "name": "stdout",
     "output_type": "stream",
     "text": [
      "Batch 100 of 164. Loss: 1.1262589693069458. Time: 0:00:07\n",
      "Example ouput:  trailPergi ke pasar membeli kain \\n Pulangnya beli bersihatnya menanam \\n Jika ingin jadi juara \\n Kelak-kita membantu sangka dan rupin\n",
      "\n",
      "Average Training Loss: 1.2115037928267223. Epoch time: 0:00:12\n",
      "\n",
      "Validation loss: 1.6070441885998374. Validation Time: 0:00:00\n",
      "\n",
      "------------------------------\n",
      "Beginning epoch 7 of 100\n"
     ]
    },
    {
     "name": "stderr",
     "output_type": "stream",
     "text": [
      "The attention mask and the pad token id were not set. As a consequence, you may observe unexpected behavior. Please pass your input's `attention_mask` to obtain reliable results.\n",
      "Setting `pad_token_id` to `eos_token_id`:50256 for open-end generation.\n"
     ]
    },
    {
     "name": "stdout",
     "output_type": "stream",
     "text": [
      "Batch 100 of 164. Loss: 1.0234997272491455. Time: 0:00:07\n",
      "Example ouput: intendMakan lotek wit pecah pedagang \\n Banyak yang melak terata \\n Berjalan suka membuka budi \\n Jika anak yang kedua\n",
      "\n",
      "Average Training Loss: 1.0768465196214072. Epoch time: 0:00:12\n",
      "\n",
      "Validation loss: 1.6653451543105275. Validation Time: 0:00:00\n",
      "\n",
      "------------------------------\n",
      "Beginning epoch 8 of 100\n"
     ]
    },
    {
     "name": "stderr",
     "output_type": "stream",
     "text": [
      "The attention mask and the pad token id were not set. As a consequence, you may observe unexpected behavior. Please pass your input's `attention_mask` to obtain reliable results.\n",
      "Setting `pad_token_id` to `eos_token_id`:50256 for open-end generation.\n"
     ]
    },
    {
     "name": "stdout",
     "output_type": "stream",
     "text": [
      "Batch 100 of 164. Loss: 1.0311236381530762. Time: 0:00:07\n",
      "Example ouput:  surroundMinah ketawa terjerit-jerit \\n Jika berupa membara belajar \\n Bukan memang pada siapat \\n Mendapat sejati tunaikan\n",
      "\n",
      "Average Training Loss: 0.9451414688331324. Epoch time: 0:00:12\n",
      "\n",
      "Validation loss: 1.7093939718447233. Validation Time: 0:00:00\n",
      "\n",
      "------------------------------\n",
      "Beginning epoch 9 of 100\n"
     ]
    },
    {
     "name": "stderr",
     "output_type": "stream",
     "text": [
      "The attention mask and the pad token id were not set. As a consequence, you may observe unexpected behavior. Please pass your input's `attention_mask` to obtain reliable results.\n",
      "Setting `pad_token_id` to `eos_token_id`:50256 for open-end generation.\n"
     ]
    },
    {
     "name": "stdout",
     "output_type": "stream",
     "text": [
      "Batch 100 of 164. Loss: 0.7724964022636414. Time: 0:00:07\n",
      "Example ouput:  reflexDuyuh karang menggurui \\n Ke mana datang suka sering \\n Kalau kita ingin berteman \\n Banyak ilmu bersama tempatmu\n",
      "\n",
      "Average Training Loss: 0.8143141952956595. Epoch time: 0:00:12\n",
      "\n",
      "Validation loss: 1.7861983713350797. Validation Time: 0:00:00\n",
      "\n",
      "------------------------------\n",
      "Beginning epoch 10 of 100\n"
     ]
    },
    {
     "name": "stderr",
     "output_type": "stream",
     "text": [
      "The attention mask and the pad token id were not set. As a consequence, you may observe unexpected behavior. Please pass your input's `attention_mask` to obtain reliable results.\n",
      "Setting `pad_token_id` to `eos_token_id`:50256 for open-end generation.\n"
     ]
    },
    {
     "name": "stdout",
     "output_type": "stream",
     "text": [
      "Batch 100 of 164. Loss: 0.7736054062843323. Time: 0:00:07\n",
      "Example ouput:  displayTuan puteri belajar menari \\n Tari tidur mayur keliru \\n Sama teman yang baik membuatmu \\n Apa yang akan menjadi pintar\n",
      "\n",
      "Average Training Loss: 0.6877265570730697. Epoch time: 0:00:12\n",
      "\n",
      "Validation loss: 1.8922564857884456. Validation Time: 0:00:00\n",
      "\n",
      "------------------------------\n",
      "Beginning epoch 11 of 100\n"
     ]
    },
    {
     "name": "stderr",
     "output_type": "stream",
     "text": [
      "The attention mask and the pad token id were not set. As a consequence, you may observe unexpected behavior. Please pass your input's `attention_mask` to obtain reliable results.\n",
      "Setting `pad_token_id` to `eos_token_id`:50256 for open-end generation.\n"
     ]
    },
    {
     "name": "stdout",
     "output_type": "stream",
     "text": [
      "Batch 100 of 164. Loss: 0.5310438871383667. Time: 0:00:07\n",
      "Example ouput:  pastorJangan patahkan karangka \\n Jangan lupa berkunjang-kunang \\n Rajin mengaji rajin \\n Pasti naik kelas\n",
      "\n",
      "Average Training Loss: 0.5640539281615397. Epoch time: 0:00:12\n",
      "\n",
      "Validation loss: 2.0030981615970007. Validation Time: 0:00:00\n",
      "\n",
      "------------------------------\n",
      "Beginning epoch 12 of 100\n"
     ]
    },
    {
     "name": "stderr",
     "output_type": "stream",
     "text": [
      "The attention mask and the pad token id were not set. As a consequence, you may observe unexpected behavior. Please pass your input's `attention_mask` to obtain reliable results.\n",
      "Setting `pad_token_id` to `eos_token_id`:50256 for open-end generation.\n"
     ]
    },
    {
     "name": "stdout",
     "output_type": "stream",
     "text": [
      "Batch 100 of 164. Loss: 0.476846843957901. Time: 0:00:07\n",
      "Example ouput:  illicitAnak turun sepuluh segar \\n Mati satu tinggal sembilan \\n Bangun pagi sembahyang subuh \\n Bangun ciptaan Tuhan\n",
      "\n",
      "Average Training Loss: 0.46539778516786856. Epoch time: 0:00:12\n",
      "\n",
      "Validation loss: 2.1050462346327934. Validation Time: 0:00:00\n",
      "\n",
      "------------------------------\n",
      "Beginning epoch 13 of 100\n"
     ]
    },
    {
     "name": "stderr",
     "output_type": "stream",
     "text": [
      "The attention mask and the pad token id were not set. As a consequence, you may observe unexpected behavior. Please pass your input's `attention_mask` to obtain reliable results.\n",
      "Setting `pad_token_id` to `eos_token_id`:50256 for open-end generation.\n"
     ]
    },
    {
     "name": "stdout",
     "output_type": "stream",
     "text": [
      "Batch 100 of 164. Loss: 0.37616056203842163. Time: 0:00:07\n",
      "Example ouput:  LiberationDari laut ada kuda \\n Berbuih ada harapan di sekolah \\n Hati yang mau menjadi cinta \\n Dilempar hidup di dalam hati\n",
      "\n",
      "Average Training Loss: 0.38648350373273943. Epoch time: 0:00:12\n",
      "\n",
      "Validation loss: 2.212435716076901. Validation Time: 0:00:00\n",
      "\n",
      "------------------------------\n",
      "Beginning epoch 14 of 100\n"
     ]
    },
    {
     "name": "stderr",
     "output_type": "stream",
     "text": [
      "The attention mask and the pad token id were not set. As a consequence, you may observe unexpected behavior. Please pass your input's `attention_mask` to obtain reliable results.\n",
      "Setting `pad_token_id` to `eos_token_id`:50256 for open-end generation.\n"
     ]
    },
    {
     "name": "stdout",
     "output_type": "stream",
     "text": [
      "Batch 100 of 164. Loss: 0.3353096544742584. Time: 0:00:07\n",
      "Example ouput:  NamMakan kain dengan suaranya \\n Kedermain batik dibuat jamu \\n Meski kau bukan tentang gelar \\n Semoga dalam hatiku\n",
      "\n",
      "Average Training Loss: 0.3342961906114729. Epoch time: 0:00:12\n",
      "\n",
      "Validation loss: 2.2900295508535287. Validation Time: 0:00:00\n",
      "\n",
      "------------------------------\n",
      "Beginning epoch 15 of 100\n"
     ]
    },
    {
     "name": "stderr",
     "output_type": "stream",
     "text": [
      "The attention mask and the pad token id were not set. As a consequence, you may observe unexpected behavior. Please pass your input's `attention_mask` to obtain reliable results.\n",
      "Setting `pad_token_id` to `eos_token_id`:50256 for open-end generation.\n"
     ]
    },
    {
     "name": "stdout",
     "output_type": "stream",
     "text": [
      "Batch 100 of 164. Loss: 0.30080029368400574. Time: 0:00:07\n",
      "Example ouput: IONJika kita makan petai \\n jangan lupa makan kerupuk \\n Jika kita ingin pandai \\n Rajin-rajinlah membaca buku\n",
      "\n",
      "Average Training Loss: 0.2769748556722955. Epoch time: 0:00:12\n",
      "\n",
      "Validation loss: 2.369299807046589. Validation Time: 0:00:00\n",
      "\n",
      "------------------------------\n",
      "Beginning epoch 16 of 100\n"
     ]
    },
    {
     "name": "stderr",
     "output_type": "stream",
     "text": [
      "The attention mask and the pad token id were not set. As a consequence, you may observe unexpected behavior. Please pass your input's `attention_mask` to obtain reliable results.\n",
      "Setting `pad_token_id` to `eos_token_id`:50256 for open-end generation.\n"
     ]
    },
    {
     "name": "stdout",
     "output_type": "stream",
     "text": [
      "Batch 100 of 164. Loss: 0.22379638254642487. Time: 0:00:07\n",
      "Example ouput:  glimpseLebat daun bunga kecubung \\n Berbau harum bunga cempaka \\n Adat dijaga pusaka dijunjung \\n Baru terpelihara adat pusaka\n",
      "\n",
      "Average Training Loss: 0.2348012073737819. Epoch time: 0:00:12\n",
      "\n",
      "Validation loss: 2.3957097781331917. Validation Time: 0:00:00\n",
      "\n",
      "------------------------------\n",
      "Beginning epoch 17 of 100\n"
     ]
    },
    {
     "name": "stderr",
     "output_type": "stream",
     "text": [
      "The attention mask and the pad token id were not set. As a consequence, you may observe unexpected behavior. Please pass your input's `attention_mask` to obtain reliable results.\n",
      "Setting `pad_token_id` to `eos_token_id`:50256 for open-end generation.\n"
     ]
    },
    {
     "name": "stdout",
     "output_type": "stream",
     "text": [
      "Batch 100 of 164. Loss: 0.21617920696735382. Time: 0:00:07\n",
      "Example ouput:  LaureAnak kancil berlayar \\n Berlabuh kapal membeli tikat \\n Jikalau engkau bukan sampah \\n Agar kamu merasa bahagia\n",
      "\n",
      "Average Training Loss: 0.21211890249354085. Epoch time: 0:00:12\n",
      "\n",
      "Validation loss: 2.4505925743203414. Validation Time: 0:00:00\n",
      "\n",
      "------------------------------\n",
      "Beginning epoch 18 of 100\n"
     ]
    },
    {
     "name": "stderr",
     "output_type": "stream",
     "text": [
      "The attention mask and the pad token id were not set. As a consequence, you may observe unexpected behavior. Please pass your input's `attention_mask` to obtain reliable results.\n",
      "Setting `pad_token_id` to `eos_token_id`:50256 for open-end generation.\n"
     ]
    },
    {
     "name": "stdout",
     "output_type": "stream",
     "text": [
      "Batch 100 of 164. Loss: 0.2139265537261963. Time: 0:00:07\n",
      "Example ouput: ismBuah salak buah duku \\n tidak bisa dibuat jamu \\n Meski jarang kita bertemu \\n cintaku tetap hanya untukmu\n",
      "\n",
      "Average Training Loss: 0.1908191974024947. Epoch time: 0:00:12\n",
      "\n",
      "Validation loss: 2.508207026280855. Validation Time: 0:00:00\n",
      "\n",
      "------------------------------\n",
      "Beginning epoch 19 of 100\n"
     ]
    },
    {
     "name": "stderr",
     "output_type": "stream",
     "text": [
      "The attention mask and the pad token id were not set. As a consequence, you may observe unexpected behavior. Please pass your input's `attention_mask` to obtain reliable results.\n",
      "Setting `pad_token_id` to `eos_token_id`:50256 for open-end generation.\n"
     ]
    },
    {
     "name": "stdout",
     "output_type": "stream",
     "text": [
      "Batch 100 of 164. Loss: 0.19248338043689728. Time: 0:00:07\n",
      "Example ouput: ounPara petani bekerja di sawah \\n Di sawah menanam padi \\n Hidup jangan untuk mencari musuh \\n Mari kita menanam budi pekerti\n",
      "\n",
      "Average Training Loss: 0.17985357071568325. Epoch time: 0:00:12\n",
      "\n",
      "Validation loss: 2.524312213847512. Validation Time: 0:00:00\n",
      "\n",
      "------------------------------\n",
      "Beginning epoch 20 of 100\n"
     ]
    },
    {
     "name": "stderr",
     "output_type": "stream",
     "text": [
      "The attention mask and the pad token id were not set. As a consequence, you may observe unexpected behavior. Please pass your input's `attention_mask` to obtain reliable results.\n",
      "Setting `pad_token_id` to `eos_token_id`:50256 for open-end generation.\n"
     ]
    },
    {
     "name": "stdout",
     "output_type": "stream",
     "text": [
      "Batch 100 of 164. Loss: 0.17449221014976501. Time: 0:00:07\n",
      "Example ouput:  electionAir tidak hanya ada di gelas \\n Di teko pun ada air selalu \\n Pengajar bukan hanya di kelas \\n Pengalaman pun juga gurumu\n",
      "\n",
      "Average Training Loss: 0.17124196877930223. Epoch time: 0:00:12\n",
      "\n",
      "Validation loss: 2.5552963269384286. Validation Time: 0:00:00\n",
      "\n",
      "------------------------------\n",
      "Beginning epoch 21 of 100\n"
     ]
    },
    {
     "name": "stderr",
     "output_type": "stream",
     "text": [
      "The attention mask and the pad token id were not set. As a consequence, you may observe unexpected behavior. Please pass your input's `attention_mask` to obtain reliable results.\n",
      "Setting `pad_token_id` to `eos_token_id`:50256 for open-end generation.\n"
     ]
    },
    {
     "name": "stdout",
     "output_type": "stream",
     "text": [
      "Batch 100 of 164. Loss: 0.14317792654037476. Time: 0:00:07\n",
      "Example ouput:  crazyPohonnya bulat berdaun rindang \\n Asam dan hijau ketika muda \\n Bentuknya ia sebuah penjualang \\npun masak, kuninglah ia? (Jawabannya: Belimbing)\n",
      "\n",
      "Average Training Loss: 0.15847723104241418. Epoch time: 0:00:12\n",
      "\n",
      "Validation loss: 2.5729754598517167. Validation Time: 0:00:00\n",
      "\n",
      "------------------------------\n",
      "Beginning epoch 22 of 100\n"
     ]
    },
    {
     "name": "stderr",
     "output_type": "stream",
     "text": [
      "The attention mask and the pad token id were not set. As a consequence, you may observe unexpected behavior. Please pass your input's `attention_mask` to obtain reliable results.\n",
      "Setting `pad_token_id` to `eos_token_id`:50256 for open-end generation.\n"
     ]
    },
    {
     "name": "stdout",
     "output_type": "stream",
     "text": [
      "Batch 100 of 164. Loss: 0.12771156430244446. Time: 0:00:07\n",
      "Example ouput:  benchMendapat rusa belang di kaki \\n Rusanya makan daun suji \\n Hendaklah Kamu memiliki \\n Segenap akhlak baik terpuji\n",
      "\n",
      "Average Training Loss: 0.15524617668877289. Epoch time: 0:00:12\n",
      "\n",
      "Validation loss: 2.580487928892437. Validation Time: 0:00:00\n",
      "\n",
      "------------------------------\n",
      "Beginning epoch 23 of 100\n"
     ]
    },
    {
     "name": "stderr",
     "output_type": "stream",
     "text": [
      "The attention mask and the pad token id were not set. As a consequence, you may observe unexpected behavior. Please pass your input's `attention_mask` to obtain reliable results.\n",
      "Setting `pad_token_id` to `eos_token_id`:50256 for open-end generation.\n"
     ]
    },
    {
     "name": "stdout",
     "output_type": "stream",
     "text": [
      "Batch 100 of 164. Loss: 0.15363511443138123. Time: 0:00:07\n",
      "Example ouput:  incorporatedSungguh bahagia hati tertawa \\n menjadi dibawa palu \\n Jika menjadi daun tuhan punya \\n Moga terhapus segala dosa\n",
      "\n",
      "Average Training Loss: 0.1511186916926285. Epoch time: 0:00:12\n",
      "\n",
      "Validation loss: 2.594819552020023. Validation Time: 0:00:00\n",
      "\n",
      "------------------------------\n",
      "Beginning epoch 24 of 100\n"
     ]
    },
    {
     "name": "stderr",
     "output_type": "stream",
     "text": [
      "The attention mask and the pad token id were not set. As a consequence, you may observe unexpected behavior. Please pass your input's `attention_mask` to obtain reliable results.\n",
      "Setting `pad_token_id` to `eos_token_id`:50256 for open-end generation.\n"
     ]
    },
    {
     "name": "stdout",
     "output_type": "stream",
     "text": [
      "Batch 100 of 164. Loss: 0.12675589323043823. Time: 0:00:07\n",
      "Example ouput: PeterJanganlah kamu suka mengolok \\n Bisa-bisa rugi akhirnya \\n Ada daun tak punya pok \\n Setiap bangunan memilikinya?\n",
      "\n",
      "Average Training Loss: 0.14153489524998317. Epoch time: 0:00:12\n",
      "\n",
      "Validation loss: 2.611608812683507. Validation Time: 0:00:00\n",
      "\n",
      "------------------------------\n",
      "Beginning epoch 25 of 100\n"
     ]
    },
    {
     "name": "stderr",
     "output_type": "stream",
     "text": [
      "The attention mask and the pad token id were not set. As a consequence, you may observe unexpected behavior. Please pass your input's `attention_mask` to obtain reliable results.\n",
      "Setting `pad_token_id` to `eos_token_id`:50256 for open-end generation.\n"
     ]
    },
    {
     "name": "stdout",
     "output_type": "stream",
     "text": [
      "Batch 100 of 164. Loss: 0.1522752195596695. Time: 0:00:07\n",
      "Example ouput: uringDi pinggir pantai main ayunan \\n Melambung tinggi tiada terasa \\n Bila memanggil dengan senyuman \\n Orang pun datang dengan tertawa\n",
      "\n",
      "Average Training Loss: 0.14273718776317632. Epoch time: 0:00:12\n",
      "\n",
      "Validation loss: 2.633807533665707. Validation Time: 0:00:00\n",
      "\n",
      "------------------------------\n",
      "Beginning epoch 26 of 100\n"
     ]
    },
    {
     "name": "stderr",
     "output_type": "stream",
     "text": [
      "The attention mask and the pad token id were not set. As a consequence, you may observe unexpected behavior. Please pass your input's `attention_mask` to obtain reliable results.\n",
      "Setting `pad_token_id` to `eos_token_id`:50256 for open-end generation.\n"
     ]
    },
    {
     "name": "stdout",
     "output_type": "stream",
     "text": [
      "Batch 100 of 164. Loss: 0.1255185455083847. Time: 0:00:07\n",
      "Example ouput:  reproductiveMelihat awan beriring-iringan \\n Kerlip bintang berseri-seri \\n Malam hari ada rembulan \\n Siang hari ada matahari\n",
      "\n",
      "Average Training Loss: 0.1410544213907021. Epoch time: 0:00:12\n",
      "\n",
      "Validation loss: 2.6525682399147437. Validation Time: 0:00:00\n",
      "\n",
      "------------------------------\n",
      "Beginning epoch 27 of 100\n"
     ]
    },
    {
     "name": "stderr",
     "output_type": "stream",
     "text": [
      "The attention mask and the pad token id were not set. As a consequence, you may observe unexpected behavior. Please pass your input's `attention_mask` to obtain reliable results.\n",
      "Setting `pad_token_id` to `eos_token_id`:50256 for open-end generation.\n"
     ]
    },
    {
     "name": "stdout",
     "output_type": "stream",
     "text": [
      "Batch 100 of 164. Loss: 0.1440693885087967. Time: 0:00:07\n",
      "Example ouput:  zoneJoni main bersama Yusa \\n Tapi lupa mengajak Firman \\n Jangan pernah remehkan puasa \\n Karena puasa termasuk rukun iman\n",
      "\n",
      "Average Training Loss: 0.1407084135202373. Epoch time: 0:00:12\n",
      "\n",
      "Validation loss: 2.6539143763090434. Validation Time: 0:00:00\n",
      "\n",
      "------------------------------\n",
      "Beginning epoch 28 of 100\n"
     ]
    },
    {
     "name": "stderr",
     "output_type": "stream",
     "text": [
      "The attention mask and the pad token id were not set. As a consequence, you may observe unexpected behavior. Please pass your input's `attention_mask` to obtain reliable results.\n",
      "Setting `pad_token_id` to `eos_token_id`:50256 for open-end generation.\n"
     ]
    },
    {
     "name": "stdout",
     "output_type": "stream",
     "text": [
      "Batch 100 of 164. Loss: 0.11901348829269409. Time: 0:00:07\n",
      "Example ouput:  commitsDi jalan-jalan sama bagus \\n Dibakarhuha tolong jus \\n Kalau adik ingin menjadi pintar \\n Jangan tak inggalkan resiko\n",
      "\n",
      "Average Training Loss: 0.13748958425187482. Epoch time: 0:00:12\n",
      "\n",
      "Validation loss: 2.6488834619522095. Validation Time: 0:00:00\n",
      "\n",
      "------------------------------\n",
      "Beginning epoch 29 of 100\n"
     ]
    },
    {
     "name": "stderr",
     "output_type": "stream",
     "text": [
      "The attention mask and the pad token id were not set. As a consequence, you may observe unexpected behavior. Please pass your input's `attention_mask` to obtain reliable results.\n",
      "Setting `pad_token_id` to `eos_token_id`:50256 for open-end generation.\n"
     ]
    },
    {
     "name": "stdout",
     "output_type": "stream",
     "text": [
      "Batch 100 of 164. Loss: 0.13875140249729156. Time: 0:00:07\n",
      "Example ouput:  ironyHari Minggu belanja ke pasar \\n Membeli sayuran dan juga beras \\n Tiap hari rajinlah belajar \\n Agar di masa depan jadi orang yang cerdas\n",
      "\n",
      "Average Training Loss: 0.13154814001627085. Epoch time: 0:00:12\n",
      "\n",
      "Validation loss: 2.6845933010703638. Validation Time: 0:00:00\n",
      "\n",
      "------------------------------\n",
      "Beginning epoch 30 of 100\n"
     ]
    },
    {
     "name": "stderr",
     "output_type": "stream",
     "text": [
      "The attention mask and the pad token id were not set. As a consequence, you may observe unexpected behavior. Please pass your input's `attention_mask` to obtain reliable results.\n",
      "Setting `pad_token_id` to `eos_token_id`:50256 for open-end generation.\n"
     ]
    },
    {
     "name": "stdout",
     "output_type": "stream",
     "text": [
      "Batch 100 of 164. Loss: 0.15406231582164764. Time: 0:00:07\n",
      "Example ouput:  SahPasang siang seperti petang \\n Petani panen hati rusa \\n Jangan sampai kita suka menuding \\n Nanti ikan cubalah teka apa\n",
      "\n",
      "Average Training Loss: 0.12583645982894956. Epoch time: 0:00:12\n",
      "\n",
      "Validation loss: 2.6793932099091378. Validation Time: 0:00:00\n",
      "\n",
      "------------------------------\n",
      "Beginning epoch 31 of 100\n"
     ]
    },
    {
     "name": "stderr",
     "output_type": "stream",
     "text": [
      "The attention mask and the pad token id were not set. As a consequence, you may observe unexpected behavior. Please pass your input's `attention_mask` to obtain reliable results.\n",
      "Setting `pad_token_id` to `eos_token_id`:50256 for open-end generation.\n"
     ]
    },
    {
     "name": "stdout",
     "output_type": "stream",
     "text": [
      "Batch 100 of 164. Loss: 0.11556185036897659. Time: 0:00:07\n",
      "Example ouput:  BryanBuah duku buah delima \\n Buah salak satu ikat \\n Suka duka berbagi bersama \\n Denganmu wahai sahabat\n",
      "\n",
      "Average Training Loss: 0.12346744932597731. Epoch time: 0:00:12\n",
      "\n",
      "Validation loss: 2.6920659353858545. Validation Time: 0:00:00\n",
      "\n",
      "------------------------------\n",
      "Beginning epoch 32 of 100\n"
     ]
    },
    {
     "name": "stderr",
     "output_type": "stream",
     "text": [
      "The attention mask and the pad token id were not set. As a consequence, you may observe unexpected behavior. Please pass your input's `attention_mask` to obtain reliable results.\n",
      "Setting `pad_token_id` to `eos_token_id`:50256 for open-end generation.\n"
     ]
    },
    {
     "name": "stdout",
     "output_type": "stream",
     "text": [
      "Batch 100 of 164. Loss: 0.13967858254909515. Time: 0:00:07\n",
      "Example ouput:  spiritsJalan-jalan ke pinggir empang  \\n nemu sendok dipinggir empang \\n hati siapa tak bimbang \\n situ botak minta dikepang\n",
      "\n",
      "Average Training Loss: 0.12085029405609864. Epoch time: 0:00:12\n",
      "\n",
      "Validation loss: 2.718037812333358. Validation Time: 0:00:00\n",
      "\n",
      "------------------------------\n",
      "Beginning epoch 33 of 100\n"
     ]
    },
    {
     "name": "stderr",
     "output_type": "stream",
     "text": [
      "The attention mask and the pad token id were not set. As a consequence, you may observe unexpected behavior. Please pass your input's `attention_mask` to obtain reliable results.\n",
      "Setting `pad_token_id` to `eos_token_id`:50256 for open-end generation.\n"
     ]
    },
    {
     "name": "stdout",
     "output_type": "stream",
     "text": [
      "Batch 100 of 164. Loss: 0.11863629519939423. Time: 0:00:07\n",
      "Example ouput:  seesKera di hutan cekat melompat \\n Si pemburu memasang jerat \\n Siapa aja bermain \\n Karena kuasa Tuhan yang mama\n",
      "\n",
      "Average Training Loss: 0.1215176124852605. Epoch time: 0:00:12\n",
      "\n",
      "Validation loss: 2.6955375608644987. Validation Time: 0:00:00\n",
      "\n",
      "------------------------------\n",
      "Beginning epoch 34 of 100\n"
     ]
    },
    {
     "name": "stderr",
     "output_type": "stream",
     "text": [
      "The attention mask and the pad token id were not set. As a consequence, you may observe unexpected behavior. Please pass your input's `attention_mask` to obtain reliable results.\n",
      "Setting `pad_token_id` to `eos_token_id`:50256 for open-end generation.\n"
     ]
    },
    {
     "name": "stdout",
     "output_type": "stream",
     "text": [
      "Batch 100 of 164. Loss: 0.12575379014015198. Time: 0:00:07\n",
      "Example ouput:  hungryPohon kurma sebesar paha \\n Pohon kemiri tidak berduri \\n Mari bersama kita berusaha \\n Membangun seni negeri sendiri\n",
      "\n",
      "Average Training Loss: 0.11754238160281646. Epoch time: 0:00:12\n",
      "\n",
      "Validation loss: 2.7129576708141125. Validation Time: 0:00:00\n",
      "\n",
      "------------------------------\n",
      "Beginning epoch 35 of 100\n"
     ]
    },
    {
     "name": "stderr",
     "output_type": "stream",
     "text": [
      "The attention mask and the pad token id were not set. As a consequence, you may observe unexpected behavior. Please pass your input's `attention_mask` to obtain reliable results.\n",
      "Setting `pad_token_id` to `eos_token_id`:50256 for open-end generation.\n"
     ]
    },
    {
     "name": "stdout",
     "output_type": "stream",
     "text": [
      "Batch 100 of 164. Loss: 0.10269439220428467. Time: 0:00:07\n",
      "Example ouput:  PTJalan-jalan ke pemancingan \\n Berangkatnya naik motor \\n Jangan melupakan pendidikan \\n Karena di situ ilmu pengetahuan bertambah\n",
      "\n",
      "Average Training Loss: 0.11743286901676073. Epoch time: 0:00:12\n",
      "\n",
      "Validation loss: 2.711263524858575. Validation Time: 0:00:00\n",
      "\n",
      "------------------------------\n",
      "Beginning epoch 36 of 100\n"
     ]
    },
    {
     "name": "stderr",
     "output_type": "stream",
     "text": [
      "The attention mask and the pad token id were not set. As a consequence, you may observe unexpected behavior. Please pass your input's `attention_mask` to obtain reliable results.\n",
      "Setting `pad_token_id` to `eos_token_id`:50256 for open-end generation.\n"
     ]
    },
    {
     "name": "stdout",
     "output_type": "stream",
     "text": [
      "Batch 100 of 164. Loss: 0.12569428980350494. Time: 0:00:07\n",
      "Example ouput: üSungguh segar air selasih \\n Untuk diminum waktu dahaga \\n Sayangi ibu yang penuh kasih \\n Berletih-letih  menjaga kita\n",
      "\n",
      "Average Training Loss: 0.11824295842429487. Epoch time: 0:00:12\n",
      "\n",
      "Validation loss: 2.7508965479700187. Validation Time: 0:00:00\n",
      "\n",
      "------------------------------\n",
      "Beginning epoch 37 of 100\n"
     ]
    },
    {
     "name": "stderr",
     "output_type": "stream",
     "text": [
      "The attention mask and the pad token id were not set. As a consequence, you may observe unexpected behavior. Please pass your input's `attention_mask` to obtain reliable results.\n",
      "Setting `pad_token_id` to `eos_token_id`:50256 for open-end generation.\n"
     ]
    },
    {
     "name": "stdout",
     "output_type": "stream",
     "text": [
      "Batch 100 of 164. Loss: 0.12329023331403732. Time: 0:00:07\n",
      "Example ouput: ruceKe toko swalayan membeli minyak zaitun \\n Tiba di swalayan banyak anak bermain \\n Selalu lah menjaga sopan santun \\n Agar dihargai oleh orang lain\n",
      "\n",
      "Average Training Loss: 0.11677236723281988. Epoch time: 0:00:12\n",
      "\n",
      "Validation loss: 2.747651928349545. Validation Time: 0:00:00\n",
      "\n",
      "------------------------------\n",
      "Beginning epoch 38 of 100\n"
     ]
    },
    {
     "name": "stderr",
     "output_type": "stream",
     "text": [
      "The attention mask and the pad token id were not set. As a consequence, you may observe unexpected behavior. Please pass your input's `attention_mask` to obtain reliable results.\n",
      "Setting `pad_token_id` to `eos_token_id`:50256 for open-end generation.\n"
     ]
    },
    {
     "name": "stdout",
     "output_type": "stream",
     "text": [
      "Batch 100 of 164. Loss: 0.1015658900141716. Time: 0:00:07\n",
      "Example ouput:  derivativesMlaku-mlaku ning Malioboro \\n Menawi sayah numpak becak luwih sekeca \\n Sugeng riyadi kagem panjenengan sedaya \\n Sagung kalepatan nyuwun diparingi pangapura\n",
      "\n",
      "Average Training Loss: 0.11248383357575754. Epoch time: 0:00:12\n",
      "\n",
      "Validation loss: 2.7695902460499813. Validation Time: 0:00:00\n",
      "\n",
      "------------------------------\n",
      "Beginning epoch 39 of 100\n"
     ]
    },
    {
     "name": "stderr",
     "output_type": "stream",
     "text": [
      "The attention mask and the pad token id were not set. As a consequence, you may observe unexpected behavior. Please pass your input's `attention_mask` to obtain reliable results.\n",
      "Setting `pad_token_id` to `eos_token_id`:50256 for open-end generation.\n"
     ]
    },
    {
     "name": "stdout",
     "output_type": "stream",
     "text": [
      "Batch 100 of 164. Loss: 0.12118761241436005. Time: 0:00:07\n",
      "Example ouput: \u0019Tubuhmu begitu lentik \\n pasti kamu sering minum jamu \\n Bagi oranglain mungkin kau tidak terlalu cantik \\n tapi bagiku tidak ada yang secantik dirimu\n",
      "\n",
      "Average Training Loss: 0.11178241538383611. Epoch time: 0:00:12\n",
      "\n",
      "Validation loss: 2.7676301190727637. Validation Time: 0:00:00\n",
      "\n",
      "------------------------------\n",
      "Beginning epoch 40 of 100\n"
     ]
    },
    {
     "name": "stderr",
     "output_type": "stream",
     "text": [
      "The attention mask and the pad token id were not set. As a consequence, you may observe unexpected behavior. Please pass your input's `attention_mask` to obtain reliable results.\n",
      "Setting `pad_token_id` to `eos_token_id`:50256 for open-end generation.\n"
     ]
    },
    {
     "name": "stdout",
     "output_type": "stream",
     "text": [
      "Batch 100 of 164. Loss: 0.10108162462711334. Time: 0:00:07\n",
      "Example ouput:  rememberingGelas termasuk barang pecah belah belah belah \\n Maka jika dipegang terasa keras \\n Marilah semangat pergi ke sekolah \\n Tuntut ilmu dengan rajin jangan malas\n",
      "\n",
      "Average Training Loss: 0.11197800984288134. Epoch time: 0:00:12\n",
      "\n",
      "Validation loss: 2.794276281407005. Validation Time: 0:00:00\n",
      "\n",
      "------------------------------\n",
      "Beginning epoch 41 of 100\n"
     ]
    },
    {
     "name": "stderr",
     "output_type": "stream",
     "text": [
      "The attention mask and the pad token id were not set. As a consequence, you may observe unexpected behavior. Please pass your input's `attention_mask` to obtain reliable results.\n",
      "Setting `pad_token_id` to `eos_token_id`:50256 for open-end generation.\n"
     ]
    },
    {
     "name": "stdout",
     "output_type": "stream",
     "text": [
      "Batch 100 of 164. Loss: 0.1119140014052391. Time: 0:00:07\n",
      "Example ouput:  SourcesBuah itu jangan dipetik \\n Susah payah saat ditanam \\n Engkaulah gadis tercantik \\n Kuimpikan siang dan malam\n",
      "\n",
      "Average Training Loss: 0.11105582277040656. Epoch time: 0:00:12\n",
      "\n",
      "Validation loss: 2.7797056436538696. Validation Time: 0:00:00\n",
      "\n",
      "------------------------------\n",
      "Beginning epoch 42 of 100\n"
     ]
    },
    {
     "name": "stderr",
     "output_type": "stream",
     "text": [
      "The attention mask and the pad token id were not set. As a consequence, you may observe unexpected behavior. Please pass your input's `attention_mask` to obtain reliable results.\n",
      "Setting `pad_token_id` to `eos_token_id`:50256 for open-end generation.\n"
     ]
    },
    {
     "name": "stdout",
     "output_type": "stream",
     "text": [
      "Batch 100 of 164. Loss: 0.09983499348163605. Time: 0:00:07\n",
      "Example ouput: emsPantai penuh dengan karang \\n Datang ombak karang menahan \\n Purnama bulat bersinar terang \\n Karena kuasa Tuhan yang Agung\n",
      "\n",
      "Average Training Loss: 0.10745737342754515. Epoch time: 0:00:12\n",
      "\n",
      "Validation loss: 2.8092515531339144. Validation Time: 0:00:00\n",
      "\n",
      "------------------------------\n",
      "Beginning epoch 43 of 100\n"
     ]
    },
    {
     "name": "stderr",
     "output_type": "stream",
     "text": [
      "The attention mask and the pad token id were not set. As a consequence, you may observe unexpected behavior. Please pass your input's `attention_mask` to obtain reliable results.\n",
      "Setting `pad_token_id` to `eos_token_id`:50256 for open-end generation.\n"
     ]
    },
    {
     "name": "stdout",
     "output_type": "stream",
     "text": [
      "Batch 100 of 164. Loss: 0.14941814541816711. Time: 0:00:07\n",
      "Example ouput: tzCuka tebal tampang bengis \\n Raup negeri sampai habis \\n Wahai kau para zionis \\n Bersiaplah untuk menangis\n",
      "\n",
      "Average Training Loss: 0.10736868698604224. Epoch time: 0:00:12\n",
      "\n",
      "Validation loss: 2.829859677113985. Validation Time: 0:00:00\n",
      "\n",
      "------------------------------\n",
      "Beginning epoch 44 of 100\n"
     ]
    },
    {
     "name": "stderr",
     "output_type": "stream",
     "text": [
      "The attention mask and the pad token id were not set. As a consequence, you may observe unexpected behavior. Please pass your input's `attention_mask` to obtain reliable results.\n",
      "Setting `pad_token_id` to `eos_token_id`:50256 for open-end generation.\n"
     ]
    },
    {
     "name": "stdout",
     "output_type": "stream",
     "text": [
      "Batch 100 of 164. Loss: 0.10580480098724365. Time: 0:00:07\n",
      "Example ouput: maticJalan-jalan untuk membeli benang \\n Barang yang dipilih harus kuat \\n Kalau mau selalu menang \\n Harus jadi yang terbaik dan semangat\n",
      "\n",
      "Average Training Loss: 0.10580599971297311. Epoch time: 0:00:12\n",
      "\n",
      "Validation loss: 2.8522492270720634. Validation Time: 0:00:00\n",
      "\n",
      "------------------------------\n",
      "Beginning epoch 45 of 100\n"
     ]
    },
    {
     "name": "stderr",
     "output_type": "stream",
     "text": [
      "The attention mask and the pad token id were not set. As a consequence, you may observe unexpected behavior. Please pass your input's `attention_mask` to obtain reliable results.\n",
      "Setting `pad_token_id` to `eos_token_id`:50256 for open-end generation.\n"
     ]
    },
    {
     "name": "stdout",
     "output_type": "stream",
     "text": [
      "Batch 100 of 164. Loss: 0.0987972691655159. Time: 0:00:07\n",
      "Example ouput:  syndAnak angsa mati lemas \\n Mati lemas di air masin \\n Hilang bahasa karena emas \\n Hilang budi karena miskin\n",
      "\n",
      "Average Training Loss: 0.10265812736640616. Epoch time: 0:00:12\n",
      "\n",
      "Validation loss: 2.8228287822321843. Validation Time: 0:00:00\n",
      "\n",
      "------------------------------\n",
      "Beginning epoch 46 of 100\n"
     ]
    },
    {
     "name": "stderr",
     "output_type": "stream",
     "text": [
      "The attention mask and the pad token id were not set. As a consequence, you may observe unexpected behavior. Please pass your input's `attention_mask` to obtain reliable results.\n",
      "Setting `pad_token_id` to `eos_token_id`:50256 for open-end generation.\n"
     ]
    },
    {
     "name": "stdout",
     "output_type": "stream",
     "text": [
      "Batch 100 of 164. Loss: 0.1120491698384285. Time: 0:00:07\n",
      "Example ouput:  gamBila datang bubuhkan paraf \\n Tuliskan nama di dalam buku \\n Kalau sudah memberi maaf \\n Jangan ungkit salah yang lalu\n",
      "\n",
      "Average Training Loss: 0.10308018463050447. Epoch time: 0:00:12\n",
      "\n",
      "Validation loss: 2.833265448871412. Validation Time: 0:00:00\n",
      "\n",
      "------------------------------\n",
      "Beginning epoch 47 of 100\n"
     ]
    },
    {
     "name": "stderr",
     "output_type": "stream",
     "text": [
      "The attention mask and the pad token id were not set. As a consequence, you may observe unexpected behavior. Please pass your input's `attention_mask` to obtain reliable results.\n",
      "Setting `pad_token_id` to `eos_token_id`:50256 for open-end generation.\n"
     ]
    },
    {
     "name": "stdout",
     "output_type": "stream",
     "text": [
      "Batch 100 of 164. Loss: 0.09217573702335358. Time: 0:00:07\n",
      "Example ouput:  injuryBesi bagus parang panjang \\n Jatuh ke sawah tanah tanah gembur \\n Pantai indah memanjang \\n Ombak datang mendebur\n",
      "\n",
      "Average Training Loss: 0.10284076303970523. Epoch time: 0:00:12\n",
      "\n",
      "Validation loss: 2.8336685770436336. Validation Time: 0:00:00\n",
      "\n",
      "------------------------------\n",
      "Beginning epoch 48 of 100\n"
     ]
    },
    {
     "name": "stderr",
     "output_type": "stream",
     "text": [
      "The attention mask and the pad token id were not set. As a consequence, you may observe unexpected behavior. Please pass your input's `attention_mask` to obtain reliable results.\n",
      "Setting `pad_token_id` to `eos_token_id`:50256 for open-end generation.\n"
     ]
    },
    {
     "name": "stdout",
     "output_type": "stream",
     "text": [
      "Batch 100 of 164. Loss: 0.11148194223642349. Time: 0:00:07\n",
      "Example ouput: azaIndahnya wisata alam Kamboja \\n Gelap malam dihiasi lentera \\n Hidup damai rukun bersahaja \\n Tanpa perang lebih sejahtera\n",
      "\n",
      "Average Training Loss: 0.1005594977972711. Epoch time: 0:00:12\n",
      "\n",
      "Validation loss: 2.8080795250440898. Validation Time: 0:00:00\n",
      "\n",
      "------------------------------\n",
      "Beginning epoch 49 of 100\n"
     ]
    },
    {
     "name": "stderr",
     "output_type": "stream",
     "text": [
      "The attention mask and the pad token id were not set. As a consequence, you may observe unexpected behavior. Please pass your input's `attention_mask` to obtain reliable results.\n",
      "Setting `pad_token_id` to `eos_token_id`:50256 for open-end generation.\n"
     ]
    },
    {
     "name": "stdout",
     "output_type": "stream",
     "text": [
      "Batch 100 of 164. Loss: 0.1051078662276268. Time: 0:00:07\n",
      "Example ouput:  membranePergi ke kota naik angkutan \\n Tidak lupa berkunjung ke balai kota \\n Punya sisik tapi bukan ikan \\n Punya mahkota tapi bukan raja\n",
      "\n",
      "Average Training Loss: 0.100180530829764. Epoch time: 0:00:12\n",
      "\n",
      "Validation loss: 2.827327013015747. Validation Time: 0:00:00\n",
      "\n",
      "------------------------------\n",
      "Beginning epoch 50 of 100\n"
     ]
    },
    {
     "name": "stderr",
     "output_type": "stream",
     "text": [
      "The attention mask and the pad token id were not set. As a consequence, you may observe unexpected behavior. Please pass your input's `attention_mask` to obtain reliable results.\n",
      "Setting `pad_token_id` to `eos_token_id`:50256 for open-end generation.\n"
     ]
    },
    {
     "name": "stdout",
     "output_type": "stream",
     "text": [
      "Batch 100 of 164. Loss: 0.10736342519521713. Time: 0:00:07\n",
      "Example ouput: ijingPergi ke pasar membeli arang \\n Banyak orang begitu ramai \\n Begitu buruk istilah perang \\n Tetaplah rukun ciptakan damai\n",
      "\n",
      "Average Training Loss: 0.09848833733760728. Epoch time: 0:00:12\n",
      "\n",
      "Validation loss: 2.8619503535722433. Validation Time: 0:00:00\n",
      "\n",
      "------------------------------\n",
      "Beginning epoch 51 of 100\n"
     ]
    },
    {
     "name": "stderr",
     "output_type": "stream",
     "text": [
      "The attention mask and the pad token id were not set. As a consequence, you may observe unexpected behavior. Please pass your input's `attention_mask` to obtain reliable results.\n",
      "Setting `pad_token_id` to `eos_token_id`:50256 for open-end generation.\n"
     ]
    },
    {
     "name": "stdout",
     "output_type": "stream",
     "text": [
      "Batch 100 of 164. Loss: 0.11631414294242859. Time: 0:00:07\n",
      "Example ouput:  castPulang siang di hari rabu \\n Langsung tidur didalam rumah \\n Walau aku sering mengecewakanmu \\n Kasih ibu tetap tercurah\n",
      "\n",
      "Average Training Loss: 0.09706555656725313. Epoch time: 0:00:12\n",
      "\n",
      "Validation loss: 2.892505175188968. Validation Time: 0:00:00\n",
      "\n",
      "------------------------------\n",
      "Beginning epoch 52 of 100\n"
     ]
    },
    {
     "name": "stderr",
     "output_type": "stream",
     "text": [
      "The attention mask and the pad token id were not set. As a consequence, you may observe unexpected behavior. Please pass your input's `attention_mask` to obtain reliable results.\n",
      "Setting `pad_token_id` to `eos_token_id`:50256 for open-end generation.\n"
     ]
    },
    {
     "name": "stdout",
     "output_type": "stream",
     "text": [
      "Batch 100 of 164. Loss: 0.09040139615535736. Time: 0:00:07\n",
      "Example ouput:  purchBerakit-rakit ke hulu \\n Berenang-renang ketepian \\n Ayok berangkat ke penghulu \\n Dari pada Cuma temenan\n",
      "\n",
      "Average Training Loss: 0.0988456175276419. Epoch time: 0:00:12\n",
      "\n",
      "Validation loss: 2.874212515981574. Validation Time: 0:00:00\n",
      "\n",
      "------------------------------\n",
      "Beginning epoch 53 of 100\n"
     ]
    },
    {
     "name": "stderr",
     "output_type": "stream",
     "text": [
      "The attention mask and the pad token id were not set. As a consequence, you may observe unexpected behavior. Please pass your input's `attention_mask` to obtain reliable results.\n",
      "Setting `pad_token_id` to `eos_token_id`:50256 for open-end generation.\n"
     ]
    },
    {
     "name": "stdout",
     "output_type": "stream",
     "text": [
      "Batch 100 of 164. Loss: 0.09856217354536057. Time: 0:00:07\n",
      "Example ouput:  shouldersSungguh bahaya ular berbisa \\n bila tergigit akan koma \\n sungguh bahagia kurasa \\n bila kita slalu bersama\n",
      "\n",
      "Average Training Loss: 0.09661978215160894. Epoch time: 0:00:12\n",
      "\n",
      "Validation loss: 2.8776655636335673. Validation Time: 0:00:00\n",
      "\n",
      "------------------------------\n",
      "Beginning epoch 54 of 100\n"
     ]
    },
    {
     "name": "stderr",
     "output_type": "stream",
     "text": [
      "The attention mask and the pad token id were not set. As a consequence, you may observe unexpected behavior. Please pass your input's `attention_mask` to obtain reliable results.\n",
      "Setting `pad_token_id` to `eos_token_id`:50256 for open-end generation.\n"
     ]
    },
    {
     "name": "stdout",
     "output_type": "stream",
     "text": [
      "Batch 100 of 164. Loss: 0.08814997971057892. Time: 0:00:07\n",
      "Example ouput:  builtKemanapun kaki melangkah \\n Aku selalu mengurai doa \\n Kemanapun cinta merambah \\n Aku selalu mengurai setia\n",
      "\n",
      "Average Training Loss: 0.095674739060242. Epoch time: 0:00:12\n",
      "\n",
      "Validation loss: 2.8736063994859395. Validation Time: 0:00:00\n",
      "\n",
      "------------------------------\n",
      "Beginning epoch 55 of 100\n"
     ]
    },
    {
     "name": "stderr",
     "output_type": "stream",
     "text": [
      "The attention mask and the pad token id were not set. As a consequence, you may observe unexpected behavior. Please pass your input's `attention_mask` to obtain reliable results.\n",
      "Setting `pad_token_id` to `eos_token_id`:50256 for open-end generation.\n"
     ]
    },
    {
     "name": "stdout",
     "output_type": "stream",
     "text": [
      "Batch 100 of 164. Loss: 0.09660349041223526. Time: 0:00:07\n",
      "Example ouput:  openlyJalan-jalan ke kota Blitar \\n Beli semangka di Surabaya \\n Jikalau adik ingin pintar \\n Banyak membaca itu kuncinya\n",
      "\n",
      "Average Training Loss: 0.09835491443007457. Epoch time: 0:00:12\n",
      "\n",
      "Validation loss: 2.9021117310774955. Validation Time: 0:00:00\n",
      "\n",
      "------------------------------\n",
      "Beginning epoch 56 of 100\n"
     ]
    },
    {
     "name": "stderr",
     "output_type": "stream",
     "text": [
      "The attention mask and the pad token id were not set. As a consequence, you may observe unexpected behavior. Please pass your input's `attention_mask` to obtain reliable results.\n",
      "Setting `pad_token_id` to `eos_token_id`:50256 for open-end generation.\n"
     ]
    },
    {
     "name": "stdout",
     "output_type": "stream",
     "text": [
      "Batch 100 of 164. Loss: 0.09085047245025635. Time: 0:00:07\n",
      "Example ouput:  haltedDaun terap di atas dulang \\n Anak udang mati di tuba \\n Dalam kitab ada terlarang \\n Yang haram jangan dicoba\n",
      "\n",
      "Average Training Loss: 0.09585969917839621. Epoch time: 0:00:12\n",
      "\n",
      "Validation loss: 2.908180098784597. Validation Time: 0:00:00\n",
      "\n",
      "------------------------------\n",
      "Beginning epoch 57 of 100\n"
     ]
    },
    {
     "name": "stderr",
     "output_type": "stream",
     "text": [
      "The attention mask and the pad token id were not set. As a consequence, you may observe unexpected behavior. Please pass your input's `attention_mask` to obtain reliable results.\n",
      "Setting `pad_token_id` to `eos_token_id`:50256 for open-end generation.\n"
     ]
    },
    {
     "name": "stdout",
     "output_type": "stream",
     "text": [
      "Batch 100 of 164. Loss: 0.09304280579090118. Time: 0:00:07\n",
      "Example ouput:  NikBeli sayur beli buah \\n Hendak dimakan tapi masih mentah \\n Jangan malas jangan lelah \\n Semangat belajar teruskanlah\n",
      "\n",
      "Average Training Loss: 0.09596511230963033. Epoch time: 0:00:12\n",
      "\n",
      "Validation loss: 2.8806355250509164. Validation Time: 0:00:00\n",
      "\n",
      "------------------------------\n",
      "Beginning epoch 58 of 100\n"
     ]
    },
    {
     "name": "stderr",
     "output_type": "stream",
     "text": [
      "The attention mask and the pad token id were not set. As a consequence, you may observe unexpected behavior. Please pass your input's `attention_mask` to obtain reliable results.\n",
      "Setting `pad_token_id` to `eos_token_id`:50256 for open-end generation.\n"
     ]
    },
    {
     "name": "stdout",
     "output_type": "stream",
     "text": [
      "Batch 100 of 164. Loss: 0.10471667349338531. Time: 0:00:07\n",
      "Example ouput:  tinBeribu-ribu pohon beringin \\n Hanya satu si pohon randu \\n Saat malam terasa dingin \\n Hanya wajahmu yang aku rindu\n",
      "\n",
      "Average Training Loss: 0.0936839376099226. Epoch time: 0:00:12\n",
      "\n",
      "Validation loss: 2.900907698430513. Validation Time: 0:00:00\n",
      "\n",
      "------------------------------\n",
      "Beginning epoch 59 of 100\n"
     ]
    },
    {
     "name": "stderr",
     "output_type": "stream",
     "text": [
      "The attention mask and the pad token id were not set. As a consequence, you may observe unexpected behavior. Please pass your input's `attention_mask` to obtain reliable results.\n",
      "Setting `pad_token_id` to `eos_token_id`:50256 for open-end generation.\n"
     ]
    },
    {
     "name": "stdout",
     "output_type": "stream",
     "text": [
      "Batch 100 of 164. Loss: 0.0923372432589531. Time: 0:00:07\n",
      "Example ouput:  clinicalPergi ke Monas naik delman \\n Melihat ramai burung dara \\n Baik-baiklah kita berteman \\n Banyak teman banyak saudara\n",
      "\n",
      "Average Training Loss: 0.09259299029846017. Epoch time: 0:00:12\n",
      "\n",
      "Validation loss: 2.878992513606423. Validation Time: 0:00:00\n",
      "\n",
      "------------------------------\n",
      "Beginning epoch 60 of 100\n"
     ]
    },
    {
     "name": "stderr",
     "output_type": "stream",
     "text": [
      "The attention mask and the pad token id were not set. As a consequence, you may observe unexpected behavior. Please pass your input's `attention_mask` to obtain reliable results.\n",
      "Setting `pad_token_id` to `eos_token_id`:50256 for open-end generation.\n"
     ]
    },
    {
     "name": "stdout",
     "output_type": "stream",
     "text": [
      "Batch 100 of 164. Loss: 0.10509978234767914. Time: 0:00:07\n",
      "Example ouput: lectionsBuah mangga dipetik Ata \\n Mangga mantap itu punya Pak Ari \\n Ayo bersama jaga lingkungan kita \\n Agar tetap aman dan asri\n",
      "\n",
      "Average Training Loss: 0.09091752976542566. Epoch time: 0:00:12\n",
      "\n",
      "Validation loss: 2.914941530478628. Validation Time: 0:00:00\n",
      "\n",
      "------------------------------\n",
      "Beginning epoch 61 of 100\n"
     ]
    },
    {
     "name": "stderr",
     "output_type": "stream",
     "text": [
      "The attention mask and the pad token id were not set. As a consequence, you may observe unexpected behavior. Please pass your input's `attention_mask` to obtain reliable results.\n",
      "Setting `pad_token_id` to `eos_token_id`:50256 for open-end generation.\n"
     ]
    },
    {
     "name": "stdout",
     "output_type": "stream",
     "text": [
      "Batch 100 of 164. Loss: 0.08577672392129898. Time: 0:00:07\n",
      "Example ouput: elsPecah perang di Syiria \\n Perompak masuk mengacau negeri \\n Majulah terus sahabat setia \\n Berjuang terus membela negeri\n",
      "\n",
      "Average Training Loss: 0.09056556206650851. Epoch time: 0:00:12\n",
      "\n",
      "Validation loss: 2.9213816429439343. Validation Time: 0:00:00\n",
      "\n",
      "------------------------------\n",
      "Beginning epoch 62 of 100\n"
     ]
    },
    {
     "name": "stderr",
     "output_type": "stream",
     "text": [
      "The attention mask and the pad token id were not set. As a consequence, you may observe unexpected behavior. Please pass your input's `attention_mask` to obtain reliable results.\n",
      "Setting `pad_token_id` to `eos_token_id`:50256 for open-end generation.\n"
     ]
    },
    {
     "name": "stdout",
     "output_type": "stream",
     "text": [
      "Batch 100 of 164. Loss: 0.0919131487607956. Time: 0:00:07\n",
      "Example ouput: labSiang-siang minum es \\n Minumnya sambil nonton upin ipin \\n Kamu tau siapa itu orang sukses \\n Sukses itu adalah orang-orang rajin\n",
      "\n",
      "Average Training Loss: 0.08995549426209636. Epoch time: 0:00:12\n",
      "\n",
      "Validation loss: 2.8871612297861198. Validation Time: 0:00:00\n",
      "\n",
      "------------------------------\n",
      "Beginning epoch 63 of 100\n"
     ]
    },
    {
     "name": "stderr",
     "output_type": "stream",
     "text": [
      "The attention mask and the pad token id were not set. As a consequence, you may observe unexpected behavior. Please pass your input's `attention_mask` to obtain reliable results.\n",
      "Setting `pad_token_id` to `eos_token_id`:50256 for open-end generation.\n"
     ]
    },
    {
     "name": "stdout",
     "output_type": "stream",
     "text": [
      "Batch 100 of 164. Loss: 0.09114620834589005. Time: 0:00:07\n",
      "Example ouput:  tripleHidup sehat di usia belia \\n Minum air putih banyak manfaatnya \\n Dia akan ikut bahagia \\n Jika kamu bersamanya\n",
      "\n",
      "Average Training Loss: 0.09018180664719605. Epoch time: 0:00:12\n",
      "\n",
      "Validation loss: 2.9087302935750863. Validation Time: 0:00:00\n",
      "\n",
      "------------------------------\n",
      "Beginning epoch 64 of 100\n"
     ]
    },
    {
     "name": "stderr",
     "output_type": "stream",
     "text": [
      "The attention mask and the pad token id were not set. As a consequence, you may observe unexpected behavior. Please pass your input's `attention_mask` to obtain reliable results.\n",
      "Setting `pad_token_id` to `eos_token_id`:50256 for open-end generation.\n"
     ]
    },
    {
     "name": "stdout",
     "output_type": "stream",
     "text": [
      "Batch 100 of 164. Loss: 0.08312791585922241. Time: 0:00:07\n",
      "Example ouput: 220Meringis kala tak berusaha \\n Kilat nampak di atas ombak \\n Tangis duka anak tak berdosa \\n Melihat ibu bapak mati tertembak\n",
      "\n",
      "Average Training Loss: 0.08887060931543024. Epoch time: 0:00:12\n",
      "\n",
      "Validation loss: 2.9078428996236703. Validation Time: 0:00:00\n",
      "\n",
      "------------------------------\n",
      "Beginning epoch 65 of 100\n"
     ]
    },
    {
     "name": "stderr",
     "output_type": "stream",
     "text": [
      "The attention mask and the pad token id were not set. As a consequence, you may observe unexpected behavior. Please pass your input's `attention_mask` to obtain reliable results.\n",
      "Setting `pad_token_id` to `eos_token_id`:50256 for open-end generation.\n"
     ]
    },
    {
     "name": "stdout",
     "output_type": "stream",
     "text": [
      "Batch 100 of 164. Loss: 0.08389275521039963. Time: 0:00:07\n",
      "Example ouput:  SeeBerkumpul dengan keluarga untuk arisan \\n Pelamun sibuk dengan khayalan \\n Barang siapa bermalas-malasan \\n Kelak hidup penuh dengan penyesalan\n",
      "\n",
      "Average Training Loss: 0.08823695974197329. Epoch time: 0:00:12\n",
      "\n",
      "Validation loss: 2.9069971348109997. Validation Time: 0:00:00\n",
      "\n",
      "------------------------------\n",
      "Beginning epoch 66 of 100\n"
     ]
    },
    {
     "name": "stderr",
     "output_type": "stream",
     "text": [
      "The attention mask and the pad token id were not set. As a consequence, you may observe unexpected behavior. Please pass your input's `attention_mask` to obtain reliable results.\n",
      "Setting `pad_token_id` to `eos_token_id`:50256 for open-end generation.\n"
     ]
    },
    {
     "name": "stdout",
     "output_type": "stream",
     "text": [
      "Batch 100 of 164. Loss: 0.08617477864027023. Time: 0:00:07\n",
      "Example ouput: @@Pergi ke pasar mencari daun selasih \\n Jangan lupa juga beli semangka tanpa biji \\n Ayo lekas berkemas mandi yang bersih \\n Baru setelah itu segera pergi mengaji\n",
      "\n",
      "Average Training Loss: 0.08819782415904649. Epoch time: 0:00:12\n",
      "\n",
      "Validation loss: 2.9126251183058085. Validation Time: 0:00:00\n",
      "\n",
      "------------------------------\n",
      "Beginning epoch 67 of 100\n"
     ]
    },
    {
     "name": "stderr",
     "output_type": "stream",
     "text": [
      "The attention mask and the pad token id were not set. As a consequence, you may observe unexpected behavior. Please pass your input's `attention_mask` to obtain reliable results.\n",
      "Setting `pad_token_id` to `eos_token_id`:50256 for open-end generation.\n"
     ]
    },
    {
     "name": "stdout",
     "output_type": "stream",
     "text": [
      "Batch 100 of 164. Loss: 0.09174913167953491. Time: 0:00:07\n",
      "Example ouput:  hostBurung Glatik \\n Lagi hinggap di batu       \\n Kamu memang cantik \\n Tapi kok badannya bau\n",
      "\n",
      "Average Training Loss: 0.08789678176910412. Epoch time: 0:00:12\n",
      "\n",
      "Validation loss: 2.9457892681422986. Validation Time: 0:00:00\n",
      "\n",
      "------------------------------\n",
      "Beginning epoch 68 of 100\n"
     ]
    },
    {
     "name": "stderr",
     "output_type": "stream",
     "text": [
      "The attention mask and the pad token id were not set. As a consequence, you may observe unexpected behavior. Please pass your input's `attention_mask` to obtain reliable results.\n",
      "Setting `pad_token_id` to `eos_token_id`:50256 for open-end generation.\n"
     ]
    },
    {
     "name": "stdout",
     "output_type": "stream",
     "text": [
      "Batch 100 of 164. Loss: 0.09294664859771729. Time: 0:00:07\n",
      "Example ouput: roleAda gadis perawan \\n paling cantik di kampungnya \\n Hormatilah ibumu kawan \\n Ada surga di telapak kakinya\n",
      "\n",
      "Average Training Loss: 0.08759869712336761. Epoch time: 0:00:12\n",
      "\n",
      "Validation loss: 2.934581160545349. Validation Time: 0:00:00\n",
      "\n",
      "------------------------------\n",
      "Beginning epoch 69 of 100\n"
     ]
    },
    {
     "name": "stderr",
     "output_type": "stream",
     "text": [
      "The attention mask and the pad token id were not set. As a consequence, you may observe unexpected behavior. Please pass your input's `attention_mask` to obtain reliable results.\n",
      "Setting `pad_token_id` to `eos_token_id`:50256 for open-end generation.\n"
     ]
    },
    {
     "name": "stdout",
     "output_type": "stream",
     "text": [
      "Batch 100 of 164. Loss: 0.08259443938732147. Time: 0:00:07\n",
      "Example ouput: iacPerompak masuk ke negri Syiria \\n Negeri Iran diancam juga \\n Bila waktu damai di dunia? \\n Negeri barat berperang saja\n",
      "\n",
      "Average Training Loss: 0.08730151331642778. Epoch time: 0:00:12\n",
      "\n",
      "Validation loss: 2.925589768510116. Validation Time: 0:00:00\n",
      "\n",
      "------------------------------\n",
      "Beginning epoch 70 of 100\n"
     ]
    },
    {
     "name": "stderr",
     "output_type": "stream",
     "text": [
      "The attention mask and the pad token id were not set. As a consequence, you may observe unexpected behavior. Please pass your input's `attention_mask` to obtain reliable results.\n",
      "Setting `pad_token_id` to `eos_token_id`:50256 for open-end generation.\n"
     ]
    },
    {
     "name": "stdout",
     "output_type": "stream",
     "text": [
      "Batch 100 of 164. Loss: 0.08330858498811722. Time: 0:00:07\n",
      "Example ouput:  LDMakan malam lauknya ikan \\n Pasti habis sepiring nasi \\n Jangan lupa tuk berpantun \\n Jika bertamu ke rumah betawi\n",
      "\n",
      "Average Training Loss: 0.0882695365878867. Epoch time: 0:00:12\n",
      "\n",
      "Validation loss: 2.910244213907342. Validation Time: 0:00:00\n",
      "\n",
      "------------------------------\n",
      "Beginning epoch 71 of 100\n"
     ]
    },
    {
     "name": "stderr",
     "output_type": "stream",
     "text": [
      "The attention mask and the pad token id were not set. As a consequence, you may observe unexpected behavior. Please pass your input's `attention_mask` to obtain reliable results.\n",
      "Setting `pad_token_id` to `eos_token_id`:50256 for open-end generation.\n"
     ]
    },
    {
     "name": "stdout",
     "output_type": "stream",
     "text": [
      "Batch 100 of 164. Loss: 0.08153187483549118. Time: 0:00:07\n",
      "Example ouput:  ListenBoleh masak gulai lemak \\n Makan lepas solat zohor \\n Kesan tarbiyah oleh ulamak \\n Nama Shafie kekal masyhur\n",
      "\n",
      "Average Training Loss: 0.08616739179848171. Epoch time: 0:00:12\n",
      "\n",
      "Validation loss: 2.9211210639853227. Validation Time: 0:00:00\n",
      "\n",
      "------------------------------\n",
      "Beginning epoch 72 of 100\n"
     ]
    },
    {
     "name": "stderr",
     "output_type": "stream",
     "text": [
      "The attention mask and the pad token id were not set. As a consequence, you may observe unexpected behavior. Please pass your input's `attention_mask` to obtain reliable results.\n",
      "Setting `pad_token_id` to `eos_token_id`:50256 for open-end generation.\n"
     ]
    },
    {
     "name": "stdout",
     "output_type": "stream",
     "text": [
      "Batch 100 of 164. Loss: 0.08855216950178146. Time: 0:00:07\n",
      "Example ouput:  dyKuningan identik dengan tape ketan \\n Tape ketan yang dibuat dengan sepenuh hati \\n Kalau kamu ingin jadi panutan \\n Jadilah dulu guru yang baik hati\n",
      "\n",
      "Average Training Loss: 0.08606597912929408. Epoch time: 0:00:12\n",
      "\n",
      "Validation loss: 2.9157098657206486. Validation Time: 0:00:00\n",
      "\n",
      "------------------------------\n",
      "Beginning epoch 73 of 100\n"
     ]
    },
    {
     "name": "stderr",
     "output_type": "stream",
     "text": [
      "The attention mask and the pad token id were not set. As a consequence, you may observe unexpected behavior. Please pass your input's `attention_mask` to obtain reliable results.\n",
      "Setting `pad_token_id` to `eos_token_id`:50256 for open-end generation.\n"
     ]
    },
    {
     "name": "stdout",
     "output_type": "stream",
     "text": [
      "Batch 100 of 164. Loss: 0.0892341285943985. Time: 0:00:07\n",
      "Example ouput:  DomesticLiburan di kota Surabaya \\n Keluar dari pesawat \\n Negara ini memiliki ribuan budaya \\n Tanda-tanda budaya jelas\n",
      "\n",
      "Average Training Loss: 0.08512838375641078. Epoch time: 0:00:12\n",
      "\n",
      "Validation loss: 2.928134240602192. Validation Time: 0:00:00\n",
      "\n",
      "------------------------------\n",
      "Beginning epoch 74 of 100\n"
     ]
    },
    {
     "name": "stderr",
     "output_type": "stream",
     "text": [
      "The attention mask and the pad token id were not set. As a consequence, you may observe unexpected behavior. Please pass your input's `attention_mask` to obtain reliable results.\n",
      "Setting `pad_token_id` to `eos_token_id`:50256 for open-end generation.\n"
     ]
    },
    {
     "name": "stdout",
     "output_type": "stream",
     "text": [
      "Batch 100 of 164. Loss: 0.0875895619392395. Time: 0:00:07\n",
      "Example ouput:  beneficiariesJika akan datang melamar \\n Jangan banyak tulis dihapus \\n Pabila siswa rajin belajar \\n Sudah pasti akan lulus\n",
      "\n",
      "Average Training Loss: 0.08425135419863027. Epoch time: 0:00:12\n",
      "\n",
      "Validation loss: 2.9332797841021887. Validation Time: 0:00:00\n",
      "\n",
      "------------------------------\n",
      "Beginning epoch 75 of 100\n"
     ]
    },
    {
     "name": "stderr",
     "output_type": "stream",
     "text": [
      "The attention mask and the pad token id were not set. As a consequence, you may observe unexpected behavior. Please pass your input's `attention_mask` to obtain reliable results.\n",
      "Setting `pad_token_id` to `eos_token_id`:50256 for open-end generation.\n"
     ]
    },
    {
     "name": "stdout",
     "output_type": "stream",
     "text": [
      "Batch 100 of 164. Loss: 0.08427886664867401. Time: 0:00:07\n",
      "Example ouput:  TitleHidup bahagia orang yang iman \\n Hatinya tunduk pada Rabbul Izzati \\n Kasih sayanglah kepada teman \\n Banyak teman banyak rezeki\n",
      "\n",
      "Average Training Loss: 0.08364100935982495. Epoch time: 0:00:12\n",
      "\n",
      "Validation loss: 2.9377634148848686. Validation Time: 0:00:00\n",
      "\n",
      "------------------------------\n",
      "Beginning epoch 76 of 100\n"
     ]
    },
    {
     "name": "stderr",
     "output_type": "stream",
     "text": [
      "The attention mask and the pad token id were not set. As a consequence, you may observe unexpected behavior. Please pass your input's `attention_mask` to obtain reliable results.\n",
      "Setting `pad_token_id` to `eos_token_id`:50256 for open-end generation.\n"
     ]
    },
    {
     "name": "stdout",
     "output_type": "stream",
     "text": [
      "Batch 100 of 164. Loss: 0.0824207216501236. Time: 0:00:07\n",
      "Example ouput:  μJalan-jalan ke Bekasi \\n Beli odeng lima ribuan \\n Jangan lupa makan-makanan bergizi \\n Untuk menjaga kesehatan\n",
      "\n",
      "Average Training Loss: 0.08351071496925704. Epoch time: 0:00:12\n",
      "\n",
      "Validation loss: 2.9288505504005835. Validation Time: 0:00:00\n",
      "\n",
      "------------------------------\n",
      "Beginning epoch 77 of 100\n"
     ]
    },
    {
     "name": "stderr",
     "output_type": "stream",
     "text": [
      "The attention mask and the pad token id were not set. As a consequence, you may observe unexpected behavior. Please pass your input's `attention_mask` to obtain reliable results.\n",
      "Setting `pad_token_id` to `eos_token_id`:50256 for open-end generation.\n"
     ]
    },
    {
     "name": "stdout",
     "output_type": "stream",
     "text": [
      "Batch 100 of 164. Loss: 0.07949724048376083. Time: 0:00:07\n",
      "Example ouput:  sellingKalau Kamu pergi ke dusun \\n Jangan lupa membawa beras \\n Belajarlah secara tekun \\n Supaya Kamu naik kelas\n",
      "\n",
      "Average Training Loss: 0.08269365504384041. Epoch time: 0:00:12\n",
      "\n",
      "Validation loss: 2.9474756278489767. Validation Time: 0:00:00\n",
      "\n",
      "------------------------------\n",
      "Beginning epoch 78 of 100\n"
     ]
    },
    {
     "name": "stderr",
     "output_type": "stream",
     "text": [
      "The attention mask and the pad token id were not set. As a consequence, you may observe unexpected behavior. Please pass your input's `attention_mask` to obtain reliable results.\n",
      "Setting `pad_token_id` to `eos_token_id`:50256 for open-end generation.\n"
     ]
    },
    {
     "name": "stdout",
     "output_type": "stream",
     "text": [
      "Batch 100 of 164. Loss: 0.07835331559181213. Time: 0:00:07\n",
      "Example ouput:  migrantBuah salak baru dipetik \\n Buah dukuh buah delima \\n Ada banyak wanita cantik \\n Cuma kamu yang aku cinta\n",
      "\n",
      "Average Training Loss: 0.08317486596543615. Epoch time: 0:00:12\n",
      "\n",
      "Validation loss: 2.9457219650870874. Validation Time: 0:00:00\n",
      "\n",
      "------------------------------\n",
      "Beginning epoch 79 of 100\n"
     ]
    },
    {
     "name": "stderr",
     "output_type": "stream",
     "text": [
      "The attention mask and the pad token id were not set. As a consequence, you may observe unexpected behavior. Please pass your input's `attention_mask` to obtain reliable results.\n",
      "Setting `pad_token_id` to `eos_token_id`:50256 for open-end generation.\n"
     ]
    },
    {
     "name": "stdout",
     "output_type": "stream",
     "text": [
      "Batch 100 of 164. Loss: 0.08542226254940033. Time: 0:00:07\n",
      "Example ouput: ivelyBuah manggis buah markisa \\n Buah nanas buah pepaya \\n Nak, menangislah di hadapan orang tua \\n Semoga doa terkabul olehnya\n",
      "\n",
      "Average Training Loss: 0.08292793091840861. Epoch time: 0:00:12\n",
      "\n",
      "Validation loss: 2.953709263550608. Validation Time: 0:00:00\n",
      "\n",
      "------------------------------\n",
      "Beginning epoch 80 of 100\n"
     ]
    },
    {
     "name": "stderr",
     "output_type": "stream",
     "text": [
      "The attention mask and the pad token id were not set. As a consequence, you may observe unexpected behavior. Please pass your input's `attention_mask` to obtain reliable results.\n",
      "Setting `pad_token_id` to `eos_token_id`:50256 for open-end generation.\n"
     ]
    },
    {
     "name": "stdout",
     "output_type": "stream",
     "text": [
      "Batch 100 of 164. Loss: 0.08991281688213348. Time: 0:00:07\n",
      "Example ouput:  orderRujak kedondong rasanya pedas \\n Belinya dari kota Jakarta \\n Indahnya pemandangan Gunung Tampomas \\n Hendaklah kita mentafakurinya\n",
      "\n",
      "Average Training Loss: 0.08190053724115942. Epoch time: 0:00:12\n",
      "\n",
      "Validation loss: 2.927103594729775. Validation Time: 0:00:00\n",
      "\n",
      "------------------------------\n",
      "Beginning epoch 81 of 100\n"
     ]
    },
    {
     "name": "stderr",
     "output_type": "stream",
     "text": [
      "The attention mask and the pad token id were not set. As a consequence, you may observe unexpected behavior. Please pass your input's `attention_mask` to obtain reliable results.\n",
      "Setting `pad_token_id` to `eos_token_id`:50256 for open-end generation.\n"
     ]
    },
    {
     "name": "stdout",
     "output_type": "stream",
     "text": [
      "Batch 100 of 164. Loss: 0.08339499682188034. Time: 0:00:07\n",
      "Example ouput:  VPNKalau harimau sedang mengaum \\n Bunyinya sangat berirama \\n Kalau ada ulangan umum \\n Marilah kita belajar bersama\n",
      "\n",
      "Average Training Loss: 0.08194586811814367. Epoch time: 0:00:12\n",
      "\n",
      "Validation loss: 2.9559006753720736. Validation Time: 0:00:00\n",
      "\n",
      "------------------------------\n",
      "Beginning epoch 82 of 100\n"
     ]
    },
    {
     "name": "stderr",
     "output_type": "stream",
     "text": [
      "The attention mask and the pad token id were not set. As a consequence, you may observe unexpected behavior. Please pass your input's `attention_mask` to obtain reliable results.\n",
      "Setting `pad_token_id` to `eos_token_id`:50256 for open-end generation.\n"
     ]
    },
    {
     "name": "stdout",
     "output_type": "stream",
     "text": [
      "Batch 100 of 164. Loss: 0.0769016221165657. Time: 0:00:07\n",
      "Example ouput:  explanationLihat Messi mencetak gol \\n tiba-tiba datang seorang tamu \\n Aku ingin menjadi borgol \\n supaya dapat memborgol cintamu\n",
      "\n",
      "Average Training Loss: 0.08124958619293643. Epoch time: 0:00:12\n",
      "\n",
      "Validation loss: 2.9623520374298096. Validation Time: 0:00:00\n",
      "\n",
      "------------------------------\n",
      "Beginning epoch 83 of 100\n"
     ]
    },
    {
     "name": "stderr",
     "output_type": "stream",
     "text": [
      "The attention mask and the pad token id were not set. As a consequence, you may observe unexpected behavior. Please pass your input's `attention_mask` to obtain reliable results.\n",
      "Setting `pad_token_id` to `eos_token_id`:50256 for open-end generation.\n"
     ]
    },
    {
     "name": "stdout",
     "output_type": "stream",
     "text": [
      "Batch 100 of 164. Loss: 0.08840356767177582. Time: 0:00:07\n",
      "Example ouput:  BachKancil melompat katak heran \\n Katak lompat pelan-pelan \\n Sebentar lagi kita liburan \\n Ingin aku jalan-jalan\n",
      "\n",
      "Average Training Loss: 0.08108050358004687. Epoch time: 0:00:12\n",
      "\n",
      "Validation loss: 2.9781902401070846. Validation Time: 0:00:00\n",
      "\n",
      "------------------------------\n",
      "Beginning epoch 84 of 100\n"
     ]
    },
    {
     "name": "stderr",
     "output_type": "stream",
     "text": [
      "The attention mask and the pad token id were not set. As a consequence, you may observe unexpected behavior. Please pass your input's `attention_mask` to obtain reliable results.\n",
      "Setting `pad_token_id` to `eos_token_id`:50256 for open-end generation.\n"
     ]
    },
    {
     "name": "stdout",
     "output_type": "stream",
     "text": [
      "Batch 100 of 164. Loss: 0.08259114623069763. Time: 0:00:07\n",
      "Example ouput:  folderSungguh indah pohon di musim semi \\n Daunnya indah banyak dipetiki \\n Banyak - banyaklah bersilaturahmi \\n Karena silaturahmi penyambung rezeki\n",
      "\n",
      "Average Training Loss: 0.08053324230742163. Epoch time: 0:00:12\n",
      "\n",
      "Validation loss: 2.984356108464693. Validation Time: 0:00:00\n",
      "\n",
      "------------------------------\n",
      "Beginning epoch 85 of 100\n"
     ]
    },
    {
     "name": "stderr",
     "output_type": "stream",
     "text": [
      "The attention mask and the pad token id were not set. As a consequence, you may observe unexpected behavior. Please pass your input's `attention_mask` to obtain reliable results.\n",
      "Setting `pad_token_id` to `eos_token_id`:50256 for open-end generation.\n"
     ]
    },
    {
     "name": "stdout",
     "output_type": "stream",
     "text": [
      "Batch 100 of 164. Loss: 0.08322303742170334. Time: 0:00:07\n",
      "Example ouput:  buildingLangit membentang berwarna biru \\n Langit dan laut tak akan bertemu \\n Hormati olehmu seorang guru \\n Mereka jadi sumber segala ilmu\n",
      "\n",
      "Average Training Loss: 0.08053738183182914. Epoch time: 0:00:12\n",
      "\n",
      "Validation loss: 2.978289986911573. Validation Time: 0:00:00\n",
      "\n",
      "------------------------------\n",
      "Beginning epoch 86 of 100\n"
     ]
    },
    {
     "name": "stderr",
     "output_type": "stream",
     "text": [
      "The attention mask and the pad token id were not set. As a consequence, you may observe unexpected behavior. Please pass your input's `attention_mask` to obtain reliable results.\n",
      "Setting `pad_token_id` to `eos_token_id`:50256 for open-end generation.\n"
     ]
    },
    {
     "name": "stdout",
     "output_type": "stream",
     "text": [
      "Batch 100 of 164. Loss: 0.07868677377700806. Time: 0:00:07\n",
      "Example ouput:  BabylonWaktu petang masak ketan \\n Sungguh lezat bersama rendang \\n Rindu pulang kampung halaman \\n Menikmati kebun dan ladang\n",
      "\n",
      "Average Training Loss: 0.07993698456301922. Epoch time: 0:00:12\n",
      "\n",
      "Validation loss: 2.977021160878633. Validation Time: 0:00:00\n",
      "\n",
      "------------------------------\n",
      "Beginning epoch 87 of 100\n"
     ]
    },
    {
     "name": "stderr",
     "output_type": "stream",
     "text": [
      "The attention mask and the pad token id were not set. As a consequence, you may observe unexpected behavior. Please pass your input's `attention_mask` to obtain reliable results.\n",
      "Setting `pad_token_id` to `eos_token_id`:50256 for open-end generation.\n"
     ]
    },
    {
     "name": "stdout",
     "output_type": "stream",
     "text": [
      "Batch 100 of 164. Loss: 0.07762998342514038. Time: 0:00:07\n",
      "Example ouput: perialBebaskanlah semua pikiran \\n Pejamkan mata rebahkan badan \\n Jangan bilang setia kawan \\n Kalau egois masih diemban\n",
      "\n",
      "Average Training Loss: 0.08001804969659666. Epoch time: 0:00:12\n",
      "\n",
      "Validation loss: 2.9621624632885584. Validation Time: 0:00:00\n",
      "\n",
      "------------------------------\n",
      "Beginning epoch 88 of 100\n"
     ]
    },
    {
     "name": "stderr",
     "output_type": "stream",
     "text": [
      "The attention mask and the pad token id were not set. As a consequence, you may observe unexpected behavior. Please pass your input's `attention_mask` to obtain reliable results.\n",
      "Setting `pad_token_id` to `eos_token_id`:50256 for open-end generation.\n"
     ]
    },
    {
     "name": "stdout",
     "output_type": "stream",
     "text": [
      "Batch 100 of 164. Loss: 0.08232907205820084. Time: 0:00:07\n",
      "Example ouput:  rentsAda burung cendrawasih \\n makan duku sampe  modar \\n percayalah kasih \\n kasih sayangku takkan pernah pudar\n",
      "\n",
      "Average Training Loss: 0.07924634649804453. Epoch time: 0:00:12\n",
      "\n",
      "Validation loss: 2.965747268576371. Validation Time: 0:00:00\n",
      "\n",
      "------------------------------\n",
      "Beginning epoch 89 of 100\n"
     ]
    },
    {
     "name": "stderr",
     "output_type": "stream",
     "text": [
      "The attention mask and the pad token id were not set. As a consequence, you may observe unexpected behavior. Please pass your input's `attention_mask` to obtain reliable results.\n",
      "Setting `pad_token_id` to `eos_token_id`:50256 for open-end generation.\n"
     ]
    },
    {
     "name": "stdout",
     "output_type": "stream",
     "text": [
      "Batch 100 of 164. Loss: 0.0895349457859993. Time: 0:00:07\n",
      "Example ouput:  RegBerakit-rakit ke hulu \\n Berenang-renang ketepian \\n Ayok berangkat ke penghulu \\n Dari pada Cuma temenan\n",
      "\n",
      "Average Training Loss: 0.07892447950818189. Epoch time: 0:00:12\n",
      "\n",
      "Validation loss: 2.973460831140217. Validation Time: 0:00:00\n",
      "\n",
      "------------------------------\n",
      "Beginning epoch 90 of 100\n"
     ]
    },
    {
     "name": "stderr",
     "output_type": "stream",
     "text": [
      "The attention mask and the pad token id were not set. As a consequence, you may observe unexpected behavior. Please pass your input's `attention_mask` to obtain reliable results.\n",
      "Setting `pad_token_id` to `eos_token_id`:50256 for open-end generation.\n"
     ]
    },
    {
     "name": "stdout",
     "output_type": "stream",
     "text": [
      "Batch 100 of 164. Loss: 0.08212590217590332. Time: 0:00:07\n",
      "Example ouput: olasDulang bukan sembarang dulang \\n Dulang besar sebesar rantang \\n Bolang bukan sembarang bolang \\n Bolang pemberani menyerang pantang\n",
      "\n",
      "Average Training Loss: 0.07848633698573927. Epoch time: 0:00:12\n",
      "\n",
      "Validation loss: 2.9773130416870117. Validation Time: 0:00:00\n",
      "\n",
      "------------------------------\n",
      "Beginning epoch 91 of 100\n"
     ]
    },
    {
     "name": "stderr",
     "output_type": "stream",
     "text": [
      "The attention mask and the pad token id were not set. As a consequence, you may observe unexpected behavior. Please pass your input's `attention_mask` to obtain reliable results.\n",
      "Setting `pad_token_id` to `eos_token_id`:50256 for open-end generation.\n"
     ]
    },
    {
     "name": "stdout",
     "output_type": "stream",
     "text": [
      "Batch 100 of 164. Loss: 0.07976102083921432. Time: 0:00:07\n",
      "Example ouput:  responsesMakan buah jeruk rasanya asam \\n Sama rasa dengan buah mangga \\n Ayo kawan mari lestarikan alam \\n Agar bumi selalu terjaga\n",
      "\n",
      "Average Training Loss: 0.07823320882531201. Epoch time: 0:00:12\n",
      "\n",
      "Validation loss: 2.9780117963489734. Validation Time: 0:00:00\n",
      "\n",
      "------------------------------\n",
      "Beginning epoch 92 of 100\n"
     ]
    },
    {
     "name": "stderr",
     "output_type": "stream",
     "text": [
      "The attention mask and the pad token id were not set. As a consequence, you may observe unexpected behavior. Please pass your input's `attention_mask` to obtain reliable results.\n",
      "Setting `pad_token_id` to `eos_token_id`:50256 for open-end generation.\n"
     ]
    },
    {
     "name": "stdout",
     "output_type": "stream",
     "text": [
      "Batch 100 of 164. Loss: 0.07751338928937912. Time: 0:00:07\n",
      "Example ouput:  attendanceJangan patahkan atap mengkuang \\n Atap patah kumbangpun lalu \\n Jangan patahkan cakap orang \\n Cakap patah orangnya malu\n",
      "\n",
      "Average Training Loss: 0.0781632992552548. Epoch time: 0:00:12\n",
      "\n",
      "Validation loss: 2.9753637941260087. Validation Time: 0:00:00\n",
      "\n",
      "------------------------------\n",
      "Beginning epoch 93 of 100\n"
     ]
    },
    {
     "name": "stderr",
     "output_type": "stream",
     "text": [
      "The attention mask and the pad token id were not set. As a consequence, you may observe unexpected behavior. Please pass your input's `attention_mask` to obtain reliable results.\n",
      "Setting `pad_token_id` to `eos_token_id`:50256 for open-end generation.\n"
     ]
    },
    {
     "name": "stdout",
     "output_type": "stream",
     "text": [
      "Batch 100 of 164. Loss: 0.07625739276409149. Time: 0:00:07\n",
      "Example ouput:  rigidBerenang menuju samudera \\n Indah nan permai negeri tercinta \\n Perang membuat rakyat sengsara \\n Dengan damai rakyat sentosa\n",
      "\n",
      "Average Training Loss: 0.07729426526078363. Epoch time: 0:00:12\n",
      "\n",
      "Validation loss: 2.98862413983596. Validation Time: 0:00:00\n",
      "\n",
      "------------------------------\n",
      "Beginning epoch 94 of 100\n"
     ]
    },
    {
     "name": "stderr",
     "output_type": "stream",
     "text": [
      "The attention mask and the pad token id were not set. As a consequence, you may observe unexpected behavior. Please pass your input's `attention_mask` to obtain reliable results.\n",
      "Setting `pad_token_id` to `eos_token_id`:50256 for open-end generation.\n"
     ]
    },
    {
     "name": "stdout",
     "output_type": "stream",
     "text": [
      "Batch 100 of 164. Loss: 0.07686901837587357. Time: 0:00:07\n",
      "Example ouput: groDari empat hingga lima \\n Hilang semua hingga punah \\n Budi baik dikenang lama \\n Walau jasad terkubur tanah\n",
      "\n",
      "Average Training Loss: 0.07772755432056218. Epoch time: 0:00:12\n",
      "\n",
      "Validation loss: 2.9802732404909635. Validation Time: 0:00:00\n",
      "\n",
      "------------------------------\n",
      "Beginning epoch 95 of 100\n"
     ]
    },
    {
     "name": "stderr",
     "output_type": "stream",
     "text": [
      "The attention mask and the pad token id were not set. As a consequence, you may observe unexpected behavior. Please pass your input's `attention_mask` to obtain reliable results.\n",
      "Setting `pad_token_id` to `eos_token_id`:50256 for open-end generation.\n"
     ]
    },
    {
     "name": "stdout",
     "output_type": "stream",
     "text": [
      "Batch 100 of 164. Loss: 0.07688962668180466. Time: 0:00:07\n",
      "Example ouput:  GreSungguhlah besar taman Seri Mahkota \\n Tempat bermain bidadari Lela Utama \\n Sungguhlah benar bagi orang yang takwa \\n Ada tempat yang aman dan bahagia\n",
      "\n",
      "Average Training Loss: 0.07725742554700957. Epoch time: 0:00:12\n",
      "\n",
      "Validation loss: 2.989256821180645. Validation Time: 0:00:00\n",
      "\n",
      "------------------------------\n",
      "Beginning epoch 96 of 100\n"
     ]
    },
    {
     "name": "stderr",
     "output_type": "stream",
     "text": [
      "The attention mask and the pad token id were not set. As a consequence, you may observe unexpected behavior. Please pass your input's `attention_mask` to obtain reliable results.\n",
      "Setting `pad_token_id` to `eos_token_id`:50256 for open-end generation.\n"
     ]
    },
    {
     "name": "stdout",
     "output_type": "stream",
     "text": [
      "Batch 100 of 164. Loss: 0.07505888491868973. Time: 0:00:07\n",
      "Example ouput: uraPecah perang di Syiria \\n Perompak masuk mengacau negeri \\n Majulah Syiria mengamankan negara \\n Berjuang terus membela negeri\n",
      "\n",
      "Average Training Loss: 0.07671355615120108. Epoch time: 0:00:12\n",
      "\n",
      "Validation loss: 2.995420242610731. Validation Time: 0:00:00\n",
      "\n",
      "------------------------------\n",
      "Beginning epoch 97 of 100\n"
     ]
    },
    {
     "name": "stderr",
     "output_type": "stream",
     "text": [
      "The attention mask and the pad token id were not set. As a consequence, you may observe unexpected behavior. Please pass your input's `attention_mask` to obtain reliable results.\n",
      "Setting `pad_token_id` to `eos_token_id`:50256 for open-end generation.\n"
     ]
    },
    {
     "name": "stdout",
     "output_type": "stream",
     "text": [
      "Batch 100 of 164. Loss: 0.07702354341745377. Time: 0:00:07\n",
      "Example ouput:  2020Beli buku warnanya merah \\n Kena hujan bukunya basah \\n Berusahalah jangan menyerah \\n Hidup ini memanglah susah\n",
      "\n",
      "Average Training Loss: 0.07619564771288778. Epoch time: 0:00:12\n",
      "\n",
      "Validation loss: 2.997533158252114. Validation Time: 0:00:00\n",
      "\n",
      "------------------------------\n",
      "Beginning epoch 98 of 100\n"
     ]
    },
    {
     "name": "stderr",
     "output_type": "stream",
     "text": [
      "The attention mask and the pad token id were not set. As a consequence, you may observe unexpected behavior. Please pass your input's `attention_mask` to obtain reliable results.\n",
      "Setting `pad_token_id` to `eos_token_id`:50256 for open-end generation.\n"
     ]
    },
    {
     "name": "stdout",
     "output_type": "stream",
     "text": [
      "Batch 100 of 164. Loss: 0.07327227294445038. Time: 0:00:07\n",
      "Example ouput:  chargingMinum air dari labu \\n Boleh dibawa bila berjalan \\n Bimbingan awal dari ibu \\n Serta kasih yang berkekalan\n",
      "\n",
      "Average Training Loss: 0.0760297923825863. Epoch time: 0:00:12\n",
      "\n",
      "Validation loss: 2.9990365567960238. Validation Time: 0:00:00\n",
      "\n",
      "------------------------------\n",
      "Beginning epoch 99 of 100\n"
     ]
    },
    {
     "name": "stderr",
     "output_type": "stream",
     "text": [
      "The attention mask and the pad token id were not set. As a consequence, you may observe unexpected behavior. Please pass your input's `attention_mask` to obtain reliable results.\n",
      "Setting `pad_token_id` to `eos_token_id`:50256 for open-end generation.\n"
     ]
    },
    {
     "name": "stdout",
     "output_type": "stream",
     "text": [
      "Batch 100 of 164. Loss: 0.07433507591485977. Time: 0:00:07\n",
      "Example ouput:  SarJalan-jalan lewat kuburan \\n Dekat jembatan ada tukang bakso \\n Para siswa suka tawuran \\n Akibatnya nanggung resiko\n",
      "\n",
      "Average Training Loss: 0.07561631141821058. Epoch time: 0:00:12\n",
      "\n",
      "Validation loss: 3.0001218193455745. Validation Time: 0:00:00\n",
      "\n",
      "------------------------------\n",
      "Beginning epoch 100 of 100\n"
     ]
    },
    {
     "name": "stderr",
     "output_type": "stream",
     "text": [
      "The attention mask and the pad token id were not set. As a consequence, you may observe unexpected behavior. Please pass your input's `attention_mask` to obtain reliable results.\n",
      "Setting `pad_token_id` to `eos_token_id`:50256 for open-end generation.\n"
     ]
    },
    {
     "name": "stdout",
     "output_type": "stream",
     "text": [
      "Batch 100 of 164. Loss: 0.07094091176986694. Time: 0:00:07\n",
      "Example ouput:  JasMeski hanya sebuah jambu \\n tetap bisa dibuat jamu \\n Meski jarang kita bertemu \\n cintaku tetap hanya untukmu\n",
      "\n",
      "Average Training Loss: 0.07520350604885961. Epoch time: 0:00:12\n",
      "\n",
      "Validation loss: 3.001683184975072. Validation Time: 0:00:00\n",
      "\n",
      "------------------------------\n",
      "Total training took 0:20:15\n"
     ]
    }
   ],
   "source": [
    "total_t0 = time.time()\n",
    "training_stats = []\n",
    "model = model.to(device)\n",
    "\n",
    "for epoch_i in range(epochs):\n",
    "    print(f'Beginning epoch {epoch_i+1} of {epochs}')\n",
    "\n",
    "    t0 = time.time()\n",
    "    total_train_loss = 0\n",
    "    model.train()\n",
    "\n",
    "    # Labels are shifted by 1 timestep\n",
    "    for step, batch in enumerate(train_dataloader):\n",
    "        b_input_ids = batch[0].to(device)\n",
    "        b_labels = batch[0].to(device)\n",
    "        b_masks = batch[1].to(device)\n",
    "\n",
    "        model.zero_grad()\n",
    "\n",
    "        outputs = model(b_input_ids,\n",
    "                        labels=b_labels,\n",
    "                        attention_mask=b_masks)\n",
    "\n",
    "        loss = outputs[0]\n",
    "\n",
    "        batch_loss = loss.item()\n",
    "        total_train_loss += batch_loss\n",
    "\n",
    "        # Sampling every x steps\n",
    "        if step != 0 and step % sample_every == 0:\n",
    "\n",
    "            elapsed = format_time(time.time()-t0)\n",
    "            print(f'Batch {step} of {len(train_dataloader)}. Loss: {batch_loss}. Time: {elapsed}')\n",
    "\n",
    "            model.eval()\n",
    "\n",
    "            sample_outputs = model.generate(\n",
    "                bos_token_id=random.randint(1,30000),\n",
    "                do_sample=True,\n",
    "                top_k=50,\n",
    "                max_length=200,\n",
    "                top_p=0.95,\n",
    "                num_return_sequences=1\n",
    "            )\n",
    "            for i, sample_output in enumerate(sample_outputs):\n",
    "                print(f'Example ouput: {tokenizer.decode(sample_output, skip_special_tokens=True)}')\n",
    "            print()\n",
    "\n",
    "            model.train()\n",
    "\n",
    "        loss.backward()\n",
    "        optimizer.step()\n",
    "        scheduler.step()\n",
    "\n",
    "    avg_train_loss = total_train_loss / len(train_dataloader)\n",
    "    training_time = format_time(time.time()-t0)\n",
    "    print(f'Average Training Loss: {avg_train_loss}. Epoch time: {training_time}')\n",
    "    print()\n",
    "\n",
    "    t0 = time.time()\n",
    "    model.eval()\n",
    "\n",
    "    total_eval_loss = 0\n",
    "    nb_eval_steps = 0\n",
    "\n",
    "    for batch in val_dataloader:\n",
    "        b_input_ids = batch[0].to(device)\n",
    "        b_labels = batch[0].to(device)\n",
    "        b_masks = batch[1].to(device)\n",
    "\n",
    "        with torch.no_grad():\n",
    "\n",
    "            outputs  = model(b_input_ids,\n",
    "                             attention_mask=b_masks,\n",
    "                             labels=b_labels)\n",
    "\n",
    "            loss = outputs[0]\n",
    "\n",
    "        batch_loss = loss.item()\n",
    "        total_eval_loss += batch_loss\n",
    "\n",
    "    avg_val_loss = total_eval_loss / len(val_dataloader)\n",
    "    val_time = format_time(time.time() - t0)\n",
    "    print(f'Validation loss: {avg_val_loss}. Validation Time: {val_time}')\n",
    "    print()\n",
    "\n",
    "    # Record all statistics from this epoch.\n",
    "    training_stats.append(\n",
    "        {\n",
    "            'epoch': epoch_i + 1,\n",
    "            'Training Loss': avg_train_loss,\n",
    "            'Valid. Loss': avg_val_loss,\n",
    "            'Training Time': training_time,\n",
    "            'Validation Time': val_time\n",
    "        }\n",
    "    )\n",
    "    print(\"------------------------------\")\n",
    "\n",
    "print(f'Total training took {format_time(time.time()-total_t0)}')"
   ]
  },
  {
   "cell_type": "code",
   "execution_count": 24,
   "id": "0dcd3567",
   "metadata": {
    "execution": {
     "iopub.execute_input": "2024-06-08T05:08:22.542498Z",
     "iopub.status.busy": "2024-06-08T05:08:22.542122Z",
     "iopub.status.idle": "2024-06-08T05:08:23.091753Z",
     "shell.execute_reply": "2024-06-08T05:08:23.090774Z"
    },
    "papermill": {
     "duration": 0.61138,
     "end_time": "2024-06-08T05:08:23.093903",
     "exception": false,
     "start_time": "2024-06-08T05:08:22.482523",
     "status": "completed"
    },
    "tags": []
   },
   "outputs": [
    {
     "data": {
      "image/png": "[encoded data removed]",
      "text/plain": [
       "<Figure size 1200x600 with 1 Axes>"
      ]
     },
     "metadata": {},
     "output_type": "display_data"
    }
   ],
   "source": [
    "df_stats = pd.DataFrame(data=training_stats)\n",
    "df_stats = df_stats.set_index('epoch')\n",
    "\n",
    "# Use plot styling from seaborn.\n",
    "sns.set(style='darkgrid')\n",
    "\n",
    "# Increase the plot size and font size.\n",
    "sns.set(font_scale=1.5)\n",
    "plt.rcParams[\"figure.figsize\"] = (12,6)\n",
    "\n",
    "# Plot the learning curve.\n",
    "plt.plot(df_stats['Training Loss'], 'b-o', label=\"Training\")\n",
    "plt.plot(df_stats['Valid. Loss'], 'g-o', label=\"Validation\")\n",
    "\n",
    "# Label the plot.\n",
    "plt.title(f\"Training & Validation Loss {model_name}\")\n",
    "plt.xlabel(\"Epoch\")\n",
    "plt.ylabel(\"Loss\")\n",
    "plt.legend()\n",
    "plt.savefig('loss_plot.png')\n",
    "plt.show()"
   ]
  },
  {
   "cell_type": "code",
   "execution_count": 25,
   "id": "7ce1a636",
   "metadata": {
    "execution": {
     "iopub.execute_input": "2024-06-08T05:08:23.215434Z",
     "iopub.status.busy": "2024-06-08T05:08:23.214899Z",
     "iopub.status.idle": "2024-06-08T05:08:23.548964Z",
     "shell.execute_reply": "2024-06-08T05:08:23.548020Z"
    },
    "papermill": {
     "duration": 0.396021,
     "end_time": "2024-06-08T05:08:23.551090",
     "exception": false,
     "start_time": "2024-06-08T05:08:23.155069",
     "status": "completed"
    },
    "tags": []
   },
   "outputs": [
    {
     "name": "stderr",
     "output_type": "stream",
     "text": [
      "The attention mask and the pad token id were not set. As a consequence, you may observe unexpected behavior. Please pass your input's `attention_mask` to obtain reliable results.\n",
      "Setting `pad_token_id` to `eos_token_id`:50256 for open-end generation.\n"
     ]
    },
    {
     "name": "stdout",
     "output_type": "stream",
     "text": [
      "0: Pagi-pagi tanam rambutan \\n Pilih bibitnya yang unggul \\n Yuk stop kebakaran hutan \\n Agar hutan tidak menggundul\n",
      "\n",
      "\n",
      "1: Jalan-jalan ke Ciamis \\n Ada gedung parkirnya gratis \\n Aku cinta sama si kumis \\n orangnya ganteng lagi romantis\n",
      "\n",
      "\n",
      "2: Jalan-jalan ke puncak gunung \\n Jangan lupa bawa kentongan \\n Sungguh indah kicaunya burung \\n Melihat mereka hatiku senang\n",
      "\n",
      "\n"
     ]
    }
   ],
   "source": [
    "model.eval()\n",
    "\n",
    "prompt = \"<|startoftext|>\"\n",
    "# prompt = \"\"\n",
    "\n",
    "generated = torch.tensor(tokenizer.encode(prompt)).unsqueeze(0)\n",
    "generated = generated.to(device)\n",
    "\n",
    "sample_outputs = model.generate(\n",
    "                                generated,\n",
    "                                do_sample=True,\n",
    "                                top_k=50,\n",
    "                                max_length = 300,\n",
    "                                top_p=0.95,\n",
    "                                num_return_sequences=3\n",
    "                                )\n",
    "\n",
    "for i, sample_output in enumerate(sample_outputs):\n",
    "    print(\"{}: {}\\n\\n\".format(i, tokenizer.decode(sample_output, skip_special_tokens=True)))"
   ]
  },
  {
   "cell_type": "code",
   "execution_count": 26,
   "id": "9f418ab3",
   "metadata": {
    "execution": {
     "iopub.execute_input": "2024-06-08T05:08:23.672604Z",
     "iopub.status.busy": "2024-06-08T05:08:23.672231Z",
     "iopub.status.idle": "2024-06-08T05:08:24.457142Z",
     "shell.execute_reply": "2024-06-08T05:08:24.456164Z"
    },
    "papermill": {
     "duration": 0.848118,
     "end_time": "2024-06-08T05:08:24.459166",
     "exception": false,
     "start_time": "2024-06-08T05:08:23.611048",
     "status": "completed"
    },
    "tags": []
   },
   "outputs": [
    {
     "data": {
      "text/plain": [
       "('/kaggle/working/tokenizer_config.json',\n",
       " '/kaggle/working/special_tokens_map.json',\n",
       " '/kaggle/working/vocab.json',\n",
       " '/kaggle/working/merges.txt',\n",
       " '/kaggle/working/added_tokens.json')"
      ]
     },
     "execution_count": 26,
     "metadata": {},
     "output_type": "execute_result"
    }
   ],
   "source": [
    "model_to_save = model.module if hasattr(model, 'module') else model\n",
    "model_to_save.save_pretrained(output_dir)\n",
    "tokenizer.save_pretrained(output_dir)"
   ]
  },
  {
   "cell_type": "code",
   "execution_count": 27,
   "id": "43a9e2f4",
   "metadata": {
    "execution": {
     "iopub.execute_input": "2024-06-08T05:08:24.583452Z",
     "iopub.status.busy": "2024-06-08T05:08:24.582898Z",
     "iopub.status.idle": "2024-06-08T05:08:25.027032Z",
     "shell.execute_reply": "2024-06-08T05:08:25.026125Z"
    },
    "papermill": {
     "duration": 0.507934,
     "end_time": "2024-06-08T05:08:25.029325",
     "exception": false,
     "start_time": "2024-06-08T05:08:24.521391",
     "status": "completed"
    },
    "tags": []
   },
   "outputs": [
    {
     "name": "stderr",
     "output_type": "stream",
     "text": [
      "The attention mask and the pad token id were not set. As a consequence, you may observe unexpected behavior. Please pass your input's `attention_mask` to obtain reliable results.\n",
      "Setting `pad_token_id` to `eos_token_id`:50256 for open-end generation.\n"
     ]
    }
   ],
   "source": [
    "# Save generated poems\n",
    "sample_outputs = model.generate(\n",
    "                                generated,\n",
    "                                do_sample=True,\n",
    "                                top_k=50,\n",
    "                                max_length = 300,\n",
    "                                top_p=0.95,\n",
    "                                num_return_sequences=25\n",
    "                                )\n",
    "\n",
    "with open(os.path.join(output_dir, 'generated_poems.txt'), \"w\") as outfile:\n",
    "    for i, sample_output in enumerate(sample_outputs):\n",
    "        outfile.write(tokenizer.decode(sample_output, skip_special_tokens=True)+\"\\n\\n\")"
   ]
  },
  {
   "cell_type": "code",
   "execution_count": 28,
   "id": "64113fad",
   "metadata": {
    "execution": {
     "iopub.execute_input": "2024-06-08T05:08:25.149485Z",
     "iopub.status.busy": "2024-06-08T05:08:25.149121Z",
     "iopub.status.idle": "2024-06-08T05:08:25.160251Z",
     "shell.execute_reply": "2024-06-08T05:08:25.159383Z"
    },
    "papermill": {
     "duration": 0.073134,
     "end_time": "2024-06-08T05:08:25.162030",
     "exception": false,
     "start_time": "2024-06-08T05:08:25.088896",
     "status": "completed"
    },
    "tags": []
   },
   "outputs": [],
   "source": [
    "def lexical_richness(text):\n",
    "    tokens = nltk.word_tokenize(text.lower())\n",
    "    unique_tokens = set(tokens)\n",
    "    return (len(unique_tokens) / len(tokens)) * 100\n",
    "\n",
    "def calculate_richness_score(pantun_list):\n",
    "    richness_scores = [lexical_richness(pantun) for pantun in pantun_list]\n",
    "    return sum(richness_scores) / len(richness_scores)\n",
    "\n",
    "def calculate_structure_accuracy(pantun_list):\n",
    "    correct_structure_count = 0\n",
    "    total_pantun_count = len(pantun_list)\n",
    "    for pantun in pantun_list:\n",
    "        # Check if the pantun has correct structure\n",
    "        if len(pantun.split('\\\\n')) == 4:\n",
    "            correct_structure_count += 1\n",
    "    structure_accuracy = correct_structure_count / total_pantun_count*100\n",
    "    return structure_accuracy\n",
    "\n",
    "def rhyme_check(pantun):\n",
    "    # Memisahkan setiap baris pantun\n",
    "    lines = pantun.split(\"\\\\n\")\n",
    "    \n",
    "    # Mengambil kata terakhir dari setiap baris (jika ada)\n",
    "    last_words = [line.split()[-1].lower() if line.strip() else \"\" for line in lines]\n",
    "    \n",
    "    # Mendefinisikan fungsi untuk mendapatkan vokal terakhir dari setiap kata\n",
    "    def get_last_vowel(word):\n",
    "        vowels = \"aiueo\"\n",
    "        for char in reversed(word):\n",
    "            if char.lower() in vowels:\n",
    "                return char.lower()\n",
    "        return None\n",
    "    \n",
    "    # Mendapatkan vokal terakhir dari setiap kata\n",
    "    last_vowels = [get_last_vowel(word) for word in last_words]\n",
    "    \n",
    "    # Memeriksa kecocokan rima\n",
    "    if len(last_vowels) == 4 and last_vowels[0] == last_vowels[2] and last_vowels[1] == last_vowels[3]:\n",
    "        return 1\n",
    "    else:\n",
    "        return 0\n",
    "    \n",
    "def calculate_rhyme_correctness(pantuns):\n",
    "    total_pantuns = len(pantuns)\n",
    "    total_correct = 0\n",
    "    \n",
    "    for pantun in pantuns:\n",
    "        if rhyme_check(pantun):\n",
    "            total_correct += 1\n",
    "    \n",
    "    rhyme_correctness = (total_correct / total_pantuns) * 100\n",
    "    return rhyme_correctness"
   ]
  },
  {
   "cell_type": "code",
   "execution_count": 29,
   "id": "5f1cfbb7",
   "metadata": {
    "execution": {
     "iopub.execute_input": "2024-06-08T05:08:25.281638Z",
     "iopub.status.busy": "2024-06-08T05:08:25.281077Z",
     "iopub.status.idle": "2024-06-08T05:08:25.287381Z",
     "shell.execute_reply": "2024-06-08T05:08:25.286387Z"
    },
    "papermill": {
     "duration": 0.068664,
     "end_time": "2024-06-08T05:08:25.289399",
     "exception": false,
     "start_time": "2024-06-08T05:08:25.220735",
     "status": "completed"
    },
    "tags": []
   },
   "outputs": [
    {
     "name": "stdout",
     "output_type": "stream",
     "text": [
      "['Beli sayur beli buah \\\\n Hendak dimakan tapi masih mentah \\\\n Jangan malas jangan lelah \\\\n Semangat belajar teruskanlah', 'Hendaklah tunggu kapal berlabuh \\\\n Berlabuh kapal membawa salak \\\\n Belajarlah kamu bersungguh sungguh \\\\n Agar bahagia hidupmu kelak', 'Kepala bunga lebat \\\\n Aroma manis bunga cempaka \\\\n Pusaka menjaga adat \\\\n Warisan baru dipertahankan', 'Beli bola jumlahnya lima \\\\n Aneka rupa warna-warnanya \\\\n Ilmu agama adalah utamanya \\\\n Bekal akhirat dan juga dunia', 'Tugal padi jangan bertangguh \\\\n Kunyit di kebun siapa penggalinya \\\\n Jika tuan cerdik sungguh \\\\n Langit tergantung di mana talinya', 'Berjalan bersama kawan \\\\n Sungguh lebar ini senyuman \\\\n Didik hati untuk dermawan \\\\n Untuk mendapat kasih Tuhan', 'Kembang gula di perigi \\\\n untuk aku minum jamu \\\\n ke mana pun kamu pergi \\\\n Aku selalu rindu kamu', 'Hati-hati masuk ke jurang \\\\n Jurang dalam banyak ularnya \\\\n 1000 teman terasa kurang \\\\n Seorang musuh banyak rasanya', 'Buah kemumu segar rasanya \\\\n disimpan dalam kotak papan \\\\n Dengarkan olehmu nasehatnya \\\\n sebagai bekal di masa depan', 'Kalau mau menanam tebu \\\\n Tanamlah di dekat pohon jambu \\\\n Kalau kau cinta padaku \\\\n Bilang saja i love you', 'Jalan-jalan ke kota padang \\\\n Pergilah adik dengan abang \\\\n Angin bertiup dengan sedang \\\\n Layang-layang pasti terbang', 'Baju batik duduk di taman \\\\n sujud di masjid tambah iman \\\\n Orang baik banyak teman \\\\n Hidup bahagia hatinya nyaman', 'Suku badui suka berpindah \\\\n Badan sehat kuat tenaga \\\\n Permata yang paling indah \\\\n Dialah sebuah keluarga', 'Ke salon creambath \\\\n biar aliran darah lancar \\\\n Bosen ah jadi sahabat \\\\n maunya jadi pacar!', 'Gula pasir lebih manis gula jawa \\\\n buah mahoni lebih pahit dari jamu \\\\n Hatiku ini takkan mendua \\\\n karena hati ini telah jadi milikmu', 'Jikalau sungai semakin meriak \\\\n Air pun mengalir sampai lautan \\\\n Sesudah dapat ilmu banyak \\\\n Jangan lupa ajarkan juga amalkan', 'Jalan-jalan ke paku alam \\\\n Melihat orang membeli anyaman \\\\n Janganlah lupa menjaga alam \\\\n Biar kelak hidupmu nyaman', 'Hujan turun di malam hari \\\\n pagi-pagi makan ketupat \\\\n Rupa cantik dapat dicari \\\\n Hati yang baik susah didapat', 'Beli kacang beli kecipir \\\\n Kayu jati bagus diukir \\\\n Pada teman janganlah kikir \\\\n Jadilah orang pandai berpikir', 'Makan rendang pakai nasi \\\\n Nasinya nasi hangat \\\\n Untuk meraih mimpi \\\\n Harus belajar dengan semangat', 'Beli buah di pasar minggu \\\\n Jangan lupa membeli duku \\\\n Jangan lupa olahraga selalu \\\\n Agar bahagia hadir selalu', 'Dalam kuali menanak nasi \\\\n Nasi berubah menjadi bubur \\\\n Sifat tamak tak kan berhenti \\\\n Sebelum badan masuk ke kubur', 'Hari panas minum blewah \\\\n Membasahi tenggorokan kering \\\\n Para petani turun ke sawah \\\\n Memetik padi yang menguning', 'Habis dikerat dicincang lumat \\\\n Patinya diaduk dijadikan obat \\\\n Dunia akhirat takkan selamat \\\\n Kecuali minta ampun nasuha tobat', 'Kemacetan jalan Jakarta \\\\n bukan karena si Komo lewat \\\\n sejak kita menjalin cinta \\\\n ngelakuin apapun aku jadi makin semangat']\n"
     ]
    }
   ],
   "source": [
    "# Membaca teks dari file\n",
    "file_path = \"/kaggle/working/generated_poems.txt\"  # Ubah sesuai dengan path file Anda\n",
    "with open(file_path, \"r\") as file:\n",
    "    pantun_text = file.read()\n",
    "\n",
    "# Memisahkan teks menjadi list tanpa karakter \"\\n\"\n",
    "pantun_list = pantun_text.split(\"\\n\")\n",
    "pantun_list = [pantun for pantun in pantun_list if pantun.strip()]\n",
    "# pantun_list = [\"\".join(pantun.split(\"\\n\")) for pantun in pantun_list]\n",
    "# Menampilkan pantun dalam bentuk list\n",
    "print(pantun_list)"
   ]
  },
  {
   "cell_type": "code",
   "execution_count": 30,
   "id": "30993729",
   "metadata": {
    "execution": {
     "iopub.execute_input": "2024-06-08T05:08:25.409561Z",
     "iopub.status.busy": "2024-06-08T05:08:25.409268Z",
     "iopub.status.idle": "2024-06-08T05:08:25.429096Z",
     "shell.execute_reply": "2024-06-08T05:08:25.428167Z"
    },
    "papermill": {
     "duration": 0.082103,
     "end_time": "2024-06-08T05:08:25.431024",
     "exception": false,
     "start_time": "2024-06-08T05:08:25.348921",
     "status": "completed"
    },
    "tags": []
   },
   "outputs": [
    {
     "name": "stdout",
     "output_type": "stream",
     "text": [
      "Average Lexical Richness Score: 84.60%\n",
      "Structure Accuracy Score: 100.00%\n",
      "Persentase Rhyme Correctness Score: 100.00%\n"
     ]
    }
   ],
   "source": [
    "average_richness_score = calculate_richness_score(pantun_list)\n",
    "print(f\"Average Lexical Richness Score: {average_richness_score:.2f}%\")\n",
    "\n",
    "accuracy_score = calculate_structure_accuracy(pantun_list)\n",
    "print(f\"Structure Accuracy Score: {accuracy_score:.2f}%\")\n",
    "\n",
    "rhyme_correctness = calculate_rhyme_correctness(pantun_list)\n",
    "print(f\"Persentase Rhyme Correctness Score: {rhyme_correctness:.2f}%\")"
   ]
  },
  {
   "cell_type": "code",
   "execution_count": 31,
   "id": "4e3a2063",
   "metadata": {
    "execution": {
     "iopub.execute_input": "2024-06-08T05:08:25.553411Z",
     "iopub.status.busy": "2024-06-08T05:08:25.552602Z",
     "iopub.status.idle": "2024-06-08T05:08:25.680997Z",
     "shell.execute_reply": "2024-06-08T05:08:25.679961Z"
    },
    "papermill": {
     "duration": 0.191831,
     "end_time": "2024-06-08T05:08:25.683094",
     "exception": false,
     "start_time": "2024-06-08T05:08:25.491263",
     "status": "completed"
    },
    "tags": []
   },
   "outputs": [
    {
     "name": "stdout",
     "output_type": "stream",
     "text": [
      "Average Perplexity Scores: 1.3589663410186767\n"
     ]
    }
   ],
   "source": [
    "# Hitung perplexity\n",
    "perplexity_scores = []\n",
    "for text in pantun_list:\n",
    "    input_ids = tokenizer.encode(text, return_tensors=\"pt\").to(device)\n",
    "    with torch.no_grad():\n",
    "        outputs = model(input_ids, labels=input_ids)\n",
    "    loss = outputs.loss\n",
    "    perplexity = torch.exp(loss)\n",
    "    perplexity_scores.append(perplexity.item())\n",
    "\n",
    "print(\"Average Perplexity Scores:\", np.mean(perplexity_scores))"
   ]
  },
  {
   "cell_type": "code",
   "execution_count": null,
   "id": "6f97e623",
   "metadata": {
    "papermill": {
     "duration": 0.060441,
     "end_time": "2024-06-08T05:08:25.803782",
     "exception": false,
     "start_time": "2024-06-08T05:08:25.743341",
     "status": "completed"
    },
    "tags": []
   },
   "outputs": [],
   "source": []
  }
 ],
 "metadata": {
  "kaggle": {
   "accelerator": "gpu",
   "dataSources": [
    {
     "datasetId": 1048231,
     "sourceId": 1763504,
     "sourceType": "datasetVersion"
    },
    {
     "datasetId": 1381345,
     "sourceId": 2291891,
     "sourceType": "datasetVersion"
    },
    {
     "datasetId": 5164392,
     "sourceId": 8626119,
     "sourceType": "datasetVersion"
    },
    {
     "datasetId": 5167312,
     "sourceId": 8633620,
     "sourceType": "datasetVersion"
    }
   ],
   "dockerImageVersionId": 30733,
   "isGpuEnabled": true,
   "isInternetEnabled": true,
   "language": "python",
   "sourceType": "notebook"
  },
  "kernelspec": {
   "display_name": "Python 3",
   "language": "python",
   "name": "python3"
  },
  "language_info": {
   "codemirror_mode": {
    "name": "ipython",
    "version": 3
   },
   "file_extension": ".py",
   "mimetype": "text/x-python",
   "name": "python",
   "nbconvert_exporter": "python",
   "pygments_lexer": "ipython3",
   "version": "3.10.13"
  },
  "papermill": {
   "default_parameters": {},
   "duration": 1240.706968,
   "end_time": "2024-06-08T05:08:27.391929",
   "environment_variables": {},
   "exception": null,
   "input_path": "__notebook__.ipynb",
   "output_path": "__notebook__.ipynb",
   "parameters": {},
   "start_time": "2024-06-08T04:47:46.684961",
   "version": "2.5.0"
  },
  "widgets": {
   "application/vnd.jupyter.widget-state+json": {
    "state": {
     "080bfa2b5ae1456cb986df392b71dfe9": {
      "model_module": "@jupyter-widgets/base",
      "model_module_version": "1.2.0",
      "model_name": "LayoutModel",
      "state": {
       "_model_module": "@jupyter-widgets/base",
       "_model_module_version": "1.2.0",
       "_model_name": "LayoutModel",
       "_view_count": null,
       "_view_module": "@jupyter-widgets/base",
       "_view_module_version": "1.2.0",
       "_view_name": "LayoutView",
       "align_content": null,
       "align_items": null,
       "align_self": null,
       "border": null,
       "bottom": null,
       "display": null,
       "flex": null,
       "flex_flow": null,
       "grid_area": null,
       "grid_auto_columns": null,
       "grid_auto_flow": null,
       "grid_auto_rows": null,
       "grid_column": null,
       "grid_gap": null,
       "grid_row": null,
       "grid_template_areas": null,
       "grid_template_columns": null,
       "grid_template_rows": null,
       "height": null,
       "justify_content": null,
       "justify_items": null,
       "left": null,
       "margin": null,
       "max_height": null,
       "max_width": null,
       "min_height": null,
       "min_width": null,
       "object_fit": null,
       "object_position": null,
       "order": null,
       "overflow": null,
       "overflow_x": null,
       "overflow_y": null,
       "padding": null,
       "right": null,
       "top": null,
       "visibility": null,
       "width": null
      }
     },
     "08649cbedc5e4aafa47259dd358b5e98": {
      "model_module": "@jupyter-widgets/controls",
      "model_module_version": "1.5.0",
      "model_name": "DescriptionStyleModel",
      "state": {
       "_model_module": "@jupyter-widgets/controls",
       "_model_module_version": "1.5.0",
       "_model_name": "DescriptionStyleModel",
       "_view_count": null,
       "_view_module": "@jupyter-widgets/base",
       "_view_module_version": "1.2.0",
       "_view_name": "StyleView",
       "description_width": ""
      }
     },
     "0dc839c73ea6464d94e11dd835ed9260": {
      "model_module": "@jupyter-widgets/controls",
      "model_module_version": "1.5.0",
      "model_name": "DescriptionStyleModel",
      "state": {
       "_model_module": "@jupyter-widgets/controls",
       "_model_module_version": "1.5.0",
       "_model_name": "DescriptionStyleModel",
       "_view_count": null,
       "_view_module": "@jupyter-widgets/base",
       "_view_module_version": "1.2.0",
       "_view_name": "StyleView",
       "description_width": ""
      }
     },
     "0e9f00d1990142e09e75bd7a9a2f000e": {
      "model_module": "@jupyter-widgets/controls",
      "model_module_version": "1.5.0",
      "model_name": "HTMLModel",
      "state": {
       "_dom_classes": [],
       "_model_module": "@jupyter-widgets/controls",
       "_model_module_version": "1.5.0",
       "_model_name": "HTMLModel",
       "_view_count": null,
       "_view_module": "@jupyter-widgets/controls",
       "_view_module_version": "1.5.0",
       "_view_name": "HTMLView",
       "description": "",
       "description_tooltip": null,
       "layout": "IPY_MODEL_cf16801fab614a52b437763ad5dd5c1c",
       "placeholder": "​",
       "style": "IPY_MODEL_cad38e2757584b19a135b4c51c4ec7c5",
       "value": " 1.36M/1.36M [00:00&lt;00:00, 14.0MB/s]"
      }
     },
     "0f3eb7b8025a4b40bd3cb5907324b7e6": {
      "model_module": "@jupyter-widgets/base",
      "model_module_version": "1.2.0",
      "model_name": "LayoutModel",
      "state": {
       "_model_module": "@jupyter-widgets/base",
       "_model_module_version": "1.2.0",
       "_model_name": "LayoutModel",
       "_view_count": null,
       "_view_module": "@jupyter-widgets/base",
       "_view_module_version": "1.2.0",
       "_view_name": "LayoutView",
       "align_content": null,
       "align_items": null,
       "align_self": null,
       "border": null,
       "bottom": null,
       "display": null,
       "flex": null,
       "flex_flow": null,
       "grid_area": null,
       "grid_auto_columns": null,
       "grid_auto_flow": null,
       "grid_auto_rows": null,
       "grid_column": null,
       "grid_gap": null,
       "grid_row": null,
       "grid_template_areas": null,
       "grid_template_columns": null,
       "grid_template_rows": null,
       "height": null,
       "justify_content": null,
       "justify_items": null,
       "left": null,
       "margin": null,
       "max_height": null,
       "max_width": null,
       "min_height": null,
       "min_width": null,
       "object_fit": null,
       "object_position": null,
       "order": null,
       "overflow": null,
       "overflow_x": null,
       "overflow_y": null,
       "padding": null,
       "right": null,
       "top": null,
       "visibility": null,
       "width": null
      }
     },
     "12b79fcb767a42e4b49849dda997a20c": {
      "model_module": "@jupyter-widgets/controls",
      "model_module_version": "1.5.0",
      "model_name": "HBoxModel",
      "state": {
       "_dom_classes": [],
       "_model_module": "@jupyter-widgets/controls",
       "_model_module_version": "1.5.0",
       "_model_name": "HBoxModel",
       "_view_count": null,
       "_view_module": "@jupyter-widgets/controls",
       "_view_module_version": "1.5.0",
       "_view_name": "HBoxView",
       "box_style": "",
       "children": [
        "IPY_MODEL_6f19186854834d6e90d9fe4239c5e9f2",
        "IPY_MODEL_3c194cd842194dcab55c4a74ac031ddf",
        "IPY_MODEL_3bb2556eba774e32aedc1acd07a59b5b"
       ],
       "layout": "IPY_MODEL_486cca9949454f7ab3525fe9366fd303"
      }
     },
     "152e1a4239b74ab18c62756b81740aa0": {
      "model_module": "@jupyter-widgets/controls",
      "model_module_version": "1.5.0",
      "model_name": "HTMLModel",
      "state": {
       "_dom_classes": [],
       "_model_module": "@jupyter-widgets/controls",
       "_model_module_version": "1.5.0",
       "_model_name": "HTMLModel",
       "_view_count": null,
       "_view_module": "@jupyter-widgets/controls",
       "_view_module_version": "1.5.0",
       "_view_name": "HTMLView",
       "description": "",
       "description_tooltip": null,
       "layout": "IPY_MODEL_27b5b1453df04b1bb5c25757880e5a15",
       "placeholder": "​",
       "style": "IPY_MODEL_cc91d8453d544acfbfe718f0fc95e707",
       "value": " 26.0/26.0 [00:00&lt;00:00, 2.01kB/s]"
      }
     },
     "178c08fbdd014f7f8a82a751cd813fce": {
      "model_module": "@jupyter-widgets/base",
      "model_module_version": "1.2.0",
      "model_name": "LayoutModel",
      "state": {
       "_model_module": "@jupyter-widgets/base",
       "_model_module_version": "1.2.0",
       "_model_name": "LayoutModel",
       "_view_count": null,
       "_view_module": "@jupyter-widgets/base",
       "_view_module_version": "1.2.0",
       "_view_name": "LayoutView",
       "align_content": null,
       "align_items": null,
       "align_self": null,
       "border": null,
       "bottom": null,
       "display": null,
       "flex": null,
       "flex_flow": null,
       "grid_area": null,
       "grid_auto_columns": null,
       "grid_auto_flow": null,
       "grid_auto_rows": null,
       "grid_column": null,
       "grid_gap": null,
       "grid_row": null,
       "grid_template_areas": null,
       "grid_template_columns": null,
       "grid_template_rows": null,
       "height": null,
       "justify_content": null,
       "justify_items": null,
       "left": null,
       "margin": null,
       "max_height": null,
       "max_width": null,
       "min_height": null,
       "min_width": null,
       "object_fit": null,
       "object_position": null,
       "order": null,
       "overflow": null,
       "overflow_x": null,
       "overflow_y": null,
       "padding": null,
       "right": null,
       "top": null,
       "visibility": null,
       "width": null
      }
     },
     "19a700cb2e6f4676952d0c2e1a65aade": {
      "model_module": "@jupyter-widgets/base",
      "model_module_version": "1.2.0",
      "model_name": "LayoutModel",
      "state": {
       "_model_module": "@jupyter-widgets/base",
       "_model_module_version": "1.2.0",
       "_model_name": "LayoutModel",
       "_view_count": null,
       "_view_module": "@jupyter-widgets/base",
       "_view_module_version": "1.2.0",
       "_view_name": "LayoutView",
       "align_content": null,
       "align_items": null,
       "align_self": null,
       "border": null,
       "bottom": null,
       "display": null,
       "flex": null,
       "flex_flow": null,
       "grid_area": null,
       "grid_auto_columns": null,
       "grid_auto_flow": null,
       "grid_auto_rows": null,
       "grid_column": null,
       "grid_gap": null,
       "grid_row": null,
       "grid_template_areas": null,
       "grid_template_columns": null,
       "grid_template_rows": null,
       "height": null,
       "justify_content": null,
       "justify_items": null,
       "left": null,
       "margin": null,
       "max_height": null,
       "max_width": null,
       "min_height": null,
       "min_width": null,
       "object_fit": null,
       "object_position": null,
       "order": null,
       "overflow": null,
       "overflow_x": null,
       "overflow_y": null,
       "padding": null,
       "right": null,
       "top": null,
       "visibility": null,
       "width": null
      }
     },
     "1d6f9d4c35304f7b94e0ddccbf77c7a3": {
      "model_module": "@jupyter-widgets/controls",
      "model_module_version": "1.5.0",
      "model_name": "HTMLModel",
      "state": {
       "_dom_classes": [],
       "_model_module": "@jupyter-widgets/controls",
       "_model_module_version": "1.5.0",
       "_model_name": "HTMLModel",
       "_view_count": null,
       "_view_module": "@jupyter-widgets/controls",
       "_view_module_version": "1.5.0",
       "_view_name": "HTMLView",
       "description": "",
       "description_tooltip": null,
       "layout": "IPY_MODEL_178c08fbdd014f7f8a82a751cd813fce",
       "placeholder": "​",
       "style": "IPY_MODEL_67e14fa93a8341588044218262744f65",
       "value": "vocab.json: 100%"
      }
     },
     "27b5b1453df04b1bb5c25757880e5a15": {
      "model_module": "@jupyter-widgets/base",
      "model_module_version": "1.2.0",
      "model_name": "LayoutModel",
      "state": {
       "_model_module": "@jupyter-widgets/base",
       "_model_module_version": "1.2.0",
       "_model_name": "LayoutModel",
       "_view_count": null,
       "_view_module": "@jupyter-widgets/base",
       "_view_module_version": "1.2.0",
       "_view_name": "LayoutView",
       "align_content": null,
       "align_items": null,
       "align_self": null,
       "border": null,
       "bottom": null,
       "display": null,
       "flex": null,
       "flex_flow": null,
       "grid_area": null,
       "grid_auto_columns": null,
       "grid_auto_flow": null,
       "grid_auto_rows": null,
       "grid_column": null,
       "grid_gap": null,
       "grid_row": null,
       "grid_template_areas": null,
       "grid_template_columns": null,
       "grid_template_rows": null,
       "height": null,
       "justify_content": null,
       "justify_items": null,
       "left": null,
       "margin": null,
       "max_height": null,
       "max_width": null,
       "min_height": null,
       "min_width": null,
       "object_fit": null,
       "object_position": null,
       "order": null,
       "overflow": null,
       "overflow_x": null,
       "overflow_y": null,
       "padding": null,
       "right": null,
       "top": null,
       "visibility": null,
       "width": null
      }
     },
     "28e23011cc314b54be8865ba00ad5b88": {
      "model_module": "@jupyter-widgets/base",
      "model_module_version": "1.2.0",
      "model_name": "LayoutModel",
      "state": {
       "_model_module": "@jupyter-widgets/base",
       "_model_module_version": "1.2.0",
       "_model_name": "LayoutModel",
       "_view_count": null,
       "_view_module": "@jupyter-widgets/base",
       "_view_module_version": "1.2.0",
       "_view_name": "LayoutView",
       "align_content": null,
       "align_items": null,
       "align_self": null,
       "border": null,
       "bottom": null,
       "display": null,
       "flex": null,
       "flex_flow": null,
       "grid_area": null,
       "grid_auto_columns": null,
       "grid_auto_flow": null,
       "grid_auto_rows": null,
       "grid_column": null,
       "grid_gap": null,
       "grid_row": null,
       "grid_template_areas": null,
       "grid_template_columns": null,
       "grid_template_rows": null,
       "height": null,
       "justify_content": null,
       "justify_items": null,
       "left": null,
       "margin": null,
       "max_height": null,
       "max_width": null,
       "min_height": null,
       "min_width": null,
       "object_fit": null,
       "object_position": null,
       "order": null,
       "overflow": null,
       "overflow_x": null,
       "overflow_y": null,
       "padding": null,
       "right": null,
       "top": null,
       "visibility": null,
       "width": null
      }
     },
     "35ce86a16daf464eb5f9e3af856d1728": {
      "model_module": "@jupyter-widgets/base",
      "model_module_version": "1.2.0",
      "model_name": "LayoutModel",
      "state": {
       "_model_module": "@jupyter-widgets/base",
       "_model_module_version": "1.2.0",
       "_model_name": "LayoutModel",
       "_view_count": null,
       "_view_module": "@jupyter-widgets/base",
       "_view_module_version": "1.2.0",
       "_view_name": "LayoutView",
       "align_content": null,
       "align_items": null,
       "align_self": null,
       "border": null,
       "bottom": null,
       "display": null,
       "flex": null,
       "flex_flow": null,
       "grid_area": null,
       "grid_auto_columns": null,
       "grid_auto_flow": null,
       "grid_auto_rows": null,
       "grid_column": null,
       "grid_gap": null,
       "grid_row": null,
       "grid_template_areas": null,
       "grid_template_columns": null,
       "grid_template_rows": null,
       "height": null,
       "justify_content": null,
       "justify_items": null,
       "left": null,
       "margin": null,
       "max_height": null,
       "max_width": null,
       "min_height": null,
       "min_width": null,
       "object_fit": null,
       "object_position": null,
       "order": null,
       "overflow": null,
       "overflow_x": null,
       "overflow_y": null,
       "padding": null,
       "right": null,
       "top": null,
       "visibility": null,
       "width": null
      }
     },
     "397b608ab19d4168b41b6bd006a10443": {
      "model_module": "@jupyter-widgets/base",
      "model_module_version": "1.2.0",
      "model_name": "LayoutModel",
      "state": {
       "_model_module": "@jupyter-widgets/base",
       "_model_module_version": "1.2.0",
       "_model_name": "LayoutModel",
       "_view_count": null,
       "_view_module": "@jupyter-widgets/base",
       "_view_module_version": "1.2.0",
       "_view_name": "LayoutView",
       "align_content": null,
       "align_items": null,
       "align_self": null,
       "border": null,
       "bottom": null,
       "display": null,
       "flex": null,
       "flex_flow": null,
       "grid_area": null,
       "grid_auto_columns": null,
       "grid_auto_flow": null,
       "grid_auto_rows": null,
       "grid_column": null,
       "grid_gap": null,
       "grid_row": null,
       "grid_template_areas": null,
       "grid_template_columns": null,
       "grid_template_rows": null,
       "height": null,
       "justify_content": null,
       "justify_items": null,
       "left": null,
       "margin": null,
       "max_height": null,
       "max_width": null,
       "min_height": null,
       "min_width": null,
       "object_fit": null,
       "object_position": null,
       "order": null,
       "overflow": null,
       "overflow_x": null,
       "overflow_y": null,
       "padding": null,
       "right": null,
       "top": null,
       "visibility": null,
       "width": null
      }
     },
     "39eadbe2f0174c22bc3b262091169c6f": {
      "model_module": "@jupyter-widgets/base",
      "model_module_version": "1.2.0",
      "model_name": "LayoutModel",
      "state": {
       "_model_module": "@jupyter-widgets/base",
       "_model_module_version": "1.2.0",
       "_model_name": "LayoutModel",
       "_view_count": null,
       "_view_module": "@jupyter-widgets/base",
       "_view_module_version": "1.2.0",
       "_view_name": "LayoutView",
       "align_content": null,
       "align_items": null,
       "align_self": null,
       "border": null,
       "bottom": null,
       "display": null,
       "flex": null,
       "flex_flow": null,
       "grid_area": null,
       "grid_auto_columns": null,
       "grid_auto_flow": null,
       "grid_auto_rows": null,
       "grid_column": null,
       "grid_gap": null,
       "grid_row": null,
       "grid_template_areas": null,
       "grid_template_columns": null,
       "grid_template_rows": null,
       "height": null,
       "justify_content": null,
       "justify_items": null,
       "left": null,
       "margin": null,
       "max_height": null,
       "max_width": null,
       "min_height": null,
       "min_width": null,
       "object_fit": null,
       "object_position": null,
       "order": null,
       "overflow": null,
       "overflow_x": null,
       "overflow_y": null,
       "padding": null,
       "right": null,
       "top": null,
       "visibility": null,
       "width": null
      }
     },
     "3bb2556eba774e32aedc1acd07a59b5b": {
      "model_module": "@jupyter-widgets/controls",
      "model_module_version": "1.5.0",
      "model_name": "HTMLModel",
      "state": {
       "_dom_classes": [],
       "_model_module": "@jupyter-widgets/controls",
       "_model_module_version": "1.5.0",
       "_model_name": "HTMLModel",
       "_view_count": null,
       "_view_module": "@jupyter-widgets/controls",
       "_view_module_version": "1.5.0",
       "_view_name": "HTMLView",
       "description": "",
       "description_tooltip": null,
       "layout": "IPY_MODEL_a1b0ca5ccd244c1fb1e41b1c0534e609",
       "placeholder": "​",
       "style": "IPY_MODEL_0dc839c73ea6464d94e11dd835ed9260",
       "value": " 548M/548M [00:01&lt;00:00, 402MB/s]"
      }
     },
     "3bea82e2efda425384fd570ec1ea0392": {
      "model_module": "@jupyter-widgets/controls",
      "model_module_version": "1.5.0",
      "model_name": "HTMLModel",
      "state": {
       "_dom_classes": [],
       "_model_module": "@jupyter-widgets/controls",
       "_model_module_version": "1.5.0",
       "_model_name": "HTMLModel",
       "_view_count": null,
       "_view_module": "@jupyter-widgets/controls",
       "_view_module_version": "1.5.0",
       "_view_name": "HTMLView",
       "description": "",
       "description_tooltip": null,
       "layout": "IPY_MODEL_53e07748c3804754afcb93de3f96384d",
       "placeholder": "​",
       "style": "IPY_MODEL_4452a26d36e648d4b026849ccc29a82d",
       "value": "generation_config.json: 100%"
      }
     },
     "3c194cd842194dcab55c4a74ac031ddf": {
      "model_module": "@jupyter-widgets/controls",
      "model_module_version": "1.5.0",
      "model_name": "FloatProgressModel",
      "state": {
       "_dom_classes": [],
       "_model_module": "@jupyter-widgets/controls",
       "_model_module_version": "1.5.0",
       "_model_name": "FloatProgressModel",
       "_view_count": null,
       "_view_module": "@jupyter-widgets/controls",
       "_view_module_version": "1.5.0",
       "_view_name": "ProgressView",
       "bar_style": "success",
       "description": "",
       "description_tooltip": null,
       "layout": "IPY_MODEL_0f3eb7b8025a4b40bd3cb5907324b7e6",
       "max": 548105171.0,
       "min": 0.0,
       "orientation": "horizontal",
       "style": "IPY_MODEL_b5fcdccab348474b88ab1885b4e391d3",
       "value": 548105171.0
      }
     },
     "3c7ac6a521234fa0a2a5c1a8dabd4402": {
      "model_module": "@jupyter-widgets/controls",
      "model_module_version": "1.5.0",
      "model_name": "FloatProgressModel",
      "state": {
       "_dom_classes": [],
       "_model_module": "@jupyter-widgets/controls",
       "_model_module_version": "1.5.0",
       "_model_name": "FloatProgressModel",
       "_view_count": null,
       "_view_module": "@jupyter-widgets/controls",
       "_view_module_version": "1.5.0",
       "_view_name": "ProgressView",
       "bar_style": "success",
       "description": "",
       "description_tooltip": null,
       "layout": "IPY_MODEL_397b608ab19d4168b41b6bd006a10443",
       "max": 1355256.0,
       "min": 0.0,
       "orientation": "horizontal",
       "style": "IPY_MODEL_43749b3ab3584966b55f375af62d74f5",
       "value": 1355256.0
      }
     },
     "418b8c3f9198487eb2791cf2f5b8cf36": {
      "model_module": "@jupyter-widgets/controls",
      "model_module_version": "1.5.0",
      "model_name": "HTMLModel",
      "state": {
       "_dom_classes": [],
       "_model_module": "@jupyter-widgets/controls",
       "_model_module_version": "1.5.0",
       "_model_name": "HTMLModel",
       "_view_count": null,
       "_view_module": "@jupyter-widgets/controls",
       "_view_module_version": "1.5.0",
       "_view_name": "HTMLView",
       "description": "",
       "description_tooltip": null,
       "layout": "IPY_MODEL_71fd85c989684fa48e0e08a003720f38",
       "placeholder": "​",
       "style": "IPY_MODEL_fb03a8260b21471aae3b1a976e36b13c",
       "value": " 124/124 [00:00&lt;00:00, 11.3kB/s]"
      }
     },
     "43749b3ab3584966b55f375af62d74f5": {
      "model_module": "@jupyter-widgets/controls",
      "model_module_version": "1.5.0",
      "model_name": "ProgressStyleModel",
      "state": {
       "_model_module": "@jupyter-widgets/controls",
       "_model_module_version": "1.5.0",
       "_model_name": "ProgressStyleModel",
       "_view_count": null,
       "_view_module": "@jupyter-widgets/base",
       "_view_module_version": "1.2.0",
       "_view_name": "StyleView",
       "bar_color": null,
       "description_width": ""
      }
     },
     "4452a26d36e648d4b026849ccc29a82d": {
      "model_module": "@jupyter-widgets/controls",
      "model_module_version": "1.5.0",
      "model_name": "DescriptionStyleModel",
      "state": {
       "_model_module": "@jupyter-widgets/controls",
       "_model_module_version": "1.5.0",
       "_model_name": "DescriptionStyleModel",
       "_view_count": null,
       "_view_module": "@jupyter-widgets/base",
       "_view_module_version": "1.2.0",
       "_view_name": "StyleView",
       "description_width": ""
      }
     },
     "486cca9949454f7ab3525fe9366fd303": {
      "model_module": "@jupyter-widgets/base",
      "model_module_version": "1.2.0",
      "model_name": "LayoutModel",
      "state": {
       "_model_module": "@jupyter-widgets/base",
       "_model_module_version": "1.2.0",
       "_model_name": "LayoutModel",
       "_view_count": null,
       "_view_module": "@jupyter-widgets/base",
       "_view_module_version": "1.2.0",
       "_view_name": "LayoutView",
       "align_content": null,
       "align_items": null,
       "align_self": null,
       "border": null,
       "bottom": null,
       "display": null,
       "flex": null,
       "flex_flow": null,
       "grid_area": null,
       "grid_auto_columns": null,
       "grid_auto_flow": null,
       "grid_auto_rows": null,
       "grid_column": null,
       "grid_gap": null,
       "grid_row": null,
       "grid_template_areas": null,
       "grid_template_columns": null,
       "grid_template_rows": null,
       "height": null,
       "justify_content": null,
       "justify_items": null,
       "left": null,
       "margin": null,
       "max_height": null,
       "max_width": null,
       "min_height": null,
       "min_width": null,
       "object_fit": null,
       "object_position": null,
       "order": null,
       "overflow": null,
       "overflow_x": null,
       "overflow_y": null,
       "padding": null,
       "right": null,
       "top": null,
       "visibility": null,
       "width": null
      }
     },
     "4e3bc93b7c824cc6a9972ba65a4b6396": {
      "model_module": "@jupyter-widgets/controls",
      "model_module_version": "1.5.0",
      "model_name": "HTMLModel",
      "state": {
       "_dom_classes": [],
       "_model_module": "@jupyter-widgets/controls",
       "_model_module_version": "1.5.0",
       "_model_name": "HTMLModel",
       "_view_count": null,
       "_view_module": "@jupyter-widgets/controls",
       "_view_module_version": "1.5.0",
       "_view_name": "HTMLView",
       "description": "",
       "description_tooltip": null,
       "layout": "IPY_MODEL_660cd5b7b65e404a9e0573f17da624de",
       "placeholder": "​",
       "style": "IPY_MODEL_ca5243a6aa0442cc8e1407fb407873a4",
       "value": " 456k/456k [00:00&lt;00:00, 5.16MB/s]"
      }
     },
     "4e4bf34ad7a24fe89de26cc9179e85f9": {
      "model_module": "@jupyter-widgets/controls",
      "model_module_version": "1.5.0",
      "model_name": "HBoxModel",
      "state": {
       "_dom_classes": [],
       "_model_module": "@jupyter-widgets/controls",
       "_model_module_version": "1.5.0",
       "_model_name": "HBoxModel",
       "_view_count": null,
       "_view_module": "@jupyter-widgets/controls",
       "_view_module_version": "1.5.0",
       "_view_name": "HBoxView",
       "box_style": "",
       "children": [
        "IPY_MODEL_1d6f9d4c35304f7b94e0ddccbf77c7a3",
        "IPY_MODEL_4fce2330d1b64215977ff71af04f828a",
        "IPY_MODEL_5850e686f22e4827a6d34311c86087de"
       ],
       "layout": "IPY_MODEL_19a700cb2e6f4676952d0c2e1a65aade"
      }
     },
     "4ea8a93c848c48fd8455a0604e14e6d3": {
      "model_module": "@jupyter-widgets/controls",
      "model_module_version": "1.5.0",
      "model_name": "HBoxModel",
      "state": {
       "_dom_classes": [],
       "_model_module": "@jupyter-widgets/controls",
       "_model_module_version": "1.5.0",
       "_model_name": "HBoxModel",
       "_view_count": null,
       "_view_module": "@jupyter-widgets/controls",
       "_view_module_version": "1.5.0",
       "_view_name": "HBoxView",
       "box_style": "",
       "children": [
        "IPY_MODEL_85adf4a5e92d4bb2852f177b82ba3a55",
        "IPY_MODEL_3c7ac6a521234fa0a2a5c1a8dabd4402",
        "IPY_MODEL_0e9f00d1990142e09e75bd7a9a2f000e"
       ],
       "layout": "IPY_MODEL_080bfa2b5ae1456cb986df392b71dfe9"
      }
     },
     "4fce2330d1b64215977ff71af04f828a": {
      "model_module": "@jupyter-widgets/controls",
      "model_module_version": "1.5.0",
      "model_name": "FloatProgressModel",
      "state": {
       "_dom_classes": [],
       "_model_module": "@jupyter-widgets/controls",
       "_model_module_version": "1.5.0",
       "_model_name": "FloatProgressModel",
       "_view_count": null,
       "_view_module": "@jupyter-widgets/controls",
       "_view_module_version": "1.5.0",
       "_view_name": "ProgressView",
       "bar_style": "success",
       "description": "",
       "description_tooltip": null,
       "layout": "IPY_MODEL_fa1475efd6d4416b8ef36030c0df8944",
       "max": 1042301.0,
       "min": 0.0,
       "orientation": "horizontal",
       "style": "IPY_MODEL_d6b0c955c1f5498f859ec26c8e3cff09",
       "value": 1042301.0
      }
     },
     "53e07748c3804754afcb93de3f96384d": {
      "model_module": "@jupyter-widgets/base",
      "model_module_version": "1.2.0",
      "model_name": "LayoutModel",
      "state": {
       "_model_module": "@jupyter-widgets/base",
       "_model_module_version": "1.2.0",
       "_model_name": "LayoutModel",
       "_view_count": null,
       "_view_module": "@jupyter-widgets/base",
       "_view_module_version": "1.2.0",
       "_view_name": "LayoutView",
       "align_content": null,
       "align_items": null,
       "align_self": null,
       "border": null,
       "bottom": null,
       "display": null,
       "flex": null,
       "flex_flow": null,
       "grid_area": null,
       "grid_auto_columns": null,
       "grid_auto_flow": null,
       "grid_auto_rows": null,
       "grid_column": null,
       "grid_gap": null,
       "grid_row": null,
       "grid_template_areas": null,
       "grid_template_columns": null,
       "grid_template_rows": null,
       "height": null,
       "justify_content": null,
       "justify_items": null,
       "left": null,
       "margin": null,
       "max_height": null,
       "max_width": null,
       "min_height": null,
       "min_width": null,
       "object_fit": null,
       "object_position": null,
       "order": null,
       "overflow": null,
       "overflow_x": null,
       "overflow_y": null,
       "padding": null,
       "right": null,
       "top": null,
       "visibility": null,
       "width": null
      }
     },
     "5850e686f22e4827a6d34311c86087de": {
      "model_module": "@jupyter-widgets/controls",
      "model_module_version": "1.5.0",
      "model_name": "HTMLModel",
      "state": {
       "_dom_classes": [],
       "_model_module": "@jupyter-widgets/controls",
       "_model_module_version": "1.5.0",
       "_model_name": "HTMLModel",
       "_view_count": null,
       "_view_module": "@jupyter-widgets/controls",
       "_view_module_version": "1.5.0",
       "_view_name": "HTMLView",
       "description": "",
       "description_tooltip": null,
       "layout": "IPY_MODEL_dba40964d3b94925b49d8435b441a114",
       "placeholder": "​",
       "style": "IPY_MODEL_b522e5f5d2ee47dd9e6186f77963bdcc",
       "value": " 1.04M/1.04M [00:00&lt;00:00, 12.2MB/s]"
      }
     },
     "59f5e05a97bd4ce6bba8cb3dea042d3e": {
      "model_module": "@jupyter-widgets/controls",
      "model_module_version": "1.5.0",
      "model_name": "DescriptionStyleModel",
      "state": {
       "_model_module": "@jupyter-widgets/controls",
       "_model_module_version": "1.5.0",
       "_model_name": "DescriptionStyleModel",
       "_view_count": null,
       "_view_module": "@jupyter-widgets/base",
       "_view_module_version": "1.2.0",
       "_view_name": "StyleView",
       "description_width": ""
      }
     },
     "5be4a11a251042deb08f9bd6761fded7": {
      "model_module": "@jupyter-widgets/base",
      "model_module_version": "1.2.0",
      "model_name": "LayoutModel",
      "state": {
       "_model_module": "@jupyter-widgets/base",
       "_model_module_version": "1.2.0",
       "_model_name": "LayoutModel",
       "_view_count": null,
       "_view_module": "@jupyter-widgets/base",
       "_view_module_version": "1.2.0",
       "_view_name": "LayoutView",
       "align_content": null,
       "align_items": null,
       "align_self": null,
       "border": null,
       "bottom": null,
       "display": null,
       "flex": null,
       "flex_flow": null,
       "grid_area": null,
       "grid_auto_columns": null,
       "grid_auto_flow": null,
       "grid_auto_rows": null,
       "grid_column": null,
       "grid_gap": null,
       "grid_row": null,
       "grid_template_areas": null,
       "grid_template_columns": null,
       "grid_template_rows": null,
       "height": null,
       "justify_content": null,
       "justify_items": null,
       "left": null,
       "margin": null,
       "max_height": null,
       "max_width": null,
       "min_height": null,
       "min_width": null,
       "object_fit": null,
       "object_position": null,
       "order": null,
       "overflow": null,
       "overflow_x": null,
       "overflow_y": null,
       "padding": null,
       "right": null,
       "top": null,
       "visibility": null,
       "width": null
      }
     },
     "5e22f4f8c1cb4416b115cb24d2c79873": {
      "model_module": "@jupyter-widgets/base",
      "model_module_version": "1.2.0",
      "model_name": "LayoutModel",
      "state": {
       "_model_module": "@jupyter-widgets/base",
       "_model_module_version": "1.2.0",
       "_model_name": "LayoutModel",
       "_view_count": null,
       "_view_module": "@jupyter-widgets/base",
       "_view_module_version": "1.2.0",
       "_view_name": "LayoutView",
       "align_content": null,
       "align_items": null,
       "align_self": null,
       "border": null,
       "bottom": null,
       "display": null,
       "flex": null,
       "flex_flow": null,
       "grid_area": null,
       "grid_auto_columns": null,
       "grid_auto_flow": null,
       "grid_auto_rows": null,
       "grid_column": null,
       "grid_gap": null,
       "grid_row": null,
       "grid_template_areas": null,
       "grid_template_columns": null,
       "grid_template_rows": null,
       "height": null,
       "justify_content": null,
       "justify_items": null,
       "left": null,
       "margin": null,
       "max_height": null,
       "max_width": null,
       "min_height": null,
       "min_width": null,
       "object_fit": null,
       "object_position": null,
       "order": null,
       "overflow": null,
       "overflow_x": null,
       "overflow_y": null,
       "padding": null,
       "right": null,
       "top": null,
       "visibility": null,
       "width": null
      }
     },
     "5f3d9c00d63f4e869127ffa6906877c4": {
      "model_module": "@jupyter-widgets/controls",
      "model_module_version": "1.5.0",
      "model_name": "HTMLModel",
      "state": {
       "_dom_classes": [],
       "_model_module": "@jupyter-widgets/controls",
       "_model_module_version": "1.5.0",
       "_model_name": "HTMLModel",
       "_view_count": null,
       "_view_module": "@jupyter-widgets/controls",
       "_view_module_version": "1.5.0",
       "_view_name": "HTMLView",
       "description": "",
       "description_tooltip": null,
       "layout": "IPY_MODEL_ac688117b4324775a9c199c62a3b77aa",
       "placeholder": "​",
       "style": "IPY_MODEL_68433f18b4974861b5a8db3c1e6f2b86",
       "value": "config.json: 100%"
      }
     },
     "60b634fda62c47c5bd961d87d87e4bb7": {
      "model_module": "@jupyter-widgets/controls",
      "model_module_version": "1.5.0",
      "model_name": "HTMLModel",
      "state": {
       "_dom_classes": [],
       "_model_module": "@jupyter-widgets/controls",
       "_model_module_version": "1.5.0",
       "_model_name": "HTMLModel",
       "_view_count": null,
       "_view_module": "@jupyter-widgets/controls",
       "_view_module_version": "1.5.0",
       "_view_name": "HTMLView",
       "description": "",
       "description_tooltip": null,
       "layout": "IPY_MODEL_829c820d7b1f49b8a4a24acff6df072e",
       "placeholder": "​",
       "style": "IPY_MODEL_59f5e05a97bd4ce6bba8cb3dea042d3e",
       "value": "merges.txt: 100%"
      }
     },
     "6413a2fd9d1d471e9f135dbf4c71ab95": {
      "model_module": "@jupyter-widgets/controls",
      "model_module_version": "1.5.0",
      "model_name": "ProgressStyleModel",
      "state": {
       "_model_module": "@jupyter-widgets/controls",
       "_model_module_version": "1.5.0",
       "_model_name": "ProgressStyleModel",
       "_view_count": null,
       "_view_module": "@jupyter-widgets/base",
       "_view_module_version": "1.2.0",
       "_view_name": "StyleView",
       "bar_color": null,
       "description_width": ""
      }
     },
     "6423cd754c5f4f19b7ea2f3db3c1f998": {
      "model_module": "@jupyter-widgets/controls",
      "model_module_version": "1.5.0",
      "model_name": "FloatProgressModel",
      "state": {
       "_dom_classes": [],
       "_model_module": "@jupyter-widgets/controls",
       "_model_module_version": "1.5.0",
       "_model_name": "FloatProgressModel",
       "_view_count": null,
       "_view_module": "@jupyter-widgets/controls",
       "_view_module_version": "1.5.0",
       "_view_name": "ProgressView",
       "bar_style": "success",
       "description": "",
       "description_tooltip": null,
       "layout": "IPY_MODEL_35ce86a16daf464eb5f9e3af856d1728",
       "max": 26.0,
       "min": 0.0,
       "orientation": "horizontal",
       "style": "IPY_MODEL_6413a2fd9d1d471e9f135dbf4c71ab95",
       "value": 26.0
      }
     },
     "660cd5b7b65e404a9e0573f17da624de": {
      "model_module": "@jupyter-widgets/base",
      "model_module_version": "1.2.0",
      "model_name": "LayoutModel",
      "state": {
       "_model_module": "@jupyter-widgets/base",
       "_model_module_version": "1.2.0",
       "_model_name": "LayoutModel",
       "_view_count": null,
       "_view_module": "@jupyter-widgets/base",
       "_view_module_version": "1.2.0",
       "_view_name": "LayoutView",
       "align_content": null,
       "align_items": null,
       "align_self": null,
       "border": null,
       "bottom": null,
       "display": null,
       "flex": null,
       "flex_flow": null,
       "grid_area": null,
       "grid_auto_columns": null,
       "grid_auto_flow": null,
       "grid_auto_rows": null,
       "grid_column": null,
       "grid_gap": null,
       "grid_row": null,
       "grid_template_areas": null,
       "grid_template_columns": null,
       "grid_template_rows": null,
       "height": null,
       "justify_content": null,
       "justify_items": null,
       "left": null,
       "margin": null,
       "max_height": null,
       "max_width": null,
       "min_height": null,
       "min_width": null,
       "object_fit": null,
       "object_position": null,
       "order": null,
       "overflow": null,
       "overflow_x": null,
       "overflow_y": null,
       "padding": null,
       "right": null,
       "top": null,
       "visibility": null,
       "width": null
      }
     },
     "67e14fa93a8341588044218262744f65": {
      "model_module": "@jupyter-widgets/controls",
      "model_module_version": "1.5.0",
      "model_name": "DescriptionStyleModel",
      "state": {
       "_model_module": "@jupyter-widgets/controls",
       "_model_module_version": "1.5.0",
       "_model_name": "DescriptionStyleModel",
       "_view_count": null,
       "_view_module": "@jupyter-widgets/base",
       "_view_module_version": "1.2.0",
       "_view_name": "StyleView",
       "description_width": ""
      }
     },
     "68433f18b4974861b5a8db3c1e6f2b86": {
      "model_module": "@jupyter-widgets/controls",
      "model_module_version": "1.5.0",
      "model_name": "DescriptionStyleModel",
      "state": {
       "_model_module": "@jupyter-widgets/controls",
       "_model_module_version": "1.5.0",
       "_model_name": "DescriptionStyleModel",
       "_view_count": null,
       "_view_module": "@jupyter-widgets/base",
       "_view_module_version": "1.2.0",
       "_view_name": "StyleView",
       "description_width": ""
      }
     },
     "6cb191c6efe94b35aed9aaf0a74799d9": {
      "model_module": "@jupyter-widgets/controls",
      "model_module_version": "1.5.0",
      "model_name": "HBoxModel",
      "state": {
       "_dom_classes": [],
       "_model_module": "@jupyter-widgets/controls",
       "_model_module_version": "1.5.0",
       "_model_name": "HBoxModel",
       "_view_count": null,
       "_view_module": "@jupyter-widgets/controls",
       "_view_module_version": "1.5.0",
       "_view_name": "HBoxView",
       "box_style": "",
       "children": [
        "IPY_MODEL_5f3d9c00d63f4e869127ffa6906877c4",
        "IPY_MODEL_d112476929bf4c778a5d7b024ca3883d",
        "IPY_MODEL_7d259e54f5354a789e22b8b0deafa7e1"
       ],
       "layout": "IPY_MODEL_5e22f4f8c1cb4416b115cb24d2c79873"
      }
     },
     "6f19186854834d6e90d9fe4239c5e9f2": {
      "model_module": "@jupyter-widgets/controls",
      "model_module_version": "1.5.0",
      "model_name": "HTMLModel",
      "state": {
       "_dom_classes": [],
       "_model_module": "@jupyter-widgets/controls",
       "_model_module_version": "1.5.0",
       "_model_name": "HTMLModel",
       "_view_count": null,
       "_view_module": "@jupyter-widgets/controls",
       "_view_module_version": "1.5.0",
       "_view_name": "HTMLView",
       "description": "",
       "description_tooltip": null,
       "layout": "IPY_MODEL_5be4a11a251042deb08f9bd6761fded7",
       "placeholder": "​",
       "style": "IPY_MODEL_08649cbedc5e4aafa47259dd358b5e98",
       "value": "model.safetensors: 100%"
      }
     },
     "71fd85c989684fa48e0e08a003720f38": {
      "model_module": "@jupyter-widgets/base",
      "model_module_version": "1.2.0",
      "model_name": "LayoutModel",
      "state": {
       "_model_module": "@jupyter-widgets/base",
       "_model_module_version": "1.2.0",
       "_model_name": "LayoutModel",
       "_view_count": null,
       "_view_module": "@jupyter-widgets/base",
       "_view_module_version": "1.2.0",
       "_view_name": "LayoutView",
       "align_content": null,
       "align_items": null,
       "align_self": null,
       "border": null,
       "bottom": null,
       "display": null,
       "flex": null,
       "flex_flow": null,
       "grid_area": null,
       "grid_auto_columns": null,
       "grid_auto_flow": null,
       "grid_auto_rows": null,
       "grid_column": null,
       "grid_gap": null,
       "grid_row": null,
       "grid_template_areas": null,
       "grid_template_columns": null,
       "grid_template_rows": null,
       "height": null,
       "justify_content": null,
       "justify_items": null,
       "left": null,
       "margin": null,
       "max_height": null,
       "max_width": null,
       "min_height": null,
       "min_width": null,
       "object_fit": null,
       "object_position": null,
       "order": null,
       "overflow": null,
       "overflow_x": null,
       "overflow_y": null,
       "padding": null,
       "right": null,
       "top": null,
       "visibility": null,
       "width": null
      }
     },
     "796b899558634eb6bd57d0540eefe9c9": {
      "model_module": "@jupyter-widgets/base",
      "model_module_version": "1.2.0",
      "model_name": "LayoutModel",
      "state": {
       "_model_module": "@jupyter-widgets/base",
       "_model_module_version": "1.2.0",
       "_model_name": "LayoutModel",
       "_view_count": null,
       "_view_module": "@jupyter-widgets/base",
       "_view_module_version": "1.2.0",
       "_view_name": "LayoutView",
       "align_content": null,
       "align_items": null,
       "align_self": null,
       "border": null,
       "bottom": null,
       "display": null,
       "flex": null,
       "flex_flow": null,
       "grid_area": null,
       "grid_auto_columns": null,
       "grid_auto_flow": null,
       "grid_auto_rows": null,
       "grid_column": null,
       "grid_gap": null,
       "grid_row": null,
       "grid_template_areas": null,
       "grid_template_columns": null,
       "grid_template_rows": null,
       "height": null,
       "justify_content": null,
       "justify_items": null,
       "left": null,
       "margin": null,
       "max_height": null,
       "max_width": null,
       "min_height": null,
       "min_width": null,
       "object_fit": null,
       "object_position": null,
       "order": null,
       "overflow": null,
       "overflow_x": null,
       "overflow_y": null,
       "padding": null,
       "right": null,
       "top": null,
       "visibility": null,
       "width": null
      }
     },
     "7d259e54f5354a789e22b8b0deafa7e1": {
      "model_module": "@jupyter-widgets/controls",
      "model_module_version": "1.5.0",
      "model_name": "HTMLModel",
      "state": {
       "_dom_classes": [],
       "_model_module": "@jupyter-widgets/controls",
       "_model_module_version": "1.5.0",
       "_model_name": "HTMLModel",
       "_view_count": null,
       "_view_module": "@jupyter-widgets/controls",
       "_view_module_version": "1.5.0",
       "_view_name": "HTMLView",
       "description": "",
       "description_tooltip": null,
       "layout": "IPY_MODEL_39eadbe2f0174c22bc3b262091169c6f",
       "placeholder": "​",
       "style": "IPY_MODEL_c014496a640e4f2c8668701f09c1289a",
       "value": " 665/665 [00:00&lt;00:00, 55.3kB/s]"
      }
     },
     "829c820d7b1f49b8a4a24acff6df072e": {
      "model_module": "@jupyter-widgets/base",
      "model_module_version": "1.2.0",
      "model_name": "LayoutModel",
      "state": {
       "_model_module": "@jupyter-widgets/base",
       "_model_module_version": "1.2.0",
       "_model_name": "LayoutModel",
       "_view_count": null,
       "_view_module": "@jupyter-widgets/base",
       "_view_module_version": "1.2.0",
       "_view_name": "LayoutView",
       "align_content": null,
       "align_items": null,
       "align_self": null,
       "border": null,
       "bottom": null,
       "display": null,
       "flex": null,
       "flex_flow": null,
       "grid_area": null,
       "grid_auto_columns": null,
       "grid_auto_flow": null,
       "grid_auto_rows": null,
       "grid_column": null,
       "grid_gap": null,
       "grid_row": null,
       "grid_template_areas": null,
       "grid_template_columns": null,
       "grid_template_rows": null,
       "height": null,
       "justify_content": null,
       "justify_items": null,
       "left": null,
       "margin": null,
       "max_height": null,
       "max_width": null,
       "min_height": null,
       "min_width": null,
       "object_fit": null,
       "object_position": null,
       "order": null,
       "overflow": null,
       "overflow_x": null,
       "overflow_y": null,
       "padding": null,
       "right": null,
       "top": null,
       "visibility": null,
       "width": null
      }
     },
     "85adf4a5e92d4bb2852f177b82ba3a55": {
      "model_module": "@jupyter-widgets/controls",
      "model_module_version": "1.5.0",
      "model_name": "HTMLModel",
      "state": {
       "_dom_classes": [],
       "_model_module": "@jupyter-widgets/controls",
       "_model_module_version": "1.5.0",
       "_model_name": "HTMLModel",
       "_view_count": null,
       "_view_module": "@jupyter-widgets/controls",
       "_view_module_version": "1.5.0",
       "_view_name": "HTMLView",
       "description": "",
       "description_tooltip": null,
       "layout": "IPY_MODEL_db4dd9a8047840fb904ef758965026b8",
       "placeholder": "​",
       "style": "IPY_MODEL_cd4089524336480b964b949e93142a89",
       "value": "tokenizer.json: 100%"
      }
     },
     "86e81434ad514d15aab5993a4ca15c15": {
      "model_module": "@jupyter-widgets/base",
      "model_module_version": "1.2.0",
      "model_name": "LayoutModel",
      "state": {
       "_model_module": "@jupyter-widgets/base",
       "_model_module_version": "1.2.0",
       "_model_name": "LayoutModel",
       "_view_count": null,
       "_view_module": "@jupyter-widgets/base",
       "_view_module_version": "1.2.0",
       "_view_name": "LayoutView",
       "align_content": null,
       "align_items": null,
       "align_self": null,
       "border": null,
       "bottom": null,
       "display": null,
       "flex": null,
       "flex_flow": null,
       "grid_area": null,
       "grid_auto_columns": null,
       "grid_auto_flow": null,
       "grid_auto_rows": null,
       "grid_column": null,
       "grid_gap": null,
       "grid_row": null,
       "grid_template_areas": null,
       "grid_template_columns": null,
       "grid_template_rows": null,
       "height": null,
       "justify_content": null,
       "justify_items": null,
       "left": null,
       "margin": null,
       "max_height": null,
       "max_width": null,
       "min_height": null,
       "min_width": null,
       "object_fit": null,
       "object_position": null,
       "order": null,
       "overflow": null,
       "overflow_x": null,
       "overflow_y": null,
       "padding": null,
       "right": null,
       "top": null,
       "visibility": null,
       "width": null
      }
     },
     "99122f446995429f9b5c4b9d948ede93": {
      "model_module": "@jupyter-widgets/controls",
      "model_module_version": "1.5.0",
      "model_name": "DescriptionStyleModel",
      "state": {
       "_model_module": "@jupyter-widgets/controls",
       "_model_module_version": "1.5.0",
       "_model_name": "DescriptionStyleModel",
       "_view_count": null,
       "_view_module": "@jupyter-widgets/base",
       "_view_module_version": "1.2.0",
       "_view_name": "StyleView",
       "description_width": ""
      }
     },
     "a1b0ca5ccd244c1fb1e41b1c0534e609": {
      "model_module": "@jupyter-widgets/base",
      "model_module_version": "1.2.0",
      "model_name": "LayoutModel",
      "state": {
       "_model_module": "@jupyter-widgets/base",
       "_model_module_version": "1.2.0",
       "_model_name": "LayoutModel",
       "_view_count": null,
       "_view_module": "@jupyter-widgets/base",
       "_view_module_version": "1.2.0",
       "_view_name": "LayoutView",
       "align_content": null,
       "align_items": null,
       "align_self": null,
       "border": null,
       "bottom": null,
       "display": null,
       "flex": null,
       "flex_flow": null,
       "grid_area": null,
       "grid_auto_columns": null,
       "grid_auto_flow": null,
       "grid_auto_rows": null,
       "grid_column": null,
       "grid_gap": null,
       "grid_row": null,
       "grid_template_areas": null,
       "grid_template_columns": null,
       "grid_template_rows": null,
       "height": null,
       "justify_content": null,
       "justify_items": null,
       "left": null,
       "margin": null,
       "max_height": null,
       "max_width": null,
       "min_height": null,
       "min_width": null,
       "object_fit": null,
       "object_position": null,
       "order": null,
       "overflow": null,
       "overflow_x": null,
       "overflow_y": null,
       "padding": null,
       "right": null,
       "top": null,
       "visibility": null,
       "width": null
      }
     },
     "a55c3377472c4297b459793ff8683494": {
      "model_module": "@jupyter-widgets/controls",
      "model_module_version": "1.5.0",
      "model_name": "HBoxModel",
      "state": {
       "_dom_classes": [],
       "_model_module": "@jupyter-widgets/controls",
       "_model_module_version": "1.5.0",
       "_model_name": "HBoxModel",
       "_view_count": null,
       "_view_module": "@jupyter-widgets/controls",
       "_view_module_version": "1.5.0",
       "_view_name": "HBoxView",
       "box_style": "",
       "children": [
        "IPY_MODEL_60b634fda62c47c5bd961d87d87e4bb7",
        "IPY_MODEL_e997ae1af9d64b39a9da8235ec15ba0c",
        "IPY_MODEL_4e3bc93b7c824cc6a9972ba65a4b6396"
       ],
       "layout": "IPY_MODEL_d34e6f5531364b50afe33f6c3cef1b4d"
      }
     },
     "ac688117b4324775a9c199c62a3b77aa": {
      "model_module": "@jupyter-widgets/base",
      "model_module_version": "1.2.0",
      "model_name": "LayoutModel",
      "state": {
       "_model_module": "@jupyter-widgets/base",
       "_model_module_version": "1.2.0",
       "_model_name": "LayoutModel",
       "_view_count": null,
       "_view_module": "@jupyter-widgets/base",
       "_view_module_version": "1.2.0",
       "_view_name": "LayoutView",
       "align_content": null,
       "align_items": null,
       "align_self": null,
       "border": null,
       "bottom": null,
       "display": null,
       "flex": null,
       "flex_flow": null,
       "grid_area": null,
       "grid_auto_columns": null,
       "grid_auto_flow": null,
       "grid_auto_rows": null,
       "grid_column": null,
       "grid_gap": null,
       "grid_row": null,
       "grid_template_areas": null,
       "grid_template_columns": null,
       "grid_template_rows": null,
       "height": null,
       "justify_content": null,
       "justify_items": null,
       "left": null,
       "margin": null,
       "max_height": null,
       "max_width": null,
       "min_height": null,
       "min_width": null,
       "object_fit": null,
       "object_position": null,
       "order": null,
       "overflow": null,
       "overflow_x": null,
       "overflow_y": null,
       "padding": null,
       "right": null,
       "top": null,
       "visibility": null,
       "width": null
      }
     },
     "af9c4cd479d24088aa0e9bf99777303f": {
      "model_module": "@jupyter-widgets/controls",
      "model_module_version": "1.5.0",
      "model_name": "HBoxModel",
      "state": {
       "_dom_classes": [],
       "_model_module": "@jupyter-widgets/controls",
       "_model_module_version": "1.5.0",
       "_model_name": "HBoxModel",
       "_view_count": null,
       "_view_module": "@jupyter-widgets/controls",
       "_view_module_version": "1.5.0",
       "_view_name": "HBoxView",
       "box_style": "",
       "children": [
        "IPY_MODEL_b712e997b0ee4136aa2ac99b718979e2",
        "IPY_MODEL_6423cd754c5f4f19b7ea2f3db3c1f998",
        "IPY_MODEL_152e1a4239b74ab18c62756b81740aa0"
       ],
       "layout": "IPY_MODEL_ce44f80e7d21420d8067ed444f8fce7d"
      }
     },
     "b522e5f5d2ee47dd9e6186f77963bdcc": {
      "model_module": "@jupyter-widgets/controls",
      "model_module_version": "1.5.0",
      "model_name": "DescriptionStyleModel",
      "state": {
       "_model_module": "@jupyter-widgets/controls",
       "_model_module_version": "1.5.0",
       "_model_name": "DescriptionStyleModel",
       "_view_count": null,
       "_view_module": "@jupyter-widgets/base",
       "_view_module_version": "1.2.0",
       "_view_name": "StyleView",
       "description_width": ""
      }
     },
     "b5fcdccab348474b88ab1885b4e391d3": {
      "model_module": "@jupyter-widgets/controls",
      "model_module_version": "1.5.0",
      "model_name": "ProgressStyleModel",
      "state": {
       "_model_module": "@jupyter-widgets/controls",
       "_model_module_version": "1.5.0",
       "_model_name": "ProgressStyleModel",
       "_view_count": null,
       "_view_module": "@jupyter-widgets/base",
       "_view_module_version": "1.2.0",
       "_view_name": "StyleView",
       "bar_color": null,
       "description_width": ""
      }
     },
     "b712e997b0ee4136aa2ac99b718979e2": {
      "model_module": "@jupyter-widgets/controls",
      "model_module_version": "1.5.0",
      "model_name": "HTMLModel",
      "state": {
       "_dom_classes": [],
       "_model_module": "@jupyter-widgets/controls",
       "_model_module_version": "1.5.0",
       "_model_name": "HTMLModel",
       "_view_count": null,
       "_view_module": "@jupyter-widgets/controls",
       "_view_module_version": "1.5.0",
       "_view_name": "HTMLView",
       "description": "",
       "description_tooltip": null,
       "layout": "IPY_MODEL_796b899558634eb6bd57d0540eefe9c9",
       "placeholder": "​",
       "style": "IPY_MODEL_99122f446995429f9b5c4b9d948ede93",
       "value": "tokenizer_config.json: 100%"
      }
     },
     "b799cede33e145e79b49b80ac94f4dea": {
      "model_module": "@jupyter-widgets/controls",
      "model_module_version": "1.5.0",
      "model_name": "HBoxModel",
      "state": {
       "_dom_classes": [],
       "_model_module": "@jupyter-widgets/controls",
       "_model_module_version": "1.5.0",
       "_model_name": "HBoxModel",
       "_view_count": null,
       "_view_module": "@jupyter-widgets/controls",
       "_view_module_version": "1.5.0",
       "_view_name": "HBoxView",
       "box_style": "",
       "children": [
        "IPY_MODEL_3bea82e2efda425384fd570ec1ea0392",
        "IPY_MODEL_fe9fb0e9c6604475b4a795bd00d6cd88",
        "IPY_MODEL_418b8c3f9198487eb2791cf2f5b8cf36"
       ],
       "layout": "IPY_MODEL_e235a08d76a84446a905cbd37d2874c3"
      }
     },
     "b9156a585a654f028b99dcb5564fcb45": {
      "model_module": "@jupyter-widgets/base",
      "model_module_version": "1.2.0",
      "model_name": "LayoutModel",
      "state": {
       "_model_module": "@jupyter-widgets/base",
       "_model_module_version": "1.2.0",
       "_model_name": "LayoutModel",
       "_view_count": null,
       "_view_module": "@jupyter-widgets/base",
       "_view_module_version": "1.2.0",
       "_view_name": "LayoutView",
       "align_content": null,
       "align_items": null,
       "align_self": null,
       "border": null,
       "bottom": null,
       "display": null,
       "flex": null,
       "flex_flow": null,
       "grid_area": null,
       "grid_auto_columns": null,
       "grid_auto_flow": null,
       "grid_auto_rows": null,
       "grid_column": null,
       "grid_gap": null,
       "grid_row": null,
       "grid_template_areas": null,
       "grid_template_columns": null,
       "grid_template_rows": null,
       "height": null,
       "justify_content": null,
       "justify_items": null,
       "left": null,
       "margin": null,
       "max_height": null,
       "max_width": null,
       "min_height": null,
       "min_width": null,
       "object_fit": null,
       "object_position": null,
       "order": null,
       "overflow": null,
       "overflow_x": null,
       "overflow_y": null,
       "padding": null,
       "right": null,
       "top": null,
       "visibility": null,
       "width": null
      }
     },
     "bacf07f6602c4bda94786787aca4ce0e": {
      "model_module": "@jupyter-widgets/controls",
      "model_module_version": "1.5.0",
      "model_name": "ProgressStyleModel",
      "state": {
       "_model_module": "@jupyter-widgets/controls",
       "_model_module_version": "1.5.0",
       "_model_name": "ProgressStyleModel",
       "_view_count": null,
       "_view_module": "@jupyter-widgets/base",
       "_view_module_version": "1.2.0",
       "_view_name": "StyleView",
       "bar_color": null,
       "description_width": ""
      }
     },
     "c014496a640e4f2c8668701f09c1289a": {
      "model_module": "@jupyter-widgets/controls",
      "model_module_version": "1.5.0",
      "model_name": "DescriptionStyleModel",
      "state": {
       "_model_module": "@jupyter-widgets/controls",
       "_model_module_version": "1.5.0",
       "_model_name": "DescriptionStyleModel",
       "_view_count": null,
       "_view_module": "@jupyter-widgets/base",
       "_view_module_version": "1.2.0",
       "_view_name": "StyleView",
       "description_width": ""
      }
     },
     "c5df70e6f62f4a15a995079f7b4f2fc5": {
      "model_module": "@jupyter-widgets/controls",
      "model_module_version": "1.5.0",
      "model_name": "ProgressStyleModel",
      "state": {
       "_model_module": "@jupyter-widgets/controls",
       "_model_module_version": "1.5.0",
       "_model_name": "ProgressStyleModel",
       "_view_count": null,
       "_view_module": "@jupyter-widgets/base",
       "_view_module_version": "1.2.0",
       "_view_name": "StyleView",
       "bar_color": null,
       "description_width": ""
      }
     },
     "ca5243a6aa0442cc8e1407fb407873a4": {
      "model_module": "@jupyter-widgets/controls",
      "model_module_version": "1.5.0",
      "model_name": "DescriptionStyleModel",
      "state": {
       "_model_module": "@jupyter-widgets/controls",
       "_model_module_version": "1.5.0",
       "_model_name": "DescriptionStyleModel",
       "_view_count": null,
       "_view_module": "@jupyter-widgets/base",
       "_view_module_version": "1.2.0",
       "_view_name": "StyleView",
       "description_width": ""
      }
     },
     "cad38e2757584b19a135b4c51c4ec7c5": {
      "model_module": "@jupyter-widgets/controls",
      "model_module_version": "1.5.0",
      "model_name": "DescriptionStyleModel",
      "state": {
       "_model_module": "@jupyter-widgets/controls",
       "_model_module_version": "1.5.0",
       "_model_name": "DescriptionStyleModel",
       "_view_count": null,
       "_view_module": "@jupyter-widgets/base",
       "_view_module_version": "1.2.0",
       "_view_name": "StyleView",
       "description_width": ""
      }
     },
     "cc91d8453d544acfbfe718f0fc95e707": {
      "model_module": "@jupyter-widgets/controls",
      "model_module_version": "1.5.0",
      "model_name": "DescriptionStyleModel",
      "state": {
       "_model_module": "@jupyter-widgets/controls",
       "_model_module_version": "1.5.0",
       "_model_name": "DescriptionStyleModel",
       "_view_count": null,
       "_view_module": "@jupyter-widgets/base",
       "_view_module_version": "1.2.0",
       "_view_name": "StyleView",
       "description_width": ""
      }
     },
     "cd4089524336480b964b949e93142a89": {
      "model_module": "@jupyter-widgets/controls",
      "model_module_version": "1.5.0",
      "model_name": "DescriptionStyleModel",
      "state": {
       "_model_module": "@jupyter-widgets/controls",
       "_model_module_version": "1.5.0",
       "_model_name": "DescriptionStyleModel",
       "_view_count": null,
       "_view_module": "@jupyter-widgets/base",
       "_view_module_version": "1.2.0",
       "_view_name": "StyleView",
       "description_width": ""
      }
     },
     "ce44f80e7d21420d8067ed444f8fce7d": {
      "model_module": "@jupyter-widgets/base",
      "model_module_version": "1.2.0",
      "model_name": "LayoutModel",
      "state": {
       "_model_module": "@jupyter-widgets/base",
       "_model_module_version": "1.2.0",
       "_model_name": "LayoutModel",
       "_view_count": null,
       "_view_module": "@jupyter-widgets/base",
       "_view_module_version": "1.2.0",
       "_view_name": "LayoutView",
       "align_content": null,
       "align_items": null,
       "align_self": null,
       "border": null,
       "bottom": null,
       "display": null,
       "flex": null,
       "flex_flow": null,
       "grid_area": null,
       "grid_auto_columns": null,
       "grid_auto_flow": null,
       "grid_auto_rows": null,
       "grid_column": null,
       "grid_gap": null,
       "grid_row": null,
       "grid_template_areas": null,
       "grid_template_columns": null,
       "grid_template_rows": null,
       "height": null,
       "justify_content": null,
       "justify_items": null,
       "left": null,
       "margin": null,
       "max_height": null,
       "max_width": null,
       "min_height": null,
       "min_width": null,
       "object_fit": null,
       "object_position": null,
       "order": null,
       "overflow": null,
       "overflow_x": null,
       "overflow_y": null,
       "padding": null,
       "right": null,
       "top": null,
       "visibility": null,
       "width": null
      }
     },
     "cf16801fab614a52b437763ad5dd5c1c": {
      "model_module": "@jupyter-widgets/base",
      "model_module_version": "1.2.0",
      "model_name": "LayoutModel",
      "state": {
       "_model_module": "@jupyter-widgets/base",
       "_model_module_version": "1.2.0",
       "_model_name": "LayoutModel",
       "_view_count": null,
       "_view_module": "@jupyter-widgets/base",
       "_view_module_version": "1.2.0",
       "_view_name": "LayoutView",
       "align_content": null,
       "align_items": null,
       "align_self": null,
       "border": null,
       "bottom": null,
       "display": null,
       "flex": null,
       "flex_flow": null,
       "grid_area": null,
       "grid_auto_columns": null,
       "grid_auto_flow": null,
       "grid_auto_rows": null,
       "grid_column": null,
       "grid_gap": null,
       "grid_row": null,
       "grid_template_areas": null,
       "grid_template_columns": null,
       "grid_template_rows": null,
       "height": null,
       "justify_content": null,
       "justify_items": null,
       "left": null,
       "margin": null,
       "max_height": null,
       "max_width": null,
       "min_height": null,
       "min_width": null,
       "object_fit": null,
       "object_position": null,
       "order": null,
       "overflow": null,
       "overflow_x": null,
       "overflow_y": null,
       "padding": null,
       "right": null,
       "top": null,
       "visibility": null,
       "width": null
      }
     },
     "d112476929bf4c778a5d7b024ca3883d": {
      "model_module": "@jupyter-widgets/controls",
      "model_module_version": "1.5.0",
      "model_name": "FloatProgressModel",
      "state": {
       "_dom_classes": [],
       "_model_module": "@jupyter-widgets/controls",
       "_model_module_version": "1.5.0",
       "_model_name": "FloatProgressModel",
       "_view_count": null,
       "_view_module": "@jupyter-widgets/controls",
       "_view_module_version": "1.5.0",
       "_view_name": "ProgressView",
       "bar_style": "success",
       "description": "",
       "description_tooltip": null,
       "layout": "IPY_MODEL_28e23011cc314b54be8865ba00ad5b88",
       "max": 665.0,
       "min": 0.0,
       "orientation": "horizontal",
       "style": "IPY_MODEL_f7827a5a4aef45c591b2e51ec2807265",
       "value": 665.0
      }
     },
     "d34e6f5531364b50afe33f6c3cef1b4d": {
      "model_module": "@jupyter-widgets/base",
      "model_module_version": "1.2.0",
      "model_name": "LayoutModel",
      "state": {
       "_model_module": "@jupyter-widgets/base",
       "_model_module_version": "1.2.0",
       "_model_name": "LayoutModel",
       "_view_count": null,
       "_view_module": "@jupyter-widgets/base",
       "_view_module_version": "1.2.0",
       "_view_name": "LayoutView",
       "align_content": null,
       "align_items": null,
       "align_self": null,
       "border": null,
       "bottom": null,
       "display": null,
       "flex": null,
       "flex_flow": null,
       "grid_area": null,
       "grid_auto_columns": null,
       "grid_auto_flow": null,
       "grid_auto_rows": null,
       "grid_column": null,
       "grid_gap": null,
       "grid_row": null,
       "grid_template_areas": null,
       "grid_template_columns": null,
       "grid_template_rows": null,
       "height": null,
       "justify_content": null,
       "justify_items": null,
       "left": null,
       "margin": null,
       "max_height": null,
       "max_width": null,
       "min_height": null,
       "min_width": null,
       "object_fit": null,
       "object_position": null,
       "order": null,
       "overflow": null,
       "overflow_x": null,
       "overflow_y": null,
       "padding": null,
       "right": null,
       "top": null,
       "visibility": null,
       "width": null
      }
     },
     "d6b0c955c1f5498f859ec26c8e3cff09": {
      "model_module": "@jupyter-widgets/controls",
      "model_module_version": "1.5.0",
      "model_name": "ProgressStyleModel",
      "state": {
       "_model_module": "@jupyter-widgets/controls",
       "_model_module_version": "1.5.0",
       "_model_name": "ProgressStyleModel",
       "_view_count": null,
       "_view_module": "@jupyter-widgets/base",
       "_view_module_version": "1.2.0",
       "_view_name": "StyleView",
       "bar_color": null,
       "description_width": ""
      }
     },
     "db4dd9a8047840fb904ef758965026b8": {
      "model_module": "@jupyter-widgets/base",
      "model_module_version": "1.2.0",
      "model_name": "LayoutModel",
      "state": {
       "_model_module": "@jupyter-widgets/base",
       "_model_module_version": "1.2.0",
       "_model_name": "LayoutModel",
       "_view_count": null,
       "_view_module": "@jupyter-widgets/base",
       "_view_module_version": "1.2.0",
       "_view_name": "LayoutView",
       "align_content": null,
       "align_items": null,
       "align_self": null,
       "border": null,
       "bottom": null,
       "display": null,
       "flex": null,
       "flex_flow": null,
       "grid_area": null,
       "grid_auto_columns": null,
       "grid_auto_flow": null,
       "grid_auto_rows": null,
       "grid_column": null,
       "grid_gap": null,
       "grid_row": null,
       "grid_template_areas": null,
       "grid_template_columns": null,
       "grid_template_rows": null,
       "height": null,
       "justify_content": null,
       "justify_items": null,
       "left": null,
       "margin": null,
       "max_height": null,
       "max_width": null,
       "min_height": null,
       "min_width": null,
       "object_fit": null,
       "object_position": null,
       "order": null,
       "overflow": null,
       "overflow_x": null,
       "overflow_y": null,
       "padding": null,
       "right": null,
       "top": null,
       "visibility": null,
       "width": null
      }
     },
     "dba40964d3b94925b49d8435b441a114": {
      "model_module": "@jupyter-widgets/base",
      "model_module_version": "1.2.0",
      "model_name": "LayoutModel",
      "state": {
       "_model_module": "@jupyter-widgets/base",
       "_model_module_version": "1.2.0",
       "_model_name": "LayoutModel",
       "_view_count": null,
       "_view_module": "@jupyter-widgets/base",
       "_view_module_version": "1.2.0",
       "_view_name": "LayoutView",
       "align_content": null,
       "align_items": null,
       "align_self": null,
       "border": null,
       "bottom": null,
       "display": null,
       "flex": null,
       "flex_flow": null,
       "grid_area": null,
       "grid_auto_columns": null,
       "grid_auto_flow": null,
       "grid_auto_rows": null,
       "grid_column": null,
       "grid_gap": null,
       "grid_row": null,
       "grid_template_areas": null,
       "grid_template_columns": null,
       "grid_template_rows": null,
       "height": null,
       "justify_content": null,
       "justify_items": null,
       "left": null,
       "margin": null,
       "max_height": null,
       "max_width": null,
       "min_height": null,
       "min_width": null,
       "object_fit": null,
       "object_position": null,
       "order": null,
       "overflow": null,
       "overflow_x": null,
       "overflow_y": null,
       "padding": null,
       "right": null,
       "top": null,
       "visibility": null,
       "width": null
      }
     },
     "e235a08d76a84446a905cbd37d2874c3": {
      "model_module": "@jupyter-widgets/base",
      "model_module_version": "1.2.0",
      "model_name": "LayoutModel",
      "state": {
       "_model_module": "@jupyter-widgets/base",
       "_model_module_version": "1.2.0",
       "_model_name": "LayoutModel",
       "_view_count": null,
       "_view_module": "@jupyter-widgets/base",
       "_view_module_version": "1.2.0",
       "_view_name": "LayoutView",
       "align_content": null,
       "align_items": null,
       "align_self": null,
       "border": null,
       "bottom": null,
       "display": null,
       "flex": null,
       "flex_flow": null,
       "grid_area": null,
       "grid_auto_columns": null,
       "grid_auto_flow": null,
       "grid_auto_rows": null,
       "grid_column": null,
       "grid_gap": null,
       "grid_row": null,
       "grid_template_areas": null,
       "grid_template_columns": null,
       "grid_template_rows": null,
       "height": null,
       "justify_content": null,
       "justify_items": null,
       "left": null,
       "margin": null,
       "max_height": null,
       "max_width": null,
       "min_height": null,
       "min_width": null,
       "object_fit": null,
       "object_position": null,
       "order": null,
       "overflow": null,
       "overflow_x": null,
       "overflow_y": null,
       "padding": null,
       "right": null,
       "top": null,
       "visibility": null,
       "width": null
      }
     },
     "e997ae1af9d64b39a9da8235ec15ba0c": {
      "model_module": "@jupyter-widgets/controls",
      "model_module_version": "1.5.0",
      "model_name": "FloatProgressModel",
      "state": {
       "_dom_classes": [],
       "_model_module": "@jupyter-widgets/controls",
       "_model_module_version": "1.5.0",
       "_model_name": "FloatProgressModel",
       "_view_count": null,
       "_view_module": "@jupyter-widgets/controls",
       "_view_module_version": "1.5.0",
       "_view_name": "ProgressView",
       "bar_style": "success",
       "description": "",
       "description_tooltip": null,
       "layout": "IPY_MODEL_b9156a585a654f028b99dcb5564fcb45",
       "max": 456318.0,
       "min": 0.0,
       "orientation": "horizontal",
       "style": "IPY_MODEL_c5df70e6f62f4a15a995079f7b4f2fc5",
       "value": 456318.0
      }
     },
     "f7827a5a4aef45c591b2e51ec2807265": {
      "model_module": "@jupyter-widgets/controls",
      "model_module_version": "1.5.0",
      "model_name": "ProgressStyleModel",
      "state": {
       "_model_module": "@jupyter-widgets/controls",
       "_model_module_version": "1.5.0",
       "_model_name": "ProgressStyleModel",
       "_view_count": null,
       "_view_module": "@jupyter-widgets/base",
       "_view_module_version": "1.2.0",
       "_view_name": "StyleView",
       "bar_color": null,
       "description_width": ""
      }
     },
     "fa1475efd6d4416b8ef36030c0df8944": {
      "model_module": "@jupyter-widgets/base",
      "model_module_version": "1.2.0",
      "model_name": "LayoutModel",
      "state": {
       "_model_module": "@jupyter-widgets/base",
       "_model_module_version": "1.2.0",
       "_model_name": "LayoutModel",
       "_view_count": null,
       "_view_module": "@jupyter-widgets/base",
       "_view_module_version": "1.2.0",
       "_view_name": "LayoutView",
       "align_content": null,
       "align_items": null,
       "align_self": null,
       "border": null,
       "bottom": null,
       "display": null,
       "flex": null,
       "flex_flow": null,
       "grid_area": null,
       "grid_auto_columns": null,
       "grid_auto_flow": null,
       "grid_auto_rows": null,
       "grid_column": null,
       "grid_gap": null,
       "grid_row": null,
       "grid_template_areas": null,
       "grid_template_columns": null,
       "grid_template_rows": null,
       "height": null,
       "justify_content": null,
       "justify_items": null,
       "left": null,
       "margin": null,
       "max_height": null,
       "max_width": null,
       "min_height": null,
       "min_width": null,
       "object_fit": null,
       "object_position": null,
       "order": null,
       "overflow": null,
       "overflow_x": null,
       "overflow_y": null,
       "padding": null,
       "right": null,
       "top": null,
       "visibility": null,
       "width": null
      }
     },
     "fb03a8260b21471aae3b1a976e36b13c": {
      "model_module": "@jupyter-widgets/controls",
      "model_module_version": "1.5.0",
      "model_name": "DescriptionStyleModel",
      "state": {
       "_model_module": "@jupyter-widgets/controls",
       "_model_module_version": "1.5.0",
       "_model_name": "DescriptionStyleModel",
       "_view_count": null,
       "_view_module": "@jupyter-widgets/base",
       "_view_module_version": "1.2.0",
       "_view_name": "StyleView",
       "description_width": ""
      }
     },
     "fe9fb0e9c6604475b4a795bd00d6cd88": {
      "model_module": "@jupyter-widgets/controls",
      "model_module_version": "1.5.0",
      "model_name": "FloatProgressModel",
      "state": {
       "_dom_classes": [],
       "_model_module": "@jupyter-widgets/controls",
       "_model_module_version": "1.5.0",
       "_model_name": "FloatProgressModel",
       "_view_count": null,
       "_view_module": "@jupyter-widgets/controls",
       "_view_module_version": "1.5.0",
       "_view_name": "ProgressView",
       "bar_style": "success",
       "description": "",
       "description_tooltip": null,
       "layout": "IPY_MODEL_86e81434ad514d15aab5993a4ca15c15",
       "max": 124.0,
       "min": 0.0,
       "orientation": "horizontal",
       "style": "IPY_MODEL_bacf07f6602c4bda94786787aca4ce0e",
       "value": 124.0
      }
     }
    },
    "version_major": 2,
    "version_minor": 0
   }
  }
 },
 "nbformat": 4,
 "nbformat_minor": 5
}
