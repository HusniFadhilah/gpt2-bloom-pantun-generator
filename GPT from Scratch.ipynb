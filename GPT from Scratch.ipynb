{
 "cells": [
  {
   "cell_type": "markdown",
   "id": "e1d4236f",
   "metadata": {
    "papermill": {
     "duration": 0.006823,
     "end_time": "2024-06-08T04:48:22.859062",
     "exception": false,
     "start_time": "2024-06-08T04:48:22.852239",
     "status": "completed"
    },
    "tags": []
   },
   "source": [
    "https://www.kaggle.com/code/husnifadhilah/building-a-transformer-gpt-from-scratch"
   ]
  },
  {
   "cell_type": "markdown",
   "id": "171408b2",
   "metadata": {},
   "source": [
    "code adpoted from https://www.kaggle.com/code/kevinbnisch/building-a-transformer-gpt-from-scratch"
   ]
  },
  {
   "cell_type": "code",
   "execution_count": 1,
   "id": "267701e2",
   "metadata": {
    "execution": {
     "iopub.execute_input": "2024-06-08T04:48:22.874301Z",
     "iopub.status.busy": "2024-06-08T04:48:22.873448Z",
     "iopub.status.idle": "2024-06-08T04:48:29.547510Z",
     "shell.execute_reply": "2024-06-08T04:48:29.546397Z"
    },
    "papermill": {
     "duration": 6.684372,
     "end_time": "2024-06-08T04:48:29.549909",
     "exception": false,
     "start_time": "2024-06-08T04:48:22.865537",
     "status": "completed"
    },
    "tags": []
   },
   "outputs": [
    {
     "name": "stdout",
     "output_type": "stream",
     "text": [
      "[nltk_data] Downloading package punkt to /usr/share/nltk_data...\n",
      "[nltk_data]   Package punkt is already up-to-date!\n"
     ]
    },
    {
     "data": {
      "text/plain": [
       "True"
      ]
     },
     "execution_count": 1,
     "metadata": {},
     "output_type": "execute_result"
    }
   ],
   "source": [
    "import torch, nltk, os, re, math\n",
    "import pandas as pd\n",
    "import torch.nn as nn\n",
    "import numpy as np\n",
    "import matplotlib.pyplot as plt\n",
    "from torch.nn import functional as F\n",
    "\n",
    "nltk.download('punkt')"
   ]
  },
  {
   "cell_type": "code",
   "execution_count": 2,
   "id": "a968dffc",
   "metadata": {
    "execution": {
     "iopub.execute_input": "2024-06-08T04:48:29.564450Z",
     "iopub.status.busy": "2024-06-08T04:48:29.563964Z",
     "iopub.status.idle": "2024-06-08T04:48:29.638761Z",
     "shell.execute_reply": "2024-06-08T04:48:29.637704Z"
    },
    "papermill": {
     "duration": 0.084449,
     "end_time": "2024-06-08T04:48:29.641001",
     "exception": false,
     "start_time": "2024-06-08T04:48:29.556552",
     "status": "completed"
    },
    "tags": []
   },
   "outputs": [
    {
     "data": {
      "text/plain": [
       "<torch._C.Generator at 0x7e26e0dcb210>"
      ]
     },
     "execution_count": 2,
     "metadata": {},
     "output_type": "execute_result"
    }
   ],
   "source": [
    "# ========== Hyperparameters\n",
    "batch_size = 64\n",
    "block_size = 256 # We will predict the 257 token on the basis of the 256 before that now!\n",
    "max_iters = 50000\n",
    "eval_interval = 500\n",
    "learning_rate = 3e-4 # Bring down the learning rate\n",
    "device = 'cuda' if torch.cuda.is_available() else 'cpu'\n",
    "eval_iters = 200\n",
    "n_embd = 384 # 384 / 6 = 64\n",
    "n_head = 6\n",
    "n_layer = 4\n",
    "dropout = 0.2\n",
    "output_dir = \"/kaggle/working/\"\n",
    "# ==========================\n",
    "torch.manual_seed(1337)"
   ]
  },
  {
   "cell_type": "code",
   "execution_count": 3,
   "id": "87be190c",
   "metadata": {
    "execution": {
     "iopub.execute_input": "2024-06-08T04:48:29.655862Z",
     "iopub.status.busy": "2024-06-08T04:48:29.655477Z",
     "iopub.status.idle": "2024-06-08T04:48:29.703367Z",
     "shell.execute_reply": "2024-06-08T04:48:29.702260Z"
    },
    "papermill": {
     "duration": 0.058072,
     "end_time": "2024-06-08T04:48:29.705742",
     "exception": false,
     "start_time": "2024-06-08T04:48:29.647670",
     "status": "completed"
    },
    "tags": []
   },
   "outputs": [
    {
     "data": {
      "text/html": [
       "<div>\n",
       "<style scoped>\n",
       "    .dataframe tbody tr th:only-of-type {\n",
       "        vertical-align: middle;\n",
       "    }\n",
       "\n",
       "    .dataframe tbody tr th {\n",
       "        vertical-align: top;\n",
       "    }\n",
       "\n",
       "    .dataframe thead th {\n",
       "        text-align: right;\n",
       "    }\n",
       "</style>\n",
       "<table border=\"1\" class=\"dataframe\">\n",
       "  <thead>\n",
       "    <tr style=\"text-align: right;\">\n",
       "      <th></th>\n",
       "      <th>teks</th>\n",
       "      <th>tipe</th>\n",
       "    </tr>\n",
       "  </thead>\n",
       "  <tbody>\n",
       "    <tr>\n",
       "      <th>0</th>\n",
       "      <td>Ada motor ada sepeda \\n Semuanya beroda dua \\n...</td>\n",
       "      <td>Pantun Adat dan Alam</td>\n",
       "    </tr>\n",
       "    <tr>\n",
       "      <th>1</th>\n",
       "      <td>Ada pisang ada semangka \\n Jika dimakan manis ...</td>\n",
       "      <td>Pantun Adat dan Alam</td>\n",
       "    </tr>\n",
       "    <tr>\n",
       "      <th>2</th>\n",
       "      <td>Ada rusa ada buaya \\n Sungguh hitam warna mata...</td>\n",
       "      <td>Pantun Adat dan Alam</td>\n",
       "    </tr>\n",
       "    <tr>\n",
       "      <th>3</th>\n",
       "      <td>Alat timbang pucuknya patah \\n Beli baru henda...</td>\n",
       "      <td>Pantun Adat dan Alam</td>\n",
       "    </tr>\n",
       "    <tr>\n",
       "      <th>4</th>\n",
       "      <td>Anak cina makan petai \\n Kakinya terikat ranta...</td>\n",
       "      <td>Pantun Adat dan Alam</td>\n",
       "    </tr>\n",
       "    <tr>\n",
       "      <th>...</th>\n",
       "      <td>...</td>\n",
       "      <td>...</td>\n",
       "    </tr>\n",
       "    <tr>\n",
       "      <th>1445</th>\n",
       "      <td>Jalan-jalan ke surabaya \\n Pulangnya beli hadi...</td>\n",
       "      <td>NaN</td>\n",
       "    </tr>\n",
       "    <tr>\n",
       "      <th>1446</th>\n",
       "      <td>Hari malam gelap-gelita \\n Pasang lilin jalan ...</td>\n",
       "      <td>NaN</td>\n",
       "    </tr>\n",
       "    <tr>\n",
       "      <th>1447</th>\n",
       "      <td>Apa guna berkain batik \\n Kalau tidak dengan s...</td>\n",
       "      <td>NaN</td>\n",
       "    </tr>\n",
       "    <tr>\n",
       "      <th>1448</th>\n",
       "      <td>Buah cempedak di luar pagar \\n Ambil galah tol...</td>\n",
       "      <td>NaN</td>\n",
       "    </tr>\n",
       "    <tr>\n",
       "      <th>1449</th>\n",
       "      <td>Surat ditulis dalam gelap \\n Salah huruf banya...</td>\n",
       "      <td>Pantun Agama</td>\n",
       "    </tr>\n",
       "  </tbody>\n",
       "</table>\n",
       "<p>1450 rows × 2 columns</p>\n",
       "</div>"
      ],
      "text/plain": [
       "                                                   teks                  tipe\n",
       "0     Ada motor ada sepeda \\n Semuanya beroda dua \\n...  Pantun Adat dan Alam\n",
       "1     Ada pisang ada semangka \\n Jika dimakan manis ...  Pantun Adat dan Alam\n",
       "2     Ada rusa ada buaya \\n Sungguh hitam warna mata...  Pantun Adat dan Alam\n",
       "3     Alat timbang pucuknya patah \\n Beli baru henda...  Pantun Adat dan Alam\n",
       "4     Anak cina makan petai \\n Kakinya terikat ranta...  Pantun Adat dan Alam\n",
       "...                                                 ...                   ...\n",
       "1445  Jalan-jalan ke surabaya \\n Pulangnya beli hadi...                   NaN\n",
       "1446  Hari malam gelap-gelita \\n Pasang lilin jalan ...                   NaN\n",
       "1447  Apa guna berkain batik \\n Kalau tidak dengan s...                   NaN\n",
       "1448  Buah cempedak di luar pagar \\n Ambil galah tol...                   NaN\n",
       "1449  Surat ditulis dalam gelap \\n Salah huruf banya...          Pantun Agama\n",
       "\n",
       "[1450 rows x 2 columns]"
      ]
     },
     "execution_count": 3,
     "metadata": {},
     "output_type": "execute_result"
    }
   ],
   "source": [
    "df = pd.read_csv('/kaggle/input/dataset-pantun-indonesia/dataset-pantun.csv')\n",
    "df = df[['teks','tipe']]\n",
    "df"
   ]
  },
  {
   "cell_type": "code",
   "execution_count": 4,
   "id": "66f04c99",
   "metadata": {
    "execution": {
     "iopub.execute_input": "2024-06-08T04:48:29.721333Z",
     "iopub.status.busy": "2024-06-08T04:48:29.720649Z",
     "iopub.status.idle": "2024-06-08T04:48:29.728149Z",
     "shell.execute_reply": "2024-06-08T04:48:29.727207Z"
    },
    "papermill": {
     "duration": 0.017459,
     "end_time": "2024-06-08T04:48:29.730233",
     "exception": false,
     "start_time": "2024-06-08T04:48:29.712774",
     "status": "completed"
    },
    "tags": []
   },
   "outputs": [
    {
     "data": {
      "text/plain": [
       "'Ada motor ada sepeda \\\\n Semuanya beroda dua \\\\n Indonesia kaya budaya \\\\n Sepatutnya kita menjaganya\\n\\nAda pisang ada semangka \\\\n Jika dimakan manis rasanya \\\\n Indonesia ragam budaya \\\\n Tugas kita tuk menjaganya\\n\\nAda rusa ada buaya \\\\n Sungguh hitam warn'"
      ]
     },
     "execution_count": 4,
     "metadata": {},
     "output_type": "execute_result"
    }
   ],
   "source": [
    "# Replace '\\n' with true line breaks\n",
    "# df['teks'] = df['teks'].str.replace('\\\\n', '\\n')\n",
    "# Add two empty lines between rows\n",
    "# df['teks'] = df['teks'].apply(lambda x: x + '\\n\\n')\n",
    "# df['teks'] = df['teks'].apply(preprocess_text)\n",
    "# Combine all texts into one complete text with three empty lines between each row\n",
    "text = '\\n\\n'.join(df['teks'])\n",
    "text[:250]"
   ]
  },
  {
   "cell_type": "code",
   "execution_count": 5,
   "id": "86d21c5d",
   "metadata": {
    "execution": {
     "iopub.execute_input": "2024-06-08T04:48:29.745536Z",
     "iopub.status.busy": "2024-06-08T04:48:29.744784Z",
     "iopub.status.idle": "2024-06-08T04:48:29.753014Z",
     "shell.execute_reply": "2024-06-08T04:48:29.752074Z"
    },
    "papermill": {
     "duration": 0.018244,
     "end_time": "2024-06-08T04:48:29.755288",
     "exception": false,
     "start_time": "2024-06-08T04:48:29.737044",
     "status": "completed"
    },
    "tags": []
   },
   "outputs": [
    {
     "name": "stdout",
     "output_type": "stream",
     "text": [
      "\n",
      " !&'(),-/01245789:?ABCDEFGHIJKLMNOPQRSTUVWXYZ\\abcdefghijklmnopqrstuvwxyz–\n",
      "74\n"
     ]
    }
   ],
   "source": [
    "chars = sorted(list(set(text)))\n",
    "vocab_size = len(chars)\n",
    "print(''.join(chars))\n",
    "print(vocab_size)"
   ]
  },
  {
   "cell_type": "code",
   "execution_count": 6,
   "id": "04ea80ca",
   "metadata": {
    "execution": {
     "iopub.execute_input": "2024-06-08T04:48:29.770409Z",
     "iopub.status.busy": "2024-06-08T04:48:29.770074Z",
     "iopub.status.idle": "2024-06-08T04:48:29.852689Z",
     "shell.execute_reply": "2024-06-08T04:48:29.851581Z"
    },
    "papermill": {
     "duration": 0.092928,
     "end_time": "2024-06-08T04:48:29.855078",
     "exception": false,
     "start_time": "2024-06-08T04:48:29.762150",
     "status": "completed"
    },
    "tags": []
   },
   "outputs": [],
   "source": [
    "# Tokenizer\n",
    "chars = sorted(list(set(text)))\n",
    "vocab_size = len(chars)\n",
    "lookup_table_in = { ch:i for i,ch in enumerate(chars)}\n",
    "lookup_table_out = { i:ch for i,ch in enumerate(chars)}\n",
    "encode = lambda s: [lookup_table_in[c] for c in s] # Encoder\n",
    "decode = lambda l: ''.join([lookup_table_out[i] for i in l]) # Decoder\n",
    "data = torch.tensor(encode(text), dtype=torch.long)\n",
    "\n",
    "# Train and Test Split\n",
    "n = int(0.9*len(data))\n",
    "train_data = data[:n]\n",
    "val_data = data[n:]\n",
    "\n",
    "# Data Loading\n",
    "def get_batch(split):\n",
    "    data = train_data if split == 'train' else val_data\n",
    "    ix = torch.randint(len(data) - block_size, (batch_size,))\n",
    "    x = torch.stack([data[i:i+block_size] for i in ix])\n",
    "    y = torch.stack([data[i+1:i+block_size+1] for i in ix])\n",
    "    x, y = x.to(device), y.to(device)\n",
    "    return x, y\n",
    "\n",
    "# Loss\n",
    "@torch.no_grad()\n",
    "def estimate_loss():\n",
    "    out = {}\n",
    "    model.eval()\n",
    "    for split in ['train', 'val']:\n",
    "        losses = torch.zeros(eval_iters)\n",
    "        for k in range(eval_iters):\n",
    "            X, Y = get_batch(split)\n",
    "            logits, loss = model(X, Y)\n",
    "            losses[k] = loss.item()\n",
    "        out[split] = losses.mean()\n",
    "    model.train()\n",
    "    return out"
   ]
  },
  {
   "cell_type": "code",
   "execution_count": 7,
   "id": "6a50aec4",
   "metadata": {
    "execution": {
     "iopub.execute_input": "2024-06-08T04:48:29.871302Z",
     "iopub.status.busy": "2024-06-08T04:48:29.870945Z",
     "iopub.status.idle": "2024-06-08T04:48:29.897452Z",
     "shell.execute_reply": "2024-06-08T04:48:29.896386Z"
    },
    "papermill": {
     "duration": 0.037361,
     "end_time": "2024-06-08T04:48:29.899620",
     "exception": false,
     "start_time": "2024-06-08T04:48:29.862259",
     "status": "completed"
    },
    "tags": []
   },
   "outputs": [],
   "source": [
    "# =========== Transformer Components:\n",
    "\n",
    "class Head(nn.Module):\n",
    "    \"\"\" one head of self-attention \"\"\"\n",
    "\n",
    "    def __init__(self, head_size):\n",
    "        super().__init__()\n",
    "        self.key = nn.Linear(n_embd, head_size, bias=False)\n",
    "        self.query = nn.Linear(n_embd, head_size, bias=False)\n",
    "        self.value = nn.Linear(n_embd, head_size, bias=False)\n",
    "        self.register_buffer('tril', torch.tril(torch.ones(block_size, block_size)))\n",
    "        \n",
    "        self.dropout = nn.Dropout(dropout) # <----- Added Dropout!\n",
    "\n",
    "    def forward(self, x):\n",
    "        B,T,C = x.shape\n",
    "        k = self.key(x)   # (B,T,hs)\n",
    "        q = self.query(x) # (B,T,hs)\n",
    "        wei = q @ k.transpose(-2,-1) * k.shape[-1]**-0.5\n",
    "        wei = wei.masked_fill(self.tril[:T, :T] == 0, float('-inf'))\n",
    "        wei = F.softmax(wei, dim=-1)\n",
    "        wei = self.dropout(wei) # <------ Added Dropout!\n",
    "        v = self.value(x)\n",
    "        out = wei @ v\n",
    "        return out\n",
    "\n",
    "class MultiHeadAttention(nn.Module):\n",
    "    \"\"\" multiple heads of self-attention in parallel \"\"\"\n",
    "\n",
    "    def __init__(self, num_heads, head_size):\n",
    "        super().__init__()\n",
    "        # Added the possibility to add heads per parameter and loop. That's it.\n",
    "        self.heads = nn.ModuleList([Head(head_size) for _ in range(num_heads)])\n",
    "        self.proj = nn.Linear(head_size * num_heads, n_embd)\n",
    "        self.dropout = nn.Dropout(dropout) # <----- More Dropout!\n",
    "\n",
    "    def forward(self, x):\n",
    "        out = torch.cat([h(x) for h in self.heads], dim=-1)\n",
    "        out = self.dropout(self.proj(out)) # <----- More Dropout!\n",
    "        return out\n",
    "\n",
    "class FeedFoward(nn.Module):\n",
    "    \"\"\" a simple linear layer followed by a non-linearity \"\"\"\n",
    "\n",
    "    def __init__(self, n_embd):\n",
    "        super().__init__()\n",
    "        self.net = nn.Sequential(\n",
    "            nn.Linear(n_embd, 4 * n_embd),\n",
    "            nn.ReLU(),\n",
    "            nn.Linear(4 * n_embd, n_embd),\n",
    "            nn.Dropout(dropout), # <----- More Dropout!\n",
    "        )\n",
    "\n",
    "    def forward(self, x):\n",
    "        return self.net(x)\n",
    "    \n",
    "class Block(nn.Module):\n",
    "    \"\"\" Transformer block: communication followed by computation \"\"\"\n",
    "\n",
    "    def __init__(self, n_embd, n_head):\n",
    "        super().__init__()\n",
    "        head_size = n_embd // n_head\n",
    "        self.sa = MultiHeadAttention(n_head, head_size)\n",
    "        self.ffwd = FeedFoward(n_embd)\n",
    "        self.ln1 = nn.LayerNorm(n_embd)\n",
    "        self.ln2 = nn.LayerNorm(n_embd)\n",
    "\n",
    "    def forward(self, x):\n",
    "        x = x + self.sa(self.ln1(x))\n",
    "        x = x + self.ffwd(self.ln2(x))\n",
    "        return x\n",
    "\n",
    "# We now don't have a BigramLanguage anymore\n",
    "class GPTLanguageModel(nn.Module):\n",
    "\n",
    "    def __init__(self):\n",
    "        super().__init__()\n",
    "        self.token_embedding_table = nn.Embedding(vocab_size, n_embd)\n",
    "        self.position_embedding_table = nn.Embedding(block_size, n_embd)\n",
    "        # Added the possibility to add heads per parameter and loop. That's it.\n",
    "        self.blocks = nn.Sequential(*[Block(n_embd, n_head=n_head) for _ in range(n_layer)])\n",
    "        self.ln_f = nn.LayerNorm(n_embd)\n",
    "        self.lm_head = nn.Linear(n_embd, vocab_size)\n",
    "\n",
    "    def forward(self, idx, targets=None):\n",
    "        B, T = idx.shape\n",
    "        tok_emb = self.token_embedding_table(idx)\n",
    "        pos_emb = self.position_embedding_table(torch.arange(T, device=device))\n",
    "        x = tok_emb + pos_emb\n",
    "        x = self.blocks(x)\n",
    "        x = self.ln_f(x)\n",
    "        logits = self.lm_head(x)\n",
    "\n",
    "        if targets is None:\n",
    "            loss = None\n",
    "        else:\n",
    "            B, T, C = logits.shape\n",
    "            logits = logits.view(B*T, C)\n",
    "            targets = targets.view(B*T)\n",
    "            loss = F.cross_entropy(logits, targets)\n",
    "\n",
    "        return logits, loss\n",
    "\n",
    "    def generate(self, idx, max_new_tokens):\n",
    "        for _ in range(max_new_tokens):\n",
    "            idx_cond = idx[:, -block_size:]\n",
    "            logits, loss = self(idx_cond)\n",
    "            logits = logits[:, -1, :]\n",
    "            probs = F.softmax(logits, dim=-1)\n",
    "            idx_next = torch.multinomial(probs, num_samples=1) # (B, 1)\n",
    "            idx = torch.cat((idx, idx_next), dim=1) # (B, T+1)\n",
    "        return idx"
   ]
  },
  {
   "cell_type": "code",
   "execution_count": 8,
   "id": "48ec70f4",
   "metadata": {
    "execution": {
     "iopub.execute_input": "2024-06-08T04:48:29.915417Z",
     "iopub.status.busy": "2024-06-08T04:48:29.915071Z",
     "iopub.status.idle": "2024-06-08T04:48:31.569623Z",
     "shell.execute_reply": "2024-06-08T04:48:31.568487Z"
    },
    "papermill": {
     "duration": 1.665621,
     "end_time": "2024-06-08T04:48:31.572547",
     "exception": false,
     "start_time": "2024-06-08T04:48:29.906926",
     "status": "completed"
    },
    "tags": []
   },
   "outputs": [
    {
     "name": "stdout",
     "output_type": "stream",
     "text": [
      "7.249226 M parameters\n",
      "GPTLanguageModel(\n",
      "  (token_embedding_table): Embedding(74, 384)\n",
      "  (position_embedding_table): Embedding(256, 384)\n",
      "  (blocks): Sequential(\n",
      "    (0): Block(\n",
      "      (sa): MultiHeadAttention(\n",
      "        (heads): ModuleList(\n",
      "          (0-5): 6 x Head(\n",
      "            (key): Linear(in_features=384, out_features=64, bias=False)\n",
      "            (query): Linear(in_features=384, out_features=64, bias=False)\n",
      "            (value): Linear(in_features=384, out_features=64, bias=False)\n",
      "            (dropout): Dropout(p=0.2, inplace=False)\n",
      "          )\n",
      "        )\n",
      "        (proj): Linear(in_features=384, out_features=384, bias=True)\n",
      "        (dropout): Dropout(p=0.2, inplace=False)\n",
      "      )\n",
      "      (ffwd): FeedFoward(\n",
      "        (net): Sequential(\n",
      "          (0): Linear(in_features=384, out_features=1536, bias=True)\n",
      "          (1): ReLU()\n",
      "          (2): Linear(in_features=1536, out_features=384, bias=True)\n",
      "          (3): Dropout(p=0.2, inplace=False)\n",
      "        )\n",
      "      )\n",
      "      (ln1): LayerNorm((384,), eps=1e-05, elementwise_affine=True)\n",
      "      (ln2): LayerNorm((384,), eps=1e-05, elementwise_affine=True)\n",
      "    )\n",
      "    (1): Block(\n",
      "      (sa): MultiHeadAttention(\n",
      "        (heads): ModuleList(\n",
      "          (0-5): 6 x Head(\n",
      "            (key): Linear(in_features=384, out_features=64, bias=False)\n",
      "            (query): Linear(in_features=384, out_features=64, bias=False)\n",
      "            (value): Linear(in_features=384, out_features=64, bias=False)\n",
      "            (dropout): Dropout(p=0.2, inplace=False)\n",
      "          )\n",
      "        )\n",
      "        (proj): Linear(in_features=384, out_features=384, bias=True)\n",
      "        (dropout): Dropout(p=0.2, inplace=False)\n",
      "      )\n",
      "      (ffwd): FeedFoward(\n",
      "        (net): Sequential(\n",
      "          (0): Linear(in_features=384, out_features=1536, bias=True)\n",
      "          (1): ReLU()\n",
      "          (2): Linear(in_features=1536, out_features=384, bias=True)\n",
      "          (3): Dropout(p=0.2, inplace=False)\n",
      "        )\n",
      "      )\n",
      "      (ln1): LayerNorm((384,), eps=1e-05, elementwise_affine=True)\n",
      "      (ln2): LayerNorm((384,), eps=1e-05, elementwise_affine=True)\n",
      "    )\n",
      "    (2): Block(\n",
      "      (sa): MultiHeadAttention(\n",
      "        (heads): ModuleList(\n",
      "          (0-5): 6 x Head(\n",
      "            (key): Linear(in_features=384, out_features=64, bias=False)\n",
      "            (query): Linear(in_features=384, out_features=64, bias=False)\n",
      "            (value): Linear(in_features=384, out_features=64, bias=False)\n",
      "            (dropout): Dropout(p=0.2, inplace=False)\n",
      "          )\n",
      "        )\n",
      "        (proj): Linear(in_features=384, out_features=384, bias=True)\n",
      "        (dropout): Dropout(p=0.2, inplace=False)\n",
      "      )\n",
      "      (ffwd): FeedFoward(\n",
      "        (net): Sequential(\n",
      "          (0): Linear(in_features=384, out_features=1536, bias=True)\n",
      "          (1): ReLU()\n",
      "          (2): Linear(in_features=1536, out_features=384, bias=True)\n",
      "          (3): Dropout(p=0.2, inplace=False)\n",
      "        )\n",
      "      )\n",
      "      (ln1): LayerNorm((384,), eps=1e-05, elementwise_affine=True)\n",
      "      (ln2): LayerNorm((384,), eps=1e-05, elementwise_affine=True)\n",
      "    )\n",
      "    (3): Block(\n",
      "      (sa): MultiHeadAttention(\n",
      "        (heads): ModuleList(\n",
      "          (0-5): 6 x Head(\n",
      "            (key): Linear(in_features=384, out_features=64, bias=False)\n",
      "            (query): Linear(in_features=384, out_features=64, bias=False)\n",
      "            (value): Linear(in_features=384, out_features=64, bias=False)\n",
      "            (dropout): Dropout(p=0.2, inplace=False)\n",
      "          )\n",
      "        )\n",
      "        (proj): Linear(in_features=384, out_features=384, bias=True)\n",
      "        (dropout): Dropout(p=0.2, inplace=False)\n",
      "      )\n",
      "      (ffwd): FeedFoward(\n",
      "        (net): Sequential(\n",
      "          (0): Linear(in_features=384, out_features=1536, bias=True)\n",
      "          (1): ReLU()\n",
      "          (2): Linear(in_features=1536, out_features=384, bias=True)\n",
      "          (3): Dropout(p=0.2, inplace=False)\n",
      "        )\n",
      "      )\n",
      "      (ln1): LayerNorm((384,), eps=1e-05, elementwise_affine=True)\n",
      "      (ln2): LayerNorm((384,), eps=1e-05, elementwise_affine=True)\n",
      "    )\n",
      "  )\n",
      "  (ln_f): LayerNorm((384,), eps=1e-05, elementwise_affine=True)\n",
      "  (lm_head): Linear(in_features=384, out_features=74, bias=True)\n",
      ")\n"
     ]
    }
   ],
   "source": [
    "# Train =============================\n",
    "model = GPTLanguageModel()\n",
    "model = model.to(device)\n",
    "# create a PyTorch optimizer\n",
    "optimizer = torch.optim.AdamW(model.parameters(), lr=learning_rate)\n",
    "# print the number of parameters in the model\n",
    "print(sum(p.numel() for p in model.parameters())/1e6, 'M parameters')\n",
    "print(model)"
   ]
  },
  {
   "cell_type": "code",
   "execution_count": 9,
   "id": "423d749e",
   "metadata": {
    "execution": {
     "iopub.execute_input": "2024-06-08T04:48:31.589967Z",
     "iopub.status.busy": "2024-06-08T04:48:31.589421Z",
     "iopub.status.idle": "2024-06-08T08:04:12.512020Z",
     "shell.execute_reply": "2024-06-08T08:04:12.510886Z"
    },
    "papermill": {
     "duration": 11740.93412,
     "end_time": "2024-06-08T08:04:12.514506",
     "exception": false,
     "start_time": "2024-06-08T04:48:31.580386",
     "status": "completed"
    },
    "tags": []
   },
   "outputs": [
    {
     "name": "stdout",
     "output_type": "stream",
     "text": [
      "step 0: train loss 4.4435, val loss 4.4451\n",
      "step 500: train loss 1.8036, val loss 1.8113\n",
      "step 1000: train loss 1.4681, val loss 1.5643\n",
      "step 1500: train loss 1.2078, val loss 1.4555\n",
      "step 2000: train loss 0.9917, val loss 1.4627\n",
      "step 2500: train loss 0.7764, val loss 1.5588\n",
      "step 3000: train loss 0.5749, val loss 1.6964\n",
      "step 3500: train loss 0.4046, val loss 1.8775\n",
      "step 4000: train loss 0.2725, val loss 2.0599\n",
      "step 4500: train loss 0.1936, val loss 2.2644\n",
      "step 5000: train loss 0.1445, val loss 2.4214\n",
      "step 5500: train loss 0.1113, val loss 2.6197\n",
      "step 6000: train loss 0.0929, val loss 2.7179\n",
      "step 6500: train loss 0.0828, val loss 2.8372\n",
      "step 7000: train loss 0.0759, val loss 2.9771\n",
      "step 7500: train loss 0.0725, val loss 3.0356\n",
      "step 8000: train loss 0.0697, val loss 3.1447\n",
      "step 8500: train loss 0.0674, val loss 3.1926\n",
      "step 9000: train loss 0.0661, val loss 3.2725\n",
      "step 9500: train loss 0.0639, val loss 3.3272\n",
      "step 10000: train loss 0.0632, val loss 3.3715\n",
      "step 10500: train loss 0.0615, val loss 3.4629\n",
      "step 11000: train loss 0.0609, val loss 3.4810\n",
      "step 11500: train loss 0.0605, val loss 3.5144\n",
      "step 12000: train loss 0.0594, val loss 3.5959\n",
      "step 12500: train loss 0.0583, val loss 3.5845\n",
      "step 13000: train loss 0.0579, val loss 3.6485\n",
      "step 13500: train loss 0.0568, val loss 3.6936\n",
      "step 14000: train loss 0.0568, val loss 3.7383\n",
      "step 14500: train loss 0.0561, val loss 3.7450\n",
      "step 15000: train loss 0.0557, val loss 3.7969\n",
      "step 15500: train loss 0.0553, val loss 3.8545\n",
      "step 16000: train loss 0.0542, val loss 3.8946\n",
      "step 16500: train loss 0.0547, val loss 3.8741\n",
      "step 17000: train loss 0.0540, val loss 3.9399\n",
      "step 17500: train loss 0.0539, val loss 3.9769\n",
      "step 18000: train loss 0.0536, val loss 3.9790\n",
      "step 18500: train loss 0.0530, val loss 4.0249\n",
      "step 19000: train loss 0.0525, val loss 4.0264\n",
      "step 19500: train loss 0.0524, val loss 4.0493\n",
      "step 20000: train loss 0.0518, val loss 4.0925\n",
      "step 20500: train loss 0.0517, val loss 4.0498\n",
      "step 21000: train loss 0.0513, val loss 4.1476\n",
      "step 21500: train loss 0.0513, val loss 4.1594\n",
      "step 22000: train loss 0.0507, val loss 4.1511\n",
      "step 22500: train loss 0.0505, val loss 4.1783\n",
      "step 23000: train loss 0.0508, val loss 4.2014\n",
      "step 23500: train loss 0.0502, val loss 4.2141\n",
      "step 24000: train loss 0.0501, val loss 4.2561\n",
      "step 24500: train loss 0.0502, val loss 4.2508\n",
      "step 25000: train loss 0.0496, val loss 4.2744\n",
      "step 25500: train loss 0.0496, val loss 4.2898\n",
      "step 26000: train loss 0.0495, val loss 4.2745\n",
      "step 26500: train loss 0.0491, val loss 4.3283\n",
      "step 27000: train loss 0.0492, val loss 4.2575\n",
      "step 27500: train loss 0.0487, val loss 4.4120\n",
      "step 28000: train loss 0.0489, val loss 4.3350\n",
      "step 28500: train loss 0.0484, val loss 4.3972\n",
      "step 29000: train loss 0.0484, val loss 4.3970\n",
      "step 29500: train loss 0.0483, val loss 4.3662\n",
      "step 30000: train loss 0.0482, val loss 4.3855\n",
      "step 30500: train loss 0.0478, val loss 4.4441\n",
      "step 31000: train loss 0.0481, val loss 4.4155\n",
      "step 31500: train loss 0.0477, val loss 4.4756\n",
      "step 32000: train loss 0.0476, val loss 4.4725\n",
      "step 32500: train loss 0.0474, val loss 4.4948\n",
      "step 33000: train loss 0.0471, val loss 4.4887\n",
      "step 33500: train loss 0.0471, val loss 4.4935\n",
      "step 34000: train loss 0.0471, val loss 4.5626\n",
      "step 34500: train loss 0.0471, val loss 4.5395\n",
      "step 35000: train loss 0.0471, val loss 4.5345\n",
      "step 35500: train loss 0.0469, val loss 4.5265\n",
      "step 36000: train loss 0.0467, val loss 4.5085\n",
      "step 36500: train loss 0.0467, val loss 4.5361\n",
      "step 37000: train loss 0.0466, val loss 4.5501\n",
      "step 37500: train loss 0.0466, val loss 4.6170\n",
      "step 38000: train loss 0.0464, val loss 4.6196\n",
      "step 38500: train loss 0.0462, val loss 4.5988\n",
      "step 39000: train loss 0.0462, val loss 4.5951\n",
      "step 39500: train loss 0.0461, val loss 4.6088\n",
      "step 40000: train loss 0.0460, val loss 4.6479\n",
      "step 40500: train loss 0.0458, val loss 4.6316\n",
      "step 41000: train loss 0.0459, val loss 4.6605\n",
      "step 41500: train loss 0.0458, val loss 4.6242\n",
      "step 42000: train loss 0.0459, val loss 4.6775\n",
      "step 42500: train loss 0.0459, val loss 4.6481\n",
      "step 43000: train loss 0.0458, val loss 4.6360\n",
      "step 43500: train loss 0.0456, val loss 4.6729\n",
      "step 44000: train loss 0.0455, val loss 4.6624\n",
      "step 44500: train loss 0.0452, val loss 4.7473\n",
      "step 45000: train loss 0.0451, val loss 4.7155\n",
      "step 45500: train loss 0.0455, val loss 4.6882\n",
      "step 46000: train loss 0.0456, val loss 4.6344\n",
      "step 46500: train loss 0.0453, val loss 4.7207\n",
      "step 47000: train loss 0.0452, val loss 4.7556\n",
      "step 47500: train loss 0.0450, val loss 4.7198\n",
      "step 48000: train loss 0.0448, val loss 4.7737\n",
      "step 48500: train loss 0.0449, val loss 4.7591\n",
      "step 49000: train loss 0.0447, val loss 4.7566\n",
      "step 49500: train loss 0.0448, val loss 4.7559\n",
      "step 49999: train loss 0.0450, val loss 4.7830\n"
     ]
    },
    {
     "data": {
      "image/png": "[encoded data removed]",
      "text/plain": [
       "<Figure size 640x480 with 1 Axes>"
      ]
     },
     "metadata": {},
     "output_type": "display_data"
    }
   ],
   "source": [
    "# Lists to store training and validation losses\n",
    "train_losses = []\n",
    "val_losses = []\n",
    "\n",
    "for iter in range(max_iters):\n",
    "\n",
    "    # every once in a while evaluate the loss on train and val sets\n",
    "    if iter % eval_interval == 0 or iter == max_iters - 1:\n",
    "        losses = estimate_loss()\n",
    "        print(f\"step {iter}: train loss {losses['train']:.4f}, val loss {losses['val']:.4f}\")\n",
    "\n",
    "        # Append the losses to the respective lists\n",
    "        train_losses.append(losses['train'])\n",
    "        val_losses.append(losses['val'])\n",
    "\n",
    "    # sample a batch of data\n",
    "    xb, yb = get_batch('train')\n",
    "\n",
    "    # evaluate the loss\n",
    "    logits, loss = model(xb, yb)\n",
    "    optimizer.zero_grad(set_to_none=True)\n",
    "    loss.backward()\n",
    "    optimizer.step()\n",
    "\n",
    "# Plotting\n",
    "plt.plot(train_losses, label='Train Loss')\n",
    "plt.plot(val_losses, label='Validation Loss')\n",
    "plt.xlabel('Iteration')\n",
    "plt.ylabel('Loss')\n",
    "plt.title('Training and Validation Loss GPT')\n",
    "plt.legend()\n",
    "plt.savefig('loss_plot.png')\n",
    "plt.show()"
   ]
  },
  {
   "cell_type": "code",
   "execution_count": 10,
   "id": "8e56f2f3",
   "metadata": {
    "execution": {
     "iopub.execute_input": "2024-06-08T08:04:12.551605Z",
     "iopub.status.busy": "2024-06-08T08:04:12.550696Z",
     "iopub.status.idle": "2024-06-08T08:04:25.069935Z",
     "shell.execute_reply": "2024-06-08T08:04:25.068950Z"
    },
    "papermill": {
     "duration": 12.540272,
     "end_time": "2024-06-08T08:04:25.072255",
     "exception": false,
     "start_time": "2024-06-08T08:04:12.531983",
     "status": "completed"
    },
    "tags": []
   },
   "outputs": [
    {
     "name": "stdout",
     "output_type": "stream",
     "text": [
      "\n",
      "Pagi-pagi membeli jamu \\n Disimpan di atas kertas \\n Jangan bosan menuntut ilmu \\n Agar jadi anak yang cerdas\n",
      "\n",
      "Pagi-pagi membeli jamu \\n Jamu disimpan di atas kertas \\n Jangan bosan menuntut ilmu \\n Agar jadi anak yang cerdas\n",
      "\n",
      "Pagi-pagi membeli jamu \\n Jamu disimpan di atas kertas \\n Jangan bosan menuntut ilmu \\n Agar jadi anak yang cerdas\n",
      "\n",
      "Ke pasar membeli duku \\n Uangnya hendak diantar \\n Jangan lupa harus dibayar \\n Kalau ingin jadi dokter \\n Sungguh indah kota Sumedan \\n Kota suka bersudah bertawa \\n Senang sakyit memiliki ribuang \\n Nanti bernasib malang \\n Sebab cantik di meraih minggu \\n Selamat HUT RI yang ke 72 \\n Semoga Indonesia tetap bersatu\n",
      "\n",
      "Sakit kaki ditikam jeruju \\n Jeruju ada di dalam paya \\n Sakit hati memandang susu \\n Susu ada dalam kebaya\n",
      "\n",
      "Banyak orang menggali perigi \\n Ambil buluh kemudian diikat \\n Ilmu dicari tak akan rugi \\n Untuk bekal dunia akhirat\n",
      "\n",
      "Empek-empek bumbu cuka \\n Lezat sekali dirasa lidah \\n Ke kota aku sangat suka \\n Ke desa pun banyak yang ind\n"
     ]
    }
   ],
   "source": [
    "# generate from the model\n",
    "torch.save(model.state_dict(), 'model.pth')\n",
    "context = torch.zeros((1, 1), dtype=torch.long, device=device)\n",
    "generated_poems = decode(model.generate(context, max_new_tokens=1000)[0].tolist())\n",
    "with open(os.path.join(output_dir, 'generated_poems.txt'), \"w\") as outfile:\n",
    "    outfile.write(generated_poems)\n",
    "print(generated_poems)"
   ]
  },
  {
   "cell_type": "code",
   "execution_count": 11,
   "id": "14cd1bf1",
   "metadata": {
    "execution": {
     "iopub.execute_input": "2024-06-08T08:04:25.106929Z",
     "iopub.status.busy": "2024-06-08T08:04:25.106565Z",
     "iopub.status.idle": "2024-06-08T08:04:25.118930Z",
     "shell.execute_reply": "2024-06-08T08:04:25.117950Z"
    },
    "papermill": {
     "duration": 0.032074,
     "end_time": "2024-06-08T08:04:25.121116",
     "exception": false,
     "start_time": "2024-06-08T08:04:25.089042",
     "status": "completed"
    },
    "tags": []
   },
   "outputs": [],
   "source": [
    "def lexical_richness(text):\n",
    "    tokens = nltk.word_tokenize(text.lower())\n",
    "    if len(tokens) == 0:\n",
    "        return 0  # Mengembalikan 0 jika tidak ada token\n",
    "    unique_tokens = set(tokens)\n",
    "    return (len(unique_tokens) / len(tokens)) * 100\n",
    "\n",
    "\n",
    "def calculate_richness_score(pantun_list):\n",
    "    richness_scores = [lexical_richness(pantun) for pantun in pantun_list]\n",
    "    return sum(richness_scores) / len(richness_scores)\n",
    "\n",
    "def calculate_structure_accuracy(pantun_list):\n",
    "    correct_structure_count = 0\n",
    "    total_pantun_count = len(pantun_list)\n",
    "    for pantun in pantun_list:\n",
    "        # Check if the pantun has correct structure\n",
    "        if len(pantun.split('\\\\n')) == 4:\n",
    "            correct_structure_count += 1\n",
    "    structure_accuracy = correct_structure_count / total_pantun_count*100\n",
    "    return structure_accuracy\n",
    "\n",
    "def rhyme_check(pantun):\n",
    "    # Memisahkan setiap baris pantun\n",
    "    lines = pantun.split(\"\\\\n\")\n",
    "    \n",
    "    # Mengambil kata terakhir dari setiap baris (jika ada)\n",
    "    last_words = [line.split()[-1].lower() if line.strip() else \"\" for line in lines]\n",
    "    \n",
    "    # Mendefinisikan fungsi untuk mendapatkan vokal terakhir dari setiap kata\n",
    "    def get_last_vowel(word):\n",
    "        vowels = \"aiueo\"\n",
    "        for char in reversed(word):\n",
    "            if char.lower() in vowels:\n",
    "                return char.lower()\n",
    "        return None\n",
    "    \n",
    "    # Mendapatkan vokal terakhir dari setiap kata\n",
    "    last_vowels = [get_last_vowel(word) for word in last_words]\n",
    "    \n",
    "    # Memeriksa kecocokan rima\n",
    "    if len(last_vowels) == 4 and last_vowels[0] == last_vowels[2] and last_vowels[1] == last_vowels[3]:\n",
    "        return 1\n",
    "    else:\n",
    "        return 0\n",
    "    \n",
    "def calculate_rhyme_correctness(pantuns):\n",
    "    total_pantuns = len(pantuns)\n",
    "    total_correct = 0\n",
    "    \n",
    "    for pantun in pantuns:\n",
    "        if rhyme_check(pantun):\n",
    "            total_correct += 1\n",
    "    \n",
    "    rhyme_correctness = (total_correct / total_pantuns) * 100\n",
    "    return rhyme_correctness"
   ]
  },
  {
   "cell_type": "code",
   "execution_count": 12,
   "id": "cece4604",
   "metadata": {
    "execution": {
     "iopub.execute_input": "2024-06-08T08:04:25.156316Z",
     "iopub.status.busy": "2024-06-08T08:04:25.155575Z",
     "iopub.status.idle": "2024-06-08T08:04:25.162421Z",
     "shell.execute_reply": "2024-06-08T08:04:25.161463Z"
    },
    "papermill": {
     "duration": 0.026929,
     "end_time": "2024-06-08T08:04:25.164662",
     "exception": false,
     "start_time": "2024-06-08T08:04:25.137733",
     "status": "completed"
    },
    "tags": []
   },
   "outputs": [
    {
     "name": "stdout",
     "output_type": "stream",
     "text": [
      "['\\nPagi-pagi membeli jamu \\\\n Disimpan di atas kertas \\\\n Jangan bosan menuntut ilmu \\\\n Agar jadi anak yang cerdas', 'Pagi-pagi membeli jamu \\\\n Jamu disimpan di atas kertas \\\\n Jangan bosan menuntut ilmu \\\\n Agar jadi anak yang cerdas', 'Pagi-pagi membeli jamu \\\\n Jamu disimpan di atas kertas \\\\n Jangan bosan menuntut ilmu \\\\n Agar jadi anak yang cerdas', 'Ke pasar membeli duku \\\\n Uangnya hendak diantar \\\\n Jangan lupa harus dibayar \\\\n Kalau ingin jadi dokter \\\\n Sungguh indah kota Sumedan \\\\n Kota suka bersudah bertawa \\\\n Senang sakyit memiliki ribuang \\\\n Nanti bernasib malang \\\\n Sebab cantik di meraih minggu \\\\n Selamat HUT RI yang ke 72 \\\\n Semoga Indonesia tetap bersatu', 'Sakit kaki ditikam jeruju \\\\n Jeruju ada di dalam paya \\\\n Sakit hati memandang susu \\\\n Susu ada dalam kebaya', 'Banyak orang menggali perigi \\\\n Ambil buluh kemudian diikat \\\\n Ilmu dicari tak akan rugi \\\\n Untuk bekal dunia akhirat', 'Empek-empek bumbu cuka \\\\n Lezat sekali dirasa lidah \\\\n Ke kota aku sangat suka \\\\n Ke desa pun banyak yang ind']\n"
     ]
    }
   ],
   "source": [
    "# Membaca teks dari file\n",
    "file_path = \"/kaggle/working/generated_poems.txt\"  # Ubah sesuai dengan path file Anda\n",
    "with open(file_path, \"r\") as file:\n",
    "    pantun_text = file.read()\n",
    "\n",
    "# Memisahkan teks menjadi list tanpa karakter \"\\n\"\n",
    "pantun_list = pantun_text.split('\\n\\n')\n",
    "pantun_list = list(filter(None, pantun_list))\n",
    "# pantun_list = [pantun for pantun in pantun_list if pantun.strip()]\n",
    "# pantun_list = [\"\".join(pantun.split(\"\\n\")) for pantun in pantun_list]\n",
    "# Menampilkan pantun dalam bentuk list\n",
    "print(pantun_list)"
   ]
  },
  {
   "cell_type": "code",
   "execution_count": 13,
   "id": "b8a73063",
   "metadata": {
    "execution": {
     "iopub.execute_input": "2024-06-08T08:04:25.198420Z",
     "iopub.status.busy": "2024-06-08T08:04:25.197887Z",
     "iopub.status.idle": "2024-06-08T08:04:25.216211Z",
     "shell.execute_reply": "2024-06-08T08:04:25.215043Z"
    },
    "papermill": {
     "duration": 0.037792,
     "end_time": "2024-06-08T08:04:25.218407",
     "exception": false,
     "start_time": "2024-06-08T08:04:25.180615",
     "status": "completed"
    },
    "tags": []
   },
   "outputs": [
    {
     "name": "stdout",
     "output_type": "stream",
     "text": [
      "Average Lexical Richness Score: 82.88%\n",
      "Structure Accuracy Score: 85.71%\n",
      "Persentase Rhyme Correctness Score: 71.43%\n"
     ]
    }
   ],
   "source": [
    "average_richness_score = calculate_richness_score(pantun_list)\n",
    "print(f\"Average Lexical Richness Score: {average_richness_score:.2f}%\")\n",
    "\n",
    "accuracy_score = calculate_structure_accuracy(pantun_list)\n",
    "print(f\"Structure Accuracy Score: {accuracy_score:.2f}%\")\n",
    "\n",
    "rhyme_correctness = calculate_rhyme_correctness(pantun_list)\n",
    "print(f\"Persentase Rhyme Correctness Score: {rhyme_correctness:.2f}%\")"
   ]
  },
  {
   "cell_type": "code",
   "execution_count": 14,
   "id": "d60d3d13",
   "metadata": {
    "execution": {
     "iopub.execute_input": "2024-06-08T08:04:25.253404Z",
     "iopub.status.busy": "2024-06-08T08:04:25.252762Z",
     "iopub.status.idle": "2024-06-08T08:04:25.427026Z",
     "shell.execute_reply": "2024-06-08T08:04:25.425998Z"
    },
    "papermill": {
     "duration": 0.194544,
     "end_time": "2024-06-08T08:04:25.429361",
     "exception": false,
     "start_time": "2024-06-08T08:04:25.234817",
     "status": "completed"
    },
    "tags": []
   },
   "outputs": [
    {
     "data": {
      "text/plain": [
       "<All keys matched successfully>"
      ]
     },
     "execution_count": 14,
     "metadata": {},
     "output_type": "execute_result"
    }
   ],
   "source": [
    "model = GPTLanguageModel()\n",
    "model = model.to(device)\n",
    "model.load_state_dict(torch.load('/kaggle/working/model.pth', map_location=device))"
   ]
  },
  {
   "cell_type": "code",
   "execution_count": 15,
   "id": "e11629de",
   "metadata": {
    "execution": {
     "iopub.execute_input": "2024-06-08T08:04:25.465575Z",
     "iopub.status.busy": "2024-06-08T08:04:25.464987Z",
     "iopub.status.idle": "2024-06-08T08:04:47.780568Z",
     "shell.execute_reply": "2024-06-08T08:04:47.779330Z"
    },
    "papermill": {
     "duration": 22.336596,
     "end_time": "2024-06-08T08:04:47.783724",
     "exception": false,
     "start_time": "2024-06-08T08:04:25.447128",
     "status": "completed"
    },
    "tags": []
   },
   "outputs": [
    {
     "name": "stdout",
     "output_type": "stream",
     "text": [
      "Validation Perplexity: 115.9674\n"
     ]
    }
   ],
   "source": [
    "import math\n",
    "\n",
    "# Setelah iterasi pelatihan\n",
    "losses = estimate_loss()\n",
    "train_loss = losses['train']\n",
    "val_loss = losses['val']\n",
    "\n",
    "# Hitung perplexity untuk data validasi\n",
    "val_cross_entropy = val_loss  # Entropi silang pada data validasi\n",
    "val_perplexity = math.exp(val_cross_entropy)  # Perplexity pada data validasi\n",
    "\n",
    "print(f\"Validation Perplexity: {val_perplexity:.4f}\")"
   ]
  },
  {
   "cell_type": "code",
   "execution_count": null,
   "id": "e188dd5e",
   "metadata": {
    "papermill": {
     "duration": 0.017285,
     "end_time": "2024-06-08T08:04:47.822060",
     "exception": false,
     "start_time": "2024-06-08T08:04:47.804775",
     "status": "completed"
    },
    "tags": []
   },
   "outputs": [],
   "source": []
  }
 ],
 "metadata": {
  "kaggle": {
   "accelerator": "gpu",
   "dataSources": [
    {
     "datasetId": 1048231,
     "sourceId": 1763504,
     "sourceType": "datasetVersion"
    },
    {
     "datasetId": 1381345,
     "sourceId": 2291891,
     "sourceType": "datasetVersion"
    },
    {
     "datasetId": 2660745,
     "sourceId": 4558742,
     "sourceType": "datasetVersion"
    },
    {
     "datasetId": 3115106,
     "sourceId": 5368242,
     "sourceType": "datasetVersion"
    },
    {
     "datasetId": 5164392,
     "sourceId": 8626119,
     "sourceType": "datasetVersion"
    },
    {
     "datasetId": 5167312,
     "sourceId": 8633620,
     "sourceType": "datasetVersion"
    },
    {
     "datasetId": 5171140,
     "sourceId": 8635539,
     "sourceType": "datasetVersion"
    }
   ],
   "dockerImageVersionId": 30732,
   "isGpuEnabled": true,
   "isInternetEnabled": true,
   "language": "python",
   "sourceType": "notebook"
  },
  "kernelspec": {
   "display_name": "Python 3",
   "language": "python",
   "name": "python3"
  },
  "language_info": {
   "codemirror_mode": {
    "name": "ipython",
    "version": 3
   },
   "file_extension": ".py",
   "mimetype": "text/x-python",
   "name": "python",
   "nbconvert_exporter": "python",
   "pygments_lexer": "ipython3",
   "version": "3.10.13"
  },
  "papermill": {
   "default_parameters": {},
   "duration": 11789.787437,
   "end_time": "2024-06-08T08:04:49.592191",
   "environment_variables": {},
   "exception": null,
   "input_path": "__notebook__.ipynb",
   "output_path": "__notebook__.ipynb",
   "parameters": {},
   "start_time": "2024-06-08T04:48:19.804754",
   "version": "2.5.0"
  }
 },
 "nbformat": 4,
 "nbformat_minor": 5
}
